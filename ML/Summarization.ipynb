{
 "cells": [
  {
   "cell_type": "code",
   "execution_count": 2,
   "metadata": {},
   "outputs": [],
   "source": [
    "from transformers import pipeline"
   ]
  },
  {
   "cell_type": "code",
   "execution_count": 3,
   "metadata": {},
   "outputs": [
    {
     "data": {
      "application/vnd.jupyter.widget-view+json": {
       "model_id": "e43fbdcbe3cb4c538b864fedc222e60e",
       "version_major": 2,
       "version_minor": 0
      },
      "text/plain": [
       "Downloading:   0%|          | 0.00/1.80k [00:00<?, ?B/s]"
      ]
     },
     "metadata": {},
     "output_type": "display_data"
    },
    {
     "data": {
      "application/vnd.jupyter.widget-view+json": {
       "model_id": "324fe0762cbd48d8bdc506fbb2b15e51",
       "version_major": 2,
       "version_minor": 0
      },
      "text/plain": [
       "Downloading:   0%|          | 0.00/1.22G [00:00<?, ?B/s]"
      ]
     },
     "metadata": {},
     "output_type": "display_data"
    },
    {
     "data": {
      "application/vnd.jupyter.widget-view+json": {
       "model_id": "85a81f402771449ba7174c0552f206f1",
       "version_major": 2,
       "version_minor": 0
      },
      "text/plain": [
       "Downloading:   0%|          | 0.00/899k [00:00<?, ?B/s]"
      ]
     },
     "metadata": {},
     "output_type": "display_data"
    },
    {
     "data": {
      "application/vnd.jupyter.widget-view+json": {
       "model_id": "9c56520fcdc34712a115ed6aa2a48f0e",
       "version_major": 2,
       "version_minor": 0
      },
      "text/plain": [
       "Downloading:   0%|          | 0.00/456k [00:00<?, ?B/s]"
      ]
     },
     "metadata": {},
     "output_type": "display_data"
    },
    {
     "data": {
      "application/vnd.jupyter.widget-view+json": {
       "model_id": "61668be4a8564185a6c58d63d10e35fb",
       "version_major": 2,
       "version_minor": 0
      },
      "text/plain": [
       "Downloading:   0%|          | 0.00/26.0 [00:00<?, ?B/s]"
      ]
     },
     "metadata": {},
     "output_type": "display_data"
    }
   ],
   "source": [
    "summarizer = pipeline('summarization')"
   ]
  },
  {
   "cell_type": "code",
   "execution_count": 5,
   "metadata": {},
   "outputs": [],
   "source": [
    "testtext = \"\"\"Tom Barrack, a longtime supporter of and adviser to former President Donald Trump, was arrested Tuesday on charges he secretly acted in the U.S. as an agent for the United Arab Emirates.\n",
    "\n",
    "Barrack, 74, is accused of failing to register as a foreign agent, conspiracy, obstruction of justice and four counts of making false statements to the FBI.\n",
    "\n",
    "A federal indictment issued by a grand jury in Brooklyn, N.Y., charged that Barrack put pro-UAE language into a Trump campaign speech in May 2016, took direction from UAE officials about what to say in media appearances and an op-ed piece he published just before the 2016 election, and agreed to promote a candidate for ambassador to UAE backed by UAE officials.\n",
    "\n",
    "Prosecutors say Barrack used his insider access to White House officials that he gained through roles like his position as chair of Trump’s inaugural committee to give the UAE “non-public information about the views and reactions of senior U.S. government officials following a White House meeting between senior U.S. officials and senior UAE officials.”\n",
    "\n",
    "Also charged in the case were an aide to Barrack at his investment firm Colony Capital, Matthew Grimes, and a businessman from UAE, Rashid Al-Malik.\n",
    "\n",
    "Prosecutors allege that early in the Trump administration, Barrack sought to be appointed to a high-profile role in Middle East policy, while telling his allies in UAE that such an appointment would be good for them.\n",
    "\n",
    "\"In his communications with Al Malik, the defendant framed his efforts to obtain an official position within the Administration as one that would enable him to further advance the interests of the UAE, rather than the interests of the United States,\" prosecutors wrote in a court filing.\"\"\""
   ]
  },
  {
   "cell_type": "code",
   "execution_count": 6,
   "metadata": {},
   "outputs": [
    {
     "data": {
      "text/plain": [
       "[{'summary_text': ' Tom Barrack, 74, is accused of failing to register as a foreign agent, conspiracy, obstruction of justice and four counts of making false statements to the FBI . A federal indictment issued by a grand jury in Brooklyn, N.Y., charged that Barrack put pro-UAE language into a Trump campaign speech in May 2016 .'}]"
      ]
     },
     "execution_count": 6,
     "metadata": {},
     "output_type": "execute_result"
    }
   ],
   "source": [
    "summarizer(testtext)"
   ]
  },
  {
   "cell_type": "code",
   "execution_count": 7,
   "metadata": {},
   "outputs": [],
   "source": [
    "testtext2 = \"\"\"A major Texas hospital system has reported its first case of the lambda COVID-19 variant, as the state reels from the rampant delta variant.\n",
    "\n",
    "Houston Methodist Hospital, which operates eight hospitals in its network, said the first lambda case was confirmed Monday.\n",
    "\n",
    "The lambda variant was first detected in Peru in December 2020, according to the World Health Organization and makes up 81% of COVID-19 cases sequenced in the country since April 2021, according to a June WHO report. Currently, WHO designates lambda as a \"variant of interest.\"\n",
    "\n",
    "PHOTO: Houston Methodist Baytown Hospital in Baytown, Texas, June 22, 2021.\n",
    "Francois Picard/AFP via Getty Images, FILE\n",
    "Francois Picard/AFP via Getty Images, FILE\n",
    "Houston Methodist Baytown Hospital in Baytown, Texas, June 22, 2021.\n",
    "Houston Methodist had a little over 100 COVID-19 patients across the hospital system last week. That number rose to 185 Monday, with a majority of those infected being unvaccinated, according to a statement released by the hospital Monday.\n",
    "\n",
    "Among those infections, about 85% have been diagnosed with the delta variant, hospital officials said.\n",
    "\n",
    "MORE: Statistics show the stark risks of not getting vaccinated against COVID-19\n",
    "\"We're seeing an alarming spike in the number of COVID-19 cases across the Houston area, with the steepest increase happening over the weekend,\" Houston Methodist said. \"The increased hospitalizations add stress to many of our hospitals that are nearing capacity.\"\n",
    "\n",
    "Hospital president and CEO Dr. Marc Boom stressed it is \"imperative\" that the community \"get vaccinated and decrease virus spread.\"\n",
    "\n",
    "Despite the report of the lambda variant, experts at Houston Methodist say delta is still the primary concern in the U.S.\n",
    "\n",
    "MORE: Delta variant now makes up 83% of cases, CDC director says\n",
    "\"The lambda is the dominant variant in Peru and Peru has had a very difficult time with COVID-19. It shares mutations in common with the alpha variants, the beta, the gamma, which is the dominant variant in Brazil,\" Dr. Wesley Long, medical director of Diagnostic Microbiology at Houston Methodist, told ABC News.\n",
    "\n",
    "\"I don't think there's sufficient evidence at this point that we should be more concerned about lambda than delta, I still think delta is the primary concern for us. There's a lot more evidence that we have that delta is much more contagious, the viral loads are much higher,\" he added.\n",
    "\n",
    "PHOTO: Volunteer doctors and nurses prepare ahead of a COVID-19 vaccine clinic on May 13, 2021 in Houston, Texas.\n",
    "Brandon Bell/Getty Images, FILE\n",
    "Brandon Bell/Getty Images, FILE\n",
    "Volunteer doctors and nurses prepare ahead of a COVID-19 vaccine clinic on May 13, 2021 in Ho...Read More\n",
    "The lambda variant \"has been associated with substantive rates of community transmission in multiple countries, with rising prevalence over time concurrent with increased COVID-19 incidence,\" the WHO said in its June report. In June, the variant was detected in 29 countries.\n",
    "\n",
    "The delta variant, which was first detected in India in December, now accounts for about 83% of all sequenced COVID-19 cases in the United States, Center for Disease Control and Prevention Director Dr. Rochelle Walensky said during a Senate hearing Tuesday. The WHO designates delta as a \"variant of concern.\"\n",
    "\n",
    "MORE: COVID-19 vaccines protect you better than infection, doctors say\n",
    "Long noted that Houston Methodist has seen its positivity rate increase and hospitalizations rise, but the situation on the ground is still \"far below\" the winter peak.\n",
    "\n",
    "\"[Infections are] on the increase. How many more cases are we going to get?\" Long said. \"We're going to need more folks to get vaccinated and folks who aren't vaccinated in particular to practice all the safe practices that we learned through the pandemic to help slow the spread of COVID. All those are critically important to keep this delta wave under control.\"\n",
    "\n",
    "At the moment, 51% of Texas' state population aged 12 and up is fully vaccinated, according to state data.\"\"\""
   ]
  },
  {
   "cell_type": "code",
   "execution_count": 8,
   "metadata": {},
   "outputs": [
    {
     "data": {
      "text/plain": [
       "[{'summary_text': ' A major Texas hospital system has reported its first case of the lambda COVID-19 variant . The lambda variant was first detected in Peru in December 2020, according to WHO . The WHO designates the lambda variant as a \"variant of interest\" in the U.S. Delta variant now makes up 83% of cases, CDC director says .'}]"
      ]
     },
     "execution_count": 8,
     "metadata": {},
     "output_type": "execute_result"
    }
   ],
   "source": [
    "summarizer(testtext2)"
   ]
  },
  {
   "cell_type": "code",
   "execution_count": null,
   "metadata": {},
   "outputs": [],
   "source": []
  }
 ],
 "metadata": {
  "kernelspec": {
   "display_name": "NLPtests",
   "language": "python",
   "name": "nlptests"
  },
  "language_info": {
   "codemirror_mode": {
    "name": "ipython",
    "version": 3
   },
   "file_extension": ".py",
   "mimetype": "text/x-python",
   "name": "python",
   "nbconvert_exporter": "python",
   "pygments_lexer": "ipython3",
   "version": "3.8.8"
  }
 },
 "nbformat": 4,
 "nbformat_minor": 4
}
