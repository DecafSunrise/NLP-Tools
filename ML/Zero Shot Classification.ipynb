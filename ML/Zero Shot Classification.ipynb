{
 "cells": [
  {
   "cell_type": "code",
   "execution_count": 1,
   "metadata": {},
   "outputs": [],
   "source": [
    "from transformers import pipeline"
   ]
  },
  {
   "cell_type": "code",
   "execution_count": 2,
   "metadata": {},
   "outputs": [],
   "source": [
    "classifier = pipeline(\"zero-shot-classification\")"
   ]
  },
  {
   "cell_type": "code",
   "execution_count": 6,
   "metadata": {},
   "outputs": [],
   "source": [
    "candidate_labels = [\"Politics\", \"Business\", \"Technology\", \"Entertainment\", 'Sports', 'Science', 'Health', 'Religion', 'Education']"
   ]
  },
  {
   "cell_type": "code",
   "execution_count": 4,
   "metadata": {},
   "outputs": [],
   "source": [
    "testtext = \"\"\"Tom Barrack, a longtime supporter of and adviser to former President Donald Trump, was arrested Tuesday on charges he secretly acted in the U.S. as an agent for the United Arab Emirates.\n",
    "\n",
    "Barrack, 74, is accused of failing to register as a foreign agent, conspiracy, obstruction of justice and four counts of making false statements to the FBI.\n",
    "\n",
    "A federal indictment issued by a grand jury in Brooklyn, N.Y., charged that Barrack put pro-UAE language into a Trump campaign speech in May 2016, took direction from UAE officials about what to say in media appearances and an op-ed piece he published just before the 2016 election, and agreed to promote a candidate for ambassador to UAE backed by UAE officials.\n",
    "\n",
    "Prosecutors say Barrack used his insider access to White House officials that he gained through roles like his position as chair of Trump’s inaugural committee to give the UAE “non-public information about the views and reactions of senior U.S. government officials following a White House meeting between senior U.S. officials and senior UAE officials.”\n",
    "\n",
    "Also charged in the case were an aide to Barrack at his investment firm Colony Capital, Matthew Grimes, and a businessman from UAE, Rashid Al-Malik.\n",
    "\n",
    "Prosecutors allege that early in the Trump administration, Barrack sought to be appointed to a high-profile role in Middle East policy, while telling his allies in UAE that such an appointment would be good for them.\n",
    "\n",
    "\"In his communications with Al Malik, the defendant framed his efforts to obtain an official position within the Administration as one that would enable him to further advance the interests of the UAE, rather than the interests of the United States,\" prosecutors wrote in a court filing.\"\"\""
   ]
  },
  {
   "cell_type": "code",
   "execution_count": 7,
   "metadata": {},
   "outputs": [
    {
     "data": {
      "text/plain": [
       "{'sequence': 'Tom Barrack, a longtime supporter of and adviser to former President Donald Trump, was arrested Tuesday on charges he secretly acted in the U.S. as an agent for the United Arab Emirates.\\n\\nBarrack, 74, is accused of failing to register as a foreign agent, conspiracy, obstruction of justice and four counts of making false statements to the FBI.\\n\\nA federal indictment issued by a grand jury in Brooklyn, N.Y., charged that Barrack put pro-UAE language into a Trump campaign speech in May 2016, took direction from UAE officials about what to say in media appearances and an op-ed piece he published just before the 2016 election, and agreed to promote a candidate for ambassador to UAE backed by UAE officials.\\n\\nProsecutors say Barrack used his insider access to White House officials that he gained through roles like his position as chair of Trump’s inaugural committee to give the UAE “non-public information about the views and reactions of senior U.S. government officials following a White House meeting between senior U.S. officials and senior UAE officials.”\\n\\nAlso charged in the case were an aide to Barrack at his investment firm Colony Capital, Matthew Grimes, and a businessman from UAE, Rashid Al-Malik.\\n\\nProsecutors allege that early in the Trump administration, Barrack sought to be appointed to a high-profile role in Middle East policy, while telling his allies in UAE that such an appointment would be good for them.\\n\\n\"In his communications with Al Malik, the defendant framed his efforts to obtain an official position within the Administration as one that would enable him to further advance the interests of the UAE, rather than the interests of the United States,\" prosecutors wrote in a court filing.',\n",
       " 'labels': ['Politics',\n",
       "  'Business',\n",
       "  'Health',\n",
       "  'Technology',\n",
       "  'Science',\n",
       "  'Religion',\n",
       "  'Entertainment',\n",
       "  'Sports',\n",
       "  'Education'],\n",
       " 'scores': [0.22518837451934814,\n",
       "  0.1744513362646103,\n",
       "  0.116392120718956,\n",
       "  0.11204344779253006,\n",
       "  0.09577818214893341,\n",
       "  0.07378031313419342,\n",
       "  0.07208779454231262,\n",
       "  0.07086261361837387,\n",
       "  0.05941576510667801]}"
      ]
     },
     "execution_count": 7,
     "metadata": {},
     "output_type": "execute_result"
    }
   ],
   "source": [
    "classifier(testtext, candidate_labels)"
   ]
  },
  {
   "cell_type": "code",
   "execution_count": null,
   "metadata": {},
   "outputs": [],
   "source": []
  }
 ],
 "metadata": {
  "kernelspec": {
   "display_name": "NLPtests",
   "language": "python",
   "name": "nlptests"
  },
  "language_info": {
   "codemirror_mode": {
    "name": "ipython",
    "version": 3
   },
   "file_extension": ".py",
   "mimetype": "text/x-python",
   "name": "python",
   "nbconvert_exporter": "python",
   "pygments_lexer": "ipython3",
   "version": "3.8.8"
  }
 },
 "nbformat": 4,
 "nbformat_minor": 4
}
