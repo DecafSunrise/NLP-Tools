{
 "cells": [
  {
   "cell_type": "code",
   "execution_count": 13,
   "metadata": {},
   "outputs": [],
   "source": [
    "import boilerpy3\n",
    "from boilerpy3 import extractors\n",
    "extractor = extractors.ArticleExtractor()"
   ]
  },
  {
   "cell_type": "code",
   "execution_count": 2,
   "metadata": {},
   "outputs": [],
   "source": [
    "from transformers import LongformerTokenizer, LongformerForQuestionAnswering\n",
    "import torch\n",
    "\n",
    "tokenizer = LongformerTokenizer.from_pretrained(\"allenai/longformer-large-4096-finetuned-triviaqa\")\n",
    "model = LongformerForQuestionAnswering.from_pretrained(\"allenai/longformer-large-4096-finetuned-triviaqa\")"
   ]
  },
  {
   "cell_type": "code",
   "execution_count": 6,
   "metadata": {},
   "outputs": [],
   "source": [
    "# default is local attention everywhere\n",
    "# the forward method will automatically set global attention on question tokens\n",
    "# attention_mask = encoding[\"attention_mask\"]\n",
    "attention_mask = global_attention_mask"
   ]
  },
  {
   "cell_type": "code",
   "execution_count": 28,
   "metadata": {},
   "outputs": [],
   "source": [
    "def QNLI(question, text):\n",
    "    encoding = tokenizer(question, text, return_tensors=\"pt\")\n",
    "    input_ids = encoding[\"input_ids\"]\n",
    "    attention_mask = encoding[\"attention_mask\"]\n",
    "    outputs = model(input_ids, attention_mask=attention_mask)\n",
    "    start_logits = outputs.start_logits\n",
    "    end_logits = outputs.end_logits\n",
    "    all_tokens = tokenizer.convert_ids_to_tokens(input_ids[0].tolist())\n",
    "    answer_tokens = all_tokens[torch.argmax(start_logits) :torch.argmax(end_logits)+1]\n",
    "    answer = tokenizer.decode(tokenizer.convert_tokens_to_ids(answer_tokens)) # remove space prepending space token\n",
    "    \n",
    "    return answer"
   ]
  },
  {
   "cell_type": "code",
   "execution_count": 29,
   "metadata": {},
   "outputs": [
    {
     "data": {
      "text/plain": [
       "' puppet'"
      ]
     },
     "execution_count": 29,
     "metadata": {},
     "output_type": "execute_result"
    }
   ],
   "source": [
    "QNLI(question, text)"
   ]
  },
  {
   "cell_type": "code",
   "execution_count": 14,
   "metadata": {},
   "outputs": [],
   "source": [
    "def getUrlText(url):\n",
    "    doc = extractor.get_doc_from_url(url)\n",
    "    return doc.content"
   ]
  },
  {
   "cell_type": "code",
   "execution_count": 32,
   "metadata": {},
   "outputs": [],
   "source": [
    "# mytext = getUrlText(\"https://hackaday.com/2021/07/19/improving-cheap-sdr-antennas/\")\n",
    "mytext = getUrlText(\"https://abcnews.go.com/Politics/delta-variant-now-makes-83-cases-cdc-director/story?id=78943991\")\n"
   ]
  },
  {
   "cell_type": "code",
   "execution_count": 49,
   "metadata": {},
   "outputs": [],
   "source": [
    "def cleantext(inputtext):\n",
    "    outtext = inputtext.replace(\"\\n\", '')\n",
    "#     outtext = inputtext.replace(\"\\\\\", '')\n",
    "#     outtext = inputtext\n",
    "    return outtext"
   ]
  },
  {
   "cell_type": "code",
   "execution_count": 51,
   "metadata": {},
   "outputs": [],
   "source": [
    "mytext = cleantext(mytext)"
   ]
  },
  {
   "cell_type": "code",
   "execution_count": 35,
   "metadata": {},
   "outputs": [
    {
     "data": {
      "text/plain": [
       "' Janet Woodcock'"
      ]
     },
     "execution_count": 35,
     "metadata": {},
     "output_type": "execute_result"
    }
   ],
   "source": [
    "QNLI(\"Who is the chief of the FDA?\", mytext)"
   ]
  },
  {
   "cell_type": "code",
   "execution_count": 52,
   "metadata": {},
   "outputs": [
    {
     "data": {
      "text/plain": [
       "' Rochelle Walensky told lawmakers Tuesday the delta variant now makes up 83% of cases, up from 50% at the beginning of this month.\"CDC has released estimates of variants across the country and predicted the delta variant now represents 83% of sequenced cases. This is a dramatic increase from -- up from 50% for the week of July 3rd,\" she testified in a hearing before the Senate Health Committee.Walensky said the alarming increase was happening the most in unvaccinated areas and that they were \"allowing for the emergence and rapid spread of the highly transmissible delta variant.\"\"In some parts of the country, the percentage is even higher, particularly in areas of low vaccination rates,\" she said.The best way to stop the spread is with vaccines, she said.\"To date, our data indicates that vaccines are available to neutralize the circulating variants in the United States and provide protection against severe disease, hospitalization, and death,\" she said. \"The message from CDC remains clear: the best way to prevent the spread of COVID-19 variants is to prevent the spread of disease and vaccination is the most powerful tool we have.\"Stefani Reynolds/ReutersRochelle Walensky'"
      ]
     },
     "execution_count": 52,
     "metadata": {},
     "output_type": "execute_result"
    }
   ],
   "source": [
    "QNLI(\"Who is the chief of the CDC?\", mytext)"
   ]
  },
  {
   "cell_type": "code",
   "execution_count": 38,
   "metadata": {},
   "outputs": [
    {
     "data": {
      "text/plain": [
       "' Pfizer'"
      ]
     },
     "execution_count": 38,
     "metadata": {},
     "output_type": "execute_result"
    }
   ],
   "source": [
    "QNLI(\"What companies produces shots?\", mytext)"
   ]
  },
  {
   "cell_type": "code",
   "execution_count": null,
   "metadata": {},
   "outputs": [],
   "source": []
  }
 ],
 "metadata": {
  "kernelspec": {
   "display_name": "NLPtests",
   "language": "python",
   "name": "nlptests"
  },
  "language_info": {
   "codemirror_mode": {
    "name": "ipython",
    "version": 3
   },
   "file_extension": ".py",
   "mimetype": "text/x-python",
   "name": "python",
   "nbconvert_exporter": "python",
   "pygments_lexer": "ipython3",
   "version": "3.8.8"
  }
 },
 "nbformat": 4,
 "nbformat_minor": 4
}
