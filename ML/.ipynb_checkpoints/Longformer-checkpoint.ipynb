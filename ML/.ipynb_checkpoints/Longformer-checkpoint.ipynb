{
 "cells": [
  {
   "cell_type": "code",
   "execution_count": 1,
   "metadata": {},
   "outputs": [],
   "source": [
    "from transformers import pipeline"
   ]
  },
  {
   "cell_type": "code",
   "execution_count": 2,
   "metadata": {},
   "outputs": [
    {
     "data": {
      "application/vnd.jupyter.widget-view+json": {
       "model_id": "cbfc84da48654d9694850b528965eed7",
       "version_major": 2,
       "version_minor": 0
      },
      "text/plain": [
       "Downloading:   0%|          | 0.00/998 [00:00<?, ?B/s]"
      ]
     },
     "metadata": {},
     "output_type": "display_data"
    },
    {
     "data": {
      "application/vnd.jupyter.widget-view+json": {
       "model_id": "3bee3316276e40ab8afd9ec25dac9e34",
       "version_major": 2,
       "version_minor": 0
      },
      "text/plain": [
       "Downloading:   0%|          | 0.00/1.33G [00:00<?, ?B/s]"
      ]
     },
     "metadata": {},
     "output_type": "display_data"
    },
    {
     "data": {
      "application/vnd.jupyter.widget-view+json": {
       "model_id": "30a120aff10647e980eb5cfa2ae9ceb2",
       "version_major": 2,
       "version_minor": 0
      },
      "text/plain": [
       "Downloading:   0%|          | 0.00/213k [00:00<?, ?B/s]"
      ]
     },
     "metadata": {},
     "output_type": "display_data"
    },
    {
     "data": {
      "application/vnd.jupyter.widget-view+json": {
       "model_id": "1ff776991f294e3aadd301c41a91e9ff",
       "version_major": 2,
       "version_minor": 0
      },
      "text/plain": [
       "Downloading:   0%|          | 0.00/60.0 [00:00<?, ?B/s]"
      ]
     },
     "metadata": {},
     "output_type": "display_data"
    }
   ],
   "source": [
    "ner = pipeline('ner', grouped_entities=True)"
   ]
  },
  {
   "cell_type": "code",
   "execution_count": 3,
   "metadata": {},
   "outputs": [],
   "source": [
    "testtext = \"\"\"Tom Barrack, a longtime supporter of and adviser to former President Donald Trump, was arrested Tuesday on charges he secretly acted in the U.S. as an agent for the United Arab Emirates.\n",
    "\n",
    "Barrack, 74, is accused of failing to register as a foreign agent, conspiracy, obstruction of justice and four counts of making false statements to the FBI.\n",
    "\n",
    "A federal indictment issued by a grand jury in Brooklyn, N.Y., charged that Barrack put pro-UAE language into a Trump campaign speech in May 2016, took direction from UAE officials about what to say in media appearances and an op-ed piece he published just before the 2016 election, and agreed to promote a candidate for ambassador to UAE backed by UAE officials.\n",
    "\n",
    "Prosecutors say Barrack used his insider access to White House officials that he gained through roles like his position as chair of Trump’s inaugural committee to give the UAE “non-public information about the views and reactions of senior U.S. government officials following a White House meeting between senior U.S. officials and senior UAE officials.”\n",
    "\n",
    "Also charged in the case were an aide to Barrack at his investment firm Colony Capital, Matthew Grimes, and a businessman from UAE, Rashid Al-Malik.\n",
    "\n",
    "Prosecutors allege that early in the Trump administration, Barrack sought to be appointed to a high-profile role in Middle East policy, while telling his allies in UAE that such an appointment would be good for them.\n",
    "\n",
    "\"In his communications with Al Malik, the defendant framed his efforts to obtain an official position within the Administration as one that would enable him to further advance the interests of the UAE, rather than the interests of the United States,\" prosecutors wrote in a court filing.\"\"\""
   ]
  },
  {
   "cell_type": "code",
   "execution_count": 4,
   "metadata": {},
   "outputs": [
    {
     "data": {
      "text/plain": [
       "[{'entity_group': 'PER',\n",
       "  'score': 0.9995959003766378,\n",
       "  'word': 'Tom Barrack',\n",
       "  'start': 0,\n",
       "  'end': 11},\n",
       " {'entity_group': 'PER',\n",
       "  'score': 0.9987292289733887,\n",
       "  'word': 'Donald Trump',\n",
       "  'start': 69,\n",
       "  'end': 81},\n",
       " {'entity_group': 'LOC',\n",
       "  'score': 0.999707043170929,\n",
       "  'word': 'U',\n",
       "  'start': 140,\n",
       "  'end': 141},\n",
       " {'entity_group': 'LOC',\n",
       "  'score': 0.7578713893890381,\n",
       "  'word': 'S.',\n",
       "  'start': 142,\n",
       "  'end': 144},\n",
       " {'entity_group': 'LOC',\n",
       "  'score': 0.9996739029884338,\n",
       "  'word': 'United Arab Emirates',\n",
       "  'start': 165,\n",
       "  'end': 185},\n",
       " {'entity_group': 'PER',\n",
       "  'score': 0.9991812705993652,\n",
       "  'word': 'Barrack',\n",
       "  'start': 188,\n",
       "  'end': 195},\n",
       " {'entity_group': 'ORG',\n",
       "  'score': 0.9983490705490112,\n",
       "  'word': 'FBI',\n",
       "  'start': 340,\n",
       "  'end': 343},\n",
       " {'entity_group': 'LOC',\n",
       "  'score': 0.9974920749664307,\n",
       "  'word': 'Brooklyn',\n",
       "  'start': 393,\n",
       "  'end': 401},\n",
       " {'entity_group': 'LOC',\n",
       "  'score': 0.9945834875106812,\n",
       "  'word': 'N',\n",
       "  'start': 403,\n",
       "  'end': 404},\n",
       " {'entity_group': 'LOC',\n",
       "  'score': 0.9955518841743469,\n",
       "  'word': 'Y',\n",
       "  'start': 405,\n",
       "  'end': 406},\n",
       " {'entity_group': 'PER',\n",
       "  'score': 0.9968249201774597,\n",
       "  'word': 'Barrack',\n",
       "  'start': 422,\n",
       "  'end': 429},\n",
       " {'entity_group': 'MISC',\n",
       "  'score': 0.951547384262085,\n",
       "  'word': 'pro',\n",
       "  'start': 434,\n",
       "  'end': 437},\n",
       " {'entity_group': 'LOC',\n",
       "  'score': 0.6999068856239319,\n",
       "  'word': 'UAE',\n",
       "  'start': 438,\n",
       "  'end': 441},\n",
       " {'entity_group': 'PER',\n",
       "  'score': 0.9967929720878601,\n",
       "  'word': 'Trump',\n",
       "  'start': 458,\n",
       "  'end': 463},\n",
       " {'entity_group': 'LOC',\n",
       "  'score': 0.9996142983436584,\n",
       "  'word': 'UAE',\n",
       "  'start': 513,\n",
       "  'end': 516},\n",
       " {'entity_group': 'LOC',\n",
       "  'score': 0.9998534321784973,\n",
       "  'word': 'UAE',\n",
       "  'start': 681,\n",
       "  'end': 684},\n",
       " {'entity_group': 'LOC',\n",
       "  'score': 0.9997473359107971,\n",
       "  'word': 'UAE',\n",
       "  'start': 695,\n",
       "  'end': 698},\n",
       " {'entity_group': 'PER',\n",
       "  'score': 0.9945939481258392,\n",
       "  'word': 'Barrack',\n",
       "  'start': 727,\n",
       "  'end': 734},\n",
       " {'entity_group': 'LOC',\n",
       "  'score': 0.9954507648944855,\n",
       "  'word': 'White House',\n",
       "  'start': 762,\n",
       "  'end': 773},\n",
       " {'entity_group': 'PER',\n",
       "  'score': 0.9993743300437927,\n",
       "  'word': 'Trump',\n",
       "  'start': 843,\n",
       "  'end': 848},\n",
       " {'entity_group': 'LOC',\n",
       "  'score': 0.9995906949043274,\n",
       "  'word': 'UAE',\n",
       "  'start': 883,\n",
       "  'end': 886},\n",
       " {'entity_group': 'LOC',\n",
       "  'score': 0.9992655515670776,\n",
       "  'word': 'U',\n",
       "  'start': 951,\n",
       "  'end': 952},\n",
       " {'entity_group': 'LOC',\n",
       "  'score': 0.9962996244430542,\n",
       "  'word': 'S',\n",
       "  'start': 953,\n",
       "  'end': 954},\n",
       " {'entity_group': 'LOC',\n",
       "  'score': 0.9962473511695862,\n",
       "  'word': 'White House',\n",
       "  'start': 989,\n",
       "  'end': 1000},\n",
       " {'entity_group': 'LOC',\n",
       "  'score': 0.9993268847465515,\n",
       "  'word': 'U',\n",
       "  'start': 1024,\n",
       "  'end': 1025},\n",
       " {'entity_group': 'LOC',\n",
       "  'score': 0.9963082671165466,\n",
       "  'word': 'S',\n",
       "  'start': 1026,\n",
       "  'end': 1027},\n",
       " {'entity_group': 'LOC',\n",
       "  'score': 0.9989640712738037,\n",
       "  'word': 'UAE',\n",
       "  'start': 1050,\n",
       "  'end': 1053},\n",
       " {'entity_group': 'PER',\n",
       "  'score': 0.9800325036048889,\n",
       "  'word': 'Barrack',\n",
       "  'start': 1108,\n",
       "  'end': 1115},\n",
       " {'entity_group': 'ORG',\n",
       "  'score': 0.9983081817626953,\n",
       "  'word': 'Colony Capital',\n",
       "  'start': 1139,\n",
       "  'end': 1153},\n",
       " {'entity_group': 'PER',\n",
       "  'score': 0.9996241927146912,\n",
       "  'word': 'Matthew Grimes',\n",
       "  'start': 1155,\n",
       "  'end': 1169},\n",
       " {'entity_group': 'LOC',\n",
       "  'score': 0.9998008012771606,\n",
       "  'word': 'UAE',\n",
       "  'start': 1194,\n",
       "  'end': 1197},\n",
       " {'entity_group': 'PER',\n",
       "  'score': 0.9978225380182266,\n",
       "  'word': 'Rashid Al - Malik',\n",
       "  'start': 1199,\n",
       "  'end': 1214},\n",
       " {'entity_group': 'PER',\n",
       "  'score': 0.9979544878005981,\n",
       "  'word': 'Trump',\n",
       "  'start': 1254,\n",
       "  'end': 1259},\n",
       " {'entity_group': 'PER',\n",
       "  'score': 0.9949491024017334,\n",
       "  'word': 'Barrack',\n",
       "  'start': 1276,\n",
       "  'end': 1283},\n",
       " {'entity_group': 'LOC',\n",
       "  'score': 0.9976604282855988,\n",
       "  'word': 'Middle East',\n",
       "  'start': 1333,\n",
       "  'end': 1344},\n",
       " {'entity_group': 'LOC',\n",
       "  'score': 0.9997418522834778,\n",
       "  'word': 'UAE',\n",
       "  'start': 1381,\n",
       "  'end': 1384},\n",
       " {'entity_group': 'PER',\n",
       "  'score': 0.9987252056598663,\n",
       "  'word': 'Al Malik',\n",
       "  'start': 1463,\n",
       "  'end': 1471},\n",
       " {'entity_group': 'ORG',\n",
       "  'score': 0.4547232389450073,\n",
       "  'word': 'Administration',\n",
       "  'start': 1548,\n",
       "  'end': 1562},\n",
       " {'entity_group': 'LOC',\n",
       "  'score': 0.9995972514152527,\n",
       "  'word': 'UAE',\n",
       "  'start': 1632,\n",
       "  'end': 1635},\n",
       " {'entity_group': 'LOC',\n",
       "  'score': 0.9996444880962372,\n",
       "  'word': 'United States',\n",
       "  'start': 1670,\n",
       "  'end': 1683}]"
      ]
     },
     "execution_count": 4,
     "metadata": {},
     "output_type": "execute_result"
    }
   ],
   "source": [
    "ner(testtext)"
   ]
  },
  {
   "cell_type": "code",
   "execution_count": null,
   "metadata": {},
   "outputs": [],
   "source": []
  }
 ],
 "metadata": {
  "kernelspec": {
   "display_name": "NLPtests",
   "language": "python",
   "name": "nlptests"
  },
  "language_info": {
   "codemirror_mode": {
    "name": "ipython",
    "version": 3
   },
   "file_extension": ".py",
   "mimetype": "text/x-python",
   "name": "python",
   "nbconvert_exporter": "python",
   "pygments_lexer": "ipython3",
   "version": "3.8.8"
  }
 },
 "nbformat": 4,
 "nbformat_minor": 4
}
