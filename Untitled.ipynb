{
 "cells": [
  {
   "cell_type": "code",
   "execution_count": 1,
   "metadata": {},
   "outputs": [],
   "source": [
    "# importing required modules \n",
    "import PyPDF2 \n",
    "    \n",
    "# creating a pdf file object \n",
    "pdfFileObj = open('d:\\Work\\Data\\Mueller Report.pdf', 'rb') "
   ]
  },
  {
   "cell_type": "code",
   "execution_count": 7,
   "metadata": {},
   "outputs": [
    {
     "name": "stdout",
     "output_type": "stream",
     "text": [
      "448\n"
     ]
    }
   ],
   "source": [
    "# creating a pdf reader object \n",
    "pdfReader = PyPDF2.PdfFileReader(pdfFileObj) \n",
    "    \n",
    "# printing number of pages in pdf file \n",
    "print(pdfReader.numPages) "
   ]
  },
  {
   "cell_type": "code",
   "execution_count": null,
   "metadata": {},
   "outputs": [],
   "source": [
    "# creating a page object \n",
    "pageObj = pdfReader.getPage(70) \n",
    "    \n",
    "# extracting text from page \n",
    "print(pageObj.extractText()) "
   ]
  },
  {
   "cell_type": "code",
   "execution_count": 2,
   "metadata": {},
   "outputs": [],
   "source": [
    "\n",
    "# closing the pdf file object \n",
    "pdfFileObj.close() "
   ]
  },
  {
   "cell_type": "code",
   "execution_count": 11,
   "metadata": {},
   "outputs": [],
   "source": [
    "import textract\n",
    "text = textract.process('d:\\Work\\Data\\Mueller Report.pdf', method='pdfminer')"
   ]
  },
  {
   "cell_type": "code",
   "execution_count": 12,
   "metadata": {},
   "outputs": [
    {
     "data": {
      "text/plain": [
       "1312924"
      ]
     },
     "execution_count": 12,
     "metadata": {},
     "output_type": "execute_result"
    }
   ],
   "source": [
    "len(text)"
   ]
  },
  {
   "cell_type": "code",
   "execution_count": 14,
   "metadata": {},
   "outputs": [
    {
     "data": {
      "text/plain": [
       "b'U.S. Department of Justice\\r\\nAttorney Work Product // May Contain Material Protected Under Fed. R. Crim. P. 6(e)\\r\\n\\r\\nReport On The Investigation Into\\r\\nRussian Interference In The\\r\\n2016 Presidential Election\\r\\nVolume I of II\\r\\nSpecial Counsel Robert S. Mueller, III\\r\\nSubmitted Pursuant to 28 C.F.R. \\xc2\\xa7 600.8(c)\\r\\n\\r\\nWashington, D.C.\\r\\nMarch 2019\\r\\n\\r\\n\\x0cU.S. Department of Justice\\r\\nAttorney Work Product // May Contain Material Protected Under Fed. R. Crim. P. 6(e)\\r\\n\\r\\n\\x0cU.S. Department of Justice\\r\\nAttorney Work Product // May Contain Material Protected Under Fed. R. Crim. P. 6(e)\\r\\n\\r\\nTABLE OF CONTENTS \\xe2\\x80\\x93 VOLUME I\\r\\nINTRODUCTION TO VOLUME I .......................................................................................................... 1\\r\\nEXECUTIVE SUMMARY TO VOLUME I............................................................................................... 4\\r\\nI. THE SPECIAL COUNSEL\\xe2\\x80\\x99S INVESTIGATION ................................................................................. 11\\r\\nII. RUSSIAN \\xe2\\x80\\x9cACTIVE MEASURES\\xe2\\x80\\x9d SOCIAL MEDIA CAMPAIGN ..................................................... 14\\r\\nA. Structure of the Internet Research Agency ................................................................. 15\\r\\nB. Funding and Oversight from Concord and Prigozhin ................................................. 16\\r\\nC. The IRA Targets U.S. Elections .................................................................................. 19\\r\\n1. The IRA Ramps Up U.S. Operations As Early As 2014 ...................................... 19\\r\\n2. U.S. Operations Through IRA-Controlled Social Media Accounts ..................... 22\\r\\n3. U.S. Operations Through Facebook...................................................................... 24\\r\\n4. U.S. Operations Through Twitter ......................................................................... 26\\r\\na. Individualized Accounts................................................................................... 26\\r\\nb. IRA Botnet Activities ...................................................................................... 28\\r\\n5. U.S. Operations Involving Political Rallies .......................................................... 29\\r\\n6. Targeting and Recruitment of U.S. Persons.......................................................... 31\\r\\n7. Interactions and Contacts with the Trump Campaign........................................... 33\\r\\na. Trump Campaign Promotion of IRA Political Materials................................. 33\\r\\nb. Contact with Trump Campaign Officials in Connection to Rallies ................. 35\\r\\nIII. RUSSIAN HACKING AND DUMPING OPERATIONS ..................................................................... 36\\r\\nA. GRU Hacking Directed at the Clinton Campaign ....................................................... 36\\r\\n1. GRU Units Target the Clinton Campaign ............................................................. 36\\r\\n2. Intrusions into the DCCC and DNC Networks ..................................................... 38\\r\\na. Initial Access.................................................................................................... 38\\r\\nb. Implantation of Malware on DCCC and DNC Networks ................................ 38\\r\\nc. Theft of Documents from DNC and DCCC Networks .................................... 40\\r\\nB. Dissemination of the Hacked Materials ...................................................................... 41\\r\\n1. DCLeaks ............................................................................................................... 41\\r\\n2. Guccifer 2.0........................................................................................................... 42\\r\\n3. Use of WikiLeaks ................................................................................................. 44\\r\\na. WikiLeaks\\xe2\\x80\\x99s Expressed Opposition Toward the Clinton Campaign ............... 44\\r\\nb. WikiLeaks\\xe2\\x80\\x99s First Contact with Guccifer 2.0 and DCLeaks ........................... 45\\r\\ni\\r\\n\\r\\n\\x0cU.S. Department of Justice\\r\\nAttorney Work Product // May Contain Material Protected Under Fed. R. Crim. P. 6(e)\\r\\n\\r\\nc. The GRU\\xe2\\x80\\x99s Transfer of Stolen Materials to WikiLeaks .................................. 45\\r\\nd.\\r\\n\\r\\nWikiLeaks Statements Dissembling About the Source of Stolen\\r\\nMaterials ........................................................................................................ 48\\r\\n\\r\\nC. Additional GRU Cyber Operations ............................................................................. 49\\r\\n1. Summer and Fall 2016 Operations Targeting Democrat-Linked Victims............ 49\\r\\n2. Intrusions Targeting the Administration of U.S. Elections................................... 50\\r\\nD. Trump Campaign and the Dissemination of Hacked Materials .................................. 51\\r\\n1. HOM\\r\\n\\r\\n.............................................................................................. 51\\r\\n\\r\\na. Background ..........................................................................'"
      ]
     },
     "execution_count": 14,
     "metadata": {},
     "output_type": "execute_result"
    }
   ],
   "source": [
    "text[0:5000]"
   ]
  },
  {
   "cell_type": "code",
   "execution_count": 15,
   "metadata": {},
   "outputs": [],
   "source": [
    "import cleantext"
   ]
  },
  {
   "cell_type": "code",
   "execution_count": 19,
   "metadata": {},
   "outputs": [],
   "source": [
    "text2 = cleantext.clean(text, all= False, # Execute all cleaning operations\n",
    "extra_spaces=True ,  # Remove extra white space \n",
    "# stemming=True , # Stem the words\n",
    "# stopwords=True ,# Remove stop words\n",
    "# lowercase=True ,# Convert to lowercase\n",
    "# numbers=True ,# Remove all digits \n",
    "# punct=True ,# Remove all punctuations\n",
    "# stp_lang='english'  # Language for stop words\n",
    ") "
   ]
  },
  {
   "cell_type": "code",
   "execution_count": 20,
   "metadata": {},
   "outputs": [
    {
     "data": {
      "text/plain": [
       "1431808"
      ]
     },
     "execution_count": 20,
     "metadata": {},
     "output_type": "execute_result"
    }
   ],
   "source": [
    "len(text2)"
   ]
  },
  {
   "cell_type": "code",
   "execution_count": 21,
   "metadata": {},
   "outputs": [
    {
     "data": {
      "text/plain": [
       "\"b'U.S. Department of Justice\\\\r\\\\nAttorney Work Product // May Contain Material Protected Under Fed. R. Crim. P. 6(e)\\\\r\\\\n\\\\r\\\\nReport On The Investigation Into\\\\r\\\\nRussian Interference In The\\\\r\\\\n2016 Presidential Election\\\\r\\\\nVolume I of II\\\\r\\\\nSpecial Counsel Robert S. Mueller, III\\\\r\\\\nSubmitted Pursuant to 28 C.F.R. \\\\xc2\\\\xa7 600.8(c)\\\\r\\\\n\\\\r\\\\nWashington, D.C.\\\\r\\\\nMarch 2019\\\\r\\\\n\\\\r\\\\n\\\\x0cU.S. Department of Justice\\\\r\\\\nAttorney Work Product // May Contain Material Protected Under Fed. R. Crim. P. 6(e)\\\\r\\\\n\\\\r\\\\n\\\\x0cU.S. Department of Justice\\\\r\\\\nAttorney Work Product // May Contain Material Protected Under Fed. R. Crim. P. 6(e)\\\\r\\\\n\\\\r\\\\nTABLE OF CONTENTS \\\\xe2\\\\x80\\\\x93 VOLUME I\\\\r\\\\nINTRODUCTION TO VOLUME I .......................................................................................................... 1\\\\r\\\\nEXECUTIVE SUMMARY TO VOLUME I............................................................................................... 4\\\\r\\\\nI. THE SPECIAL COUNSEL\\\\xe2\\\\x80\\\\x99S INVESTIGATION ................................................................................. 11\\\\r\\\\nII. RUSSIAN \\\\xe2\\\\x80\\\\x9cACTIVE MEASURES\\\\xe2\\\\x80\\\\x9d SOCIAL MEDIA CAMPAIGN ..................................................... 14\\\\r\\\\nA. Structure of the Internet Research Agency ................................................................. 15\\\\r\\\\nB. Funding and Oversight from Concord and Prigozhin ................................................. 16\\\\r\\\\nC. The IRA Targets U.S. Elections .................................................................................. 19\\\\r\\\\n1. The IRA Ramps Up U.S. Operations As Early As 2014 ...................................... 19\\\\r\\\\n2. U.S. Operations Through IRA-Controlled Social Media Accounts ..................... 22\\\\r\\\\n3. U.S. Operations Through Facebook...................................................................... 24\\\\r\\\\n4. U.S. Operations Through Twitter ......................................................................... 26\\\\r\\\\na. Individualized Accounts................................................................................... 26\\\\r\\\\nb. IRA Botnet Activities ...................................................................................... 28\\\\r\\\\n5. U.S. Operations Involving Political Rallies .......................................................... 29\\\\r\\\\n6. Targeting and Recruitment of U.S. Persons.......................................................... 31\\\\r\\\\n7. Interactions and Contacts with the Trump Campaign........................................... 33\\\\r\\\\na. Trump Campaign Promotion of IRA Political Materials................................. 33\\\\r\\\\nb. Contact with Trump Campaign Officials in Connection to Rallies ................. 35\\\\r\\\\nIII. RUSSIAN HACKING AND DUMPING OPERATIONS ..................................................................... 36\\\\r\\\\nA. GRU Hacking Directed at the Clinton Campaign ....................................................... 36\\\\r\\\\n1. GRU Units Target the Clinton Campaign ............................................................. 36\\\\r\\\\n2. Intrusions into the DCCC and DNC Networks ..................................................... 38\\\\r\\\\na. Initial Access.................................................................................................... 38\\\\r\\\\nb. Implantation of Malware on DCCC and DNC Networks ................................ 38\\\\r\\\\nc. Theft of Documents from DNC and DCCC Networks .................................... 40\\\\r\\\\nB. Dissemination of the Hacked Materials ...................................................................... 41\\\\r\\\\n1. DCLeaks ............................................................................................................... 41\\\\r\\\\n2. Guccifer 2.0........................................................................................................... 42\\\\r\\\\n3. Use of WikiLeaks ................................................................................................. 44\\\\r\\\\na. WikiLeaks\\\\xe2\\\\x80\\\\x99s Expressed Opposition Toward the Clinton Campaign ............... 44\\\\r\\\\nb. WikiLeaks\\\\xe2\\\\x80\\\\x99s First Contact with Guccifer 2.0 and DCLeaks ........................... 45\\\\r\\\\ni\\\\r\\\\n\\\\r\\\\n\\\\x0cU.S. Department of Justice\\\\r\\\\nAttorney Work Product // May Contain Material Protected Under Fed. R. Crim. P. 6(e)\\\\r\\\\n\\\\r\\\\nc. The GRU\\\\xe2\\\\x80\\\\x99s Transfer of Stolen Materials to WikiLeaks .................................. 45\\\\r\\\\nd.\\\\r\\\\n\\\\r\\\\nWikiLeaks Statements Dissembling About the Source of Stolen\\\\r\\\\nMaterials ........................................................................................................ 48\\\\r\\\\n\\\\r\\\\nC. Additional GRU Cyber Operations ............................................................................. 49\\\\r\\\\n1. Summer and Fall 2016 Operations Targeting Democrat-Linked Victims............ 49\\\\r\\\\n2. Intrusions Targeting the Administration of U.S. Elections................................... 50\\\\r\\\\nD. Trump Campaign and the Dissemination of Hacked Materials ............................\""
      ]
     },
     "execution_count": 21,
     "metadata": {},
     "output_type": "execute_result"
    }
   ],
   "source": [
    "text2[0:5000]"
   ]
  },
  {
   "cell_type": "code",
   "execution_count": 22,
   "metadata": {},
   "outputs": [
    {
     "ename": "TypeError",
     "evalue": "a bytes-like object is required, not 'str'",
     "output_type": "error",
     "traceback": [
      "\u001b[1;31m---------------------------------------------------------------------------\u001b[0m",
      "\u001b[1;31mTypeError\u001b[0m                                 Traceback (most recent call last)",
      "\u001b[1;32m<ipython-input-22-7c7832fc0cbb>\u001b[0m in \u001b[0;36m<module>\u001b[1;34m\u001b[0m\n\u001b[1;32m----> 1\u001b[1;33m \u001b[0mtext\u001b[0m\u001b[1;33m.\u001b[0m\u001b[0msplit\u001b[0m\u001b[1;33m(\u001b[0m\u001b[1;34m\"\\n\"\u001b[0m\u001b[1;33m)\u001b[0m\u001b[1;33m\u001b[0m\u001b[1;33m\u001b[0m\u001b[0m\n\u001b[0m",
      "\u001b[1;31mTypeError\u001b[0m: a bytes-like object is required, not 'str'"
     ]
    }
   ],
   "source": [
    "text.split(\"\\n\")"
   ]
  },
  {
   "cell_type": "code",
   "execution_count": null,
   "metadata": {},
   "outputs": [],
   "source": []
  }
 ],
 "metadata": {
  "kernelspec": {
   "display_name": "Coding",
   "language": "python",
   "name": "coding"
  },
  "language_info": {
   "codemirror_mode": {
    "name": "ipython",
    "version": 3
   },
   "file_extension": ".py",
   "mimetype": "text/x-python",
   "name": "python",
   "nbconvert_exporter": "python",
   "pygments_lexer": "ipython3",
   "version": "3.8.5"
  }
 },
 "nbformat": 4,
 "nbformat_minor": 4
}
