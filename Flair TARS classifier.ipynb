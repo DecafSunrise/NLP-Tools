{
 "cells": [
  {
   "cell_type": "code",
   "execution_count": 1,
   "metadata": {},
   "outputs": [],
   "source": [
    "import flair"
   ]
  },
  {
   "cell_type": "markdown",
   "metadata": {},
   "source": [
    "https://github.com/flairNLP/flair/blob/master/resources/docs/TUTORIAL_10_TRAINING_ZERO_SHOT_MODEL.md"
   ]
  },
  {
   "cell_type": "code",
   "execution_count": 4,
   "metadata": {},
   "outputs": [
    {
     "name": "stdout",
     "output_type": "stream",
     "text": [
      "2021-05-25 19:57:41,976 loading file C:\\Users\\Danny\\.flair\\models\\tars-base-v8.pt\n",
      "init TARS\n"
     ]
    }
   ],
   "source": [
    "from flair.models.text_classification_model import TARSClassifier\n",
    "from flair.data import Sentence\n",
    "\n",
    "# 1. Load our pre-trained TARS model for English\n",
    "tars = TARSClassifier.load('tars-base')"
   ]
  },
  {
   "cell_type": "code",
   "execution_count": 5,
   "metadata": {},
   "outputs": [],
   "source": [
    "# 2. Prepare a test sentence\n",
    "sentence = Sentence(\"I am so glad you liked it!\")"
   ]
  },
  {
   "cell_type": "code",
   "execution_count": 6,
   "metadata": {},
   "outputs": [],
   "source": [
    "# 3. Define some classes that you want to predict using descriptive names\n",
    "classes = [\"happy\", \"sad\"]"
   ]
  },
  {
   "cell_type": "code",
   "execution_count": 7,
   "metadata": {},
   "outputs": [],
   "source": [
    "#4. Predict for these classes\n",
    "tars.predict_zero_shot(sentence, classes)"
   ]
  },
  {
   "cell_type": "code",
   "execution_count": 8,
   "metadata": {},
   "outputs": [
    {
     "name": "stdout",
     "output_type": "stream",
     "text": [
      "Sentence: \"I am so glad you liked it !\"   [− Tokens: 8  − Sentence-Labels: {'label': [happy (0.8667)]}]\n"
     ]
    }
   ],
   "source": [
    "# Print sentence with predicted labels\n",
    "print(sentence)"
   ]
  },
  {
   "cell_type": "code",
   "execution_count": 16,
   "metadata": {},
   "outputs": [],
   "source": [
    "testtext = Sentence(\"Greene, a first-term lawmaker, has been highly controversial, having already been stripped of her committee assignments for endorsing posts calling for violence against Democrats and suggesting school shootings were a hoax.\")\n",
    "testtext2 = Sentence(\"McCarthy previously declined to remove Greene from her committees, offering just to reassign her, saying she made the comments before she was in office.\")\n",
    "testtext3 = Sentence(\"Kinzinger hasn’t been afraid of laying into Trump-friendly firebrands like Greene, as he was one of 11 Republicans who voted to strip Greene of her committee assignments.\")\n",
    "testtext4 = Sentence(\"Kinzinger has made waves as one of the few Republican lawmakers to consistently rebut Trump’s lies that the 2020 election was stolen from him.\")\n",
    "testtext5 = Sentence(\"After being one of 10 Republican House lawmakers who voted to impeach Trump this year, Kinzinger has become one of his most prominent GOP critics, along with Cheney, who lost her leadership post over her criticism of the former president.\")"
   ]
  },
  {
   "cell_type": "code",
   "execution_count": 23,
   "metadata": {},
   "outputs": [],
   "source": [
    "testext6 = Sentence(\"\"\"“Any standards that we implement must be harmonious with the other security regulations currently applicable to industry,” said Brian Harrell, a former DHS assistant secretary for infrastructure protection.\"\"\")"
   ]
  },
  {
   "cell_type": "code",
   "execution_count": 17,
   "metadata": {},
   "outputs": [],
   "source": [
    "classes = [\"Health\", \"Politics\", \"Cyber\", \"Crime\"]"
   ]
  },
  {
   "cell_type": "code",
   "execution_count": 24,
   "metadata": {},
   "outputs": [],
   "source": [
    "tars.predict_zero_shot(testext6, classes)"
   ]
  },
  {
   "cell_type": "code",
   "execution_count": 25,
   "metadata": {},
   "outputs": [
    {
     "data": {
      "text/plain": [
       "Sentence: \"“ Any standards that we implement must be harmonious with the other security regulations currently applicable to industry ,” said Brian Harrell , a former DHS assistant secretary for infrastructure protection .\"   [− Tokens: 32  − Sentence-Labels: {'label': [Politics (0.9944)]}]"
      ]
     },
     "execution_count": 25,
     "metadata": {},
     "output_type": "execute_result"
    }
   ],
   "source": [
    "testext6"
   ]
  },
  {
   "cell_type": "code",
   "execution_count": null,
   "metadata": {},
   "outputs": [],
   "source": []
  }
 ],
 "metadata": {
  "kernelspec": {
   "display_name": "NLPtests",
   "language": "python",
   "name": "nlptests"
  },
  "language_info": {
   "codemirror_mode": {
    "name": "ipython",
    "version": 3
   },
   "file_extension": ".py",
   "mimetype": "text/x-python",
   "name": "python",
   "nbconvert_exporter": "python",
   "pygments_lexer": "ipython3",
   "version": "3.8.8"
  }
 },
 "nbformat": 4,
 "nbformat_minor": 4
}
