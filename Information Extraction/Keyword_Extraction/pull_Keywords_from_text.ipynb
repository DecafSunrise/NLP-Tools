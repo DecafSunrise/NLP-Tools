{
 "cells": [
  {
   "cell_type": "code",
   "execution_count": 4,
   "id": "77d6796a",
   "metadata": {},
   "outputs": [],
   "source": [
    "#Import libraries\n",
    "from matplotlib_venn import venn2, venn2_circles, venn2_unweighted\n",
    "from matplotlib_venn import venn3, venn3_circles\n",
    "from matplotlib import pyplot as plt\n",
    "%matplotlib inline\n",
    "\n",
    "import yake"
   ]
  },
  {
   "cell_type": "code",
   "execution_count": 3,
   "id": "0af18f5a",
   "metadata": {},
   "outputs": [],
   "source": [
    "import requests\n",
    "import boilerpy3\n",
    "from boilerpy3 import extractors\n",
    "import re\n",
    "\n",
    "import spacy\n",
    "nlp = spacy.load(\"en_core_web_lg\")"
   ]
  },
  {
   "cell_type": "code",
   "execution_count": 5,
   "id": "0a17908b",
   "metadata": {},
   "outputs": [],
   "source": [
    "extractor = extractors.ArticleExtractor()"
   ]
  },
  {
   "cell_type": "code",
   "execution_count": 6,
   "id": "1b2c8ef9",
   "metadata": {},
   "outputs": [],
   "source": [
    "url = 'https://www.cnn.com/2021/09/20/politics/border-patrol-haitian-immigrants-viral-video/index.html'"
   ]
  },
  {
   "cell_type": "code",
   "execution_count": 239,
   "id": "e4626130",
   "metadata": {},
   "outputs": [],
   "source": [
    "yakeo = yake.KeywordExtractor()"
   ]
  },
  {
   "cell_type": "code",
   "execution_count": 240,
   "id": "3779d6eb",
   "metadata": {},
   "outputs": [],
   "source": [
    "doc = extractor.get_doc_from_url(url)"
   ]
  },
  {
   "cell_type": "code",
   "execution_count": 241,
   "id": "5b64859f",
   "metadata": {},
   "outputs": [],
   "source": [
    "def yake_kws(inputDoc):\n",
    "    \n",
    "    return [hit[0] for hit in yakeo.extract_keywords(doc.content)]"
   ]
  },
  {
   "cell_type": "code",
   "execution_count": 242,
   "id": "b2cf5348",
   "metadata": {},
   "outputs": [],
   "source": [
    "def SpaCy_Ents(inputText):\n",
    "    nlpdoc = nlp(inputText)\n",
    "    keeplist = ['GPE', 'LOC', 'ORG', 'PERSON', 'PRODUCT', 'NORP', 'FAC', 'LAW']\n",
    "\n",
    "    outlist = []\n",
    "    for thing in nlpdoc.ents:\n",
    "        if thing.label_ in keeplist:\n",
    "            outlist.append(str(thing))\n",
    "    outlist = list(set(outlist))\n",
    "    return outlist"
   ]
  },
  {
   "cell_type": "code",
   "execution_count": 243,
   "id": "3199fa0e",
   "metadata": {},
   "outputs": [],
   "source": [
    "s1 = SpaCy_Ents(doc.content)"
   ]
  },
  {
   "cell_type": "code",
   "execution_count": 244,
   "id": "64d34fa3",
   "metadata": {},
   "outputs": [
    {
     "data": {
      "text/plain": [
       "['Psaki',\n",
       " 'Getty Images',\n",
       " 'Mexico',\n",
       " 'Mayorkas',\n",
       " 'Office of Professional Responsibility',\n",
       " 'the Office of Professional Responsibility',\n",
       " \"Joe Biden's\",\n",
       " 'John Holman',\n",
       " 'Al Jazeera',\n",
       " 'English',\n",
       " 'DHS',\n",
       " 'Haitians',\n",
       " 'United States Border Patrol',\n",
       " 'Biden',\n",
       " 'Acosta',\n",
       " 'CNN',\n",
       " 'US Customs',\n",
       " 'Border Patrol',\n",
       " 'US',\n",
       " 'Haitian',\n",
       " 'the Del Rio International Bridge',\n",
       " 'Washington',\n",
       " 'Texas',\n",
       " 'The United States',\n",
       " \"Border Protection's\",\n",
       " 'Department',\n",
       " 'US Border Patrol',\n",
       " 'Alejandro Mayorkas',\n",
       " 'PAUL RATJE / AFP',\n",
       " 'B]ut',\n",
       " 'Paul Murphy',\n",
       " 'Jen Psaki',\n",
       " 'Twitter',\n",
       " 'Reuters',\n",
       " 'the Rio Grande',\n",
       " 'Del Rio',\n",
       " 'South America',\n",
       " 'Haiti',\n",
       " 'Ortiz',\n",
       " 'Jovenel Moise',\n",
       " 'the White House',\n",
       " 'White House',\n",
       " 'the Acuna Del Rio International Bridge',\n",
       " 'PAUL RATJE',\n",
       " 'Democratic',\n",
       " 'Raul Ortiz']"
      ]
     },
     "execution_count": 244,
     "metadata": {},
     "output_type": "execute_result"
    }
   ],
   "source": [
    "s1"
   ]
  },
  {
   "cell_type": "code",
   "execution_count": 245,
   "id": "701d166d",
   "metadata": {},
   "outputs": [],
   "source": [
    "y1 = yake_kws(doc.content)"
   ]
  },
  {
   "cell_type": "code",
   "execution_count": 246,
   "id": "bbcb94d6",
   "metadata": {},
   "outputs": [
    {
     "data": {
      "text/plain": [
       "['Del Rio',\n",
       " 'Acosta presses DHS',\n",
       " 'Border Patrol',\n",
       " 'Del Rio International',\n",
       " 'Border Patrol agents',\n",
       " 'Border',\n",
       " 'migrants',\n",
       " 'Rio International Bridge',\n",
       " 'White House press',\n",
       " 'Acosta presses',\n",
       " 'White House',\n",
       " 'Acuna Del Rio',\n",
       " 'Rio',\n",
       " 'States Border Patrol',\n",
       " 'secretary Jen Psaki',\n",
       " 'Border Patrol Chief',\n",
       " 'Patrol',\n",
       " 'Del',\n",
       " 'presses DHS secretary',\n",
       " 'Rio Grande']"
      ]
     },
     "execution_count": 246,
     "metadata": {},
     "output_type": "execute_result"
    }
   ],
   "source": [
    "y1"
   ]
  },
  {
   "cell_type": "code",
   "execution_count": 247,
   "id": "97fcda8a",
   "metadata": {},
   "outputs": [
    {
     "data": {
      "text/plain": [
       "4.761904761904762"
      ]
     },
     "execution_count": 247,
     "metadata": {},
     "output_type": "execute_result"
    }
   ],
   "source": [
    "res = len(set(s1) & set(y1)) / float(len(set(s1) | set(y1))) * 100\n",
    "res"
   ]
  },
  {
   "cell_type": "code",
   "execution_count": 248,
   "id": "fe363f70",
   "metadata": {},
   "outputs": [
    {
     "data": {
      "text/plain": [
       "['Del Rio', 'Border Patrol', 'White House']"
      ]
     },
     "execution_count": 248,
     "metadata": {},
     "output_type": "execute_result"
    }
   ],
   "source": [
    "overlap = [deal for deal in y1 if deal in s1]\n",
    "overlap"
   ]
  },
  {
   "cell_type": "code",
   "execution_count": 249,
   "id": "47a8752c",
   "metadata": {},
   "outputs": [
    {
     "data": {
      "text/plain": [
       "<matplotlib_venn._common.VennDiagram at 0x1fa21dfa070>"
      ]
     },
     "execution_count": 249,
     "metadata": {},
     "output_type": "execute_result"
    },
    {
     "data": {
      "image/png": "[encoded data removed]",
      "text/plain": [
       "<Figure size 432x288 with 1 Axes>"
      ]
     },
     "metadata": {},
     "output_type": "display_data"
    }
   ],
   "source": [
    "venn2(subsets = (len(s1), len(y1), len(overlap)), set_labels = ('SpaCy Keywords', 'YAKE'))"
   ]
  },
  {
   "cell_type": "code",
   "execution_count": null,
   "id": "a6c32d97",
   "metadata": {},
   "outputs": [],
   "source": []
  }
 ],
 "metadata": {
  "kernelspec": {
   "display_name": "NLP",
   "language": "python",
   "name": "nlp"
  },
  "language_info": {
   "codemirror_mode": {
    "name": "ipython",
    "version": 3
   },
   "file_extension": ".py",
   "mimetype": "text/x-python",
   "name": "python",
   "nbconvert_exporter": "python",
   "pygments_lexer": "ipython3",
   "version": "3.8.11"
  }
 },
 "nbformat": 4,
 "nbformat_minor": 5
}
