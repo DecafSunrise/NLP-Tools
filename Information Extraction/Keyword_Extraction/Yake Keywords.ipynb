{
 "cells": [
  {
   "cell_type": "code",
   "execution_count": 2,
   "id": "37d054aa",
   "metadata": {},
   "outputs": [],
   "source": [
    "import gradio as gr\n",
    "import yake"
   ]
  },
  {
   "cell_type": "code",
   "execution_count": 4,
   "id": "38f0f001",
   "metadata": {},
   "outputs": [],
   "source": [
    "kw_extractor = yake.KeywordExtractor()"
   ]
  },
  {
   "cell_type": "code",
   "execution_count": 28,
   "id": "c9d48735",
   "metadata": {},
   "outputs": [],
   "source": [
    "def getkeywords(text):\n",
    "    keywords = kw_extractor.extract_keywords(text)\n",
    "    print(keywords)\n",
    "    return \"\\n\".join([x[0] for x in keywords])"
   ]
  },
  {
   "cell_type": "code",
   "execution_count": 29,
   "id": "ceed5471",
   "metadata": {},
   "outputs": [
    {
     "name": "stdout",
     "output_type": "stream",
     "text": [
      "Running locally at: http://127.0.0.1:7877/\n",
      "To create a public link, set `share=True` in `launch()`.\n",
      "Interface loading below...\n"
     ]
    },
    {
     "data": {
      "text/html": [
       "\n",
       "        <iframe\n",
       "            width=\"900\"\n",
       "            height=\"500\"\n",
       "            src=\"http://127.0.0.1:7877/\"\n",
       "            frameborder=\"0\"\n",
       "            allowfullscreen\n",
       "        ></iframe>\n",
       "        "
      ],
      "text/plain": [
       "<IPython.lib.display.IFrame at 0x24d007ac880>"
      ]
     },
     "metadata": {},
     "output_type": "display_data"
    },
    {
     "data": {
      "text/plain": [
       "(<Flask 'gradio.networking'>, 'http://127.0.0.1:7877/', None)"
      ]
     },
     "execution_count": 29,
     "metadata": {},
     "output_type": "execute_result"
    },
    {
     "name": "stdout",
     "output_type": "stream",
     "text": [
      "[('Texas Tribune', 0.006126948132480198), ('Abbott', 0.007180083755617609), ('Texas', 0.007979808459102164), ('Texas Restaurant Association', 0.018536597247796983), ('challenges after Gov', 0.0189904429099902), ('Tribune', 0.029233476046871078), ('order', 0.02987433663103393), ('Texas Restaurant', 0.03743502820670805), ('Texas Hospital Association', 0.038860655370478246), ('businesses', 0.039734093104315825), ('employees', 0.039958452976312), ('vaccine', 0.041559495439501354), ('Texas nursing homes', 0.05157749975794745), ('federal', 0.053042505387765296), ('vaccine mandates', 0.06234380806695806), ('Texas businesses', 0.06410530666039807), ('people', 0.06706267642118892), ('Gov', 0.06991278514996642), ('comply with Abbott', 0.07301842264896134), ('sponsors', 0.0744929936234201)]\n",
      "[('Natural Language', 0.005837133388488548), ('Microsoft Nvidia MT-NLP', 0.006557349570894459), ('Nvidia', 0.01082948465931561), ('language', 0.012678902514433267), ('models', 0.014683484882465346), ('language models', 0.015102397060373774), ('capable AI-powered language', 0.015796060180391876), ('Microsoft and Nvidia', 0.01600029094550713), ('AI-powered language model', 0.016762491963641962), ('Microsoft Nvidia', 0.016781312221918504), ('Nvidia today announced', 0.01752340329434011), ('Microsoft', 0.01784851321543856), ('natural language processing', 0.018767499754985234), ('model', 0.024027520716761477), ('Natural', 0.025873073753590194), ('Training', 0.026063630598434032), ('Natural Language Generation', 0.02764724498377244), ('Nvidia MT-NLP', 0.027885428734037442), ('natural language tasks', 0.030004141736492386), ('natural language inferences', 0.03038150180951101)]\n",
      "[('San Diego', 0.00385195295961838), ('operations in August', 0.00889740438028171), ('Diego during routine', 0.009512671517637171), ('Seahawk helicopter', 0.012157704428727281), ('Dover Air Force', 0.019961926644637112), ('Air Force Base', 0.019961926644637112), ('Helicopter Sea Combat', 0.022996065199261236), ('routine operations', 0.023688522787945334), ('Navy officials pulled', 0.026291738035710655), ('coast of San', 0.0292318069907782), ('USS Abraham Lincoln', 0.030812459197894274), ('Sea Combat Squadron', 0.031783877638779545), ('Hospital Corpsman', 0.03782879434804056), ('Naval Air Crewman', 0.040266026628395825), ('Navy', 0.05103312130248967), ('helicopter', 0.05179789990354096), ('Navy officials', 0.0573919321660577), ('Seahawk', 0.05797373115704044), ('August', 0.05797373115704044), ('San', 0.06194491385271014)]\n"
     ]
    }
   ],
   "source": [
    "gr.Interface(fn=getkeywords, inputs=\"textbox\", outputs=\"textbox\").launch()"
   ]
  },
  {
   "cell_type": "code",
   "execution_count": null,
   "id": "7305d10b",
   "metadata": {},
   "outputs": [],
   "source": []
  }
 ],
 "metadata": {
  "kernelspec": {
   "display_name": "NLP",
   "language": "python",
   "name": "nlp"
  },
  "language_info": {
   "codemirror_mode": {
    "name": "ipython",
    "version": 3
   },
   "file_extension": ".py",
   "mimetype": "text/x-python",
   "name": "python",
   "nbconvert_exporter": "python",
   "pygments_lexer": "ipython3",
   "version": "3.8.11"
  }
 },
 "nbformat": 4,
 "nbformat_minor": 5
}
