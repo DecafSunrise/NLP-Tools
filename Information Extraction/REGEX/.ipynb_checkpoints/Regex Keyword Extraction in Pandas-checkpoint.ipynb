{
 "cells": [
  {
   "cell_type": "markdown",
   "metadata": {},
   "source": [
    "https://stackoverflow.com/questions/54440554/how-to-extract-a-keywordstring-from-a-column-in-pandas-dataframe-in-python"
   ]
  },
  {
   "cell_type": "code",
   "execution_count": 2,
   "metadata": {},
   "outputs": [],
   "source": [
    "import pandas as pd"
   ]
  },
  {
   "cell_type": "code",
   "execution_count": 3,
   "metadata": {},
   "outputs": [],
   "source": [
    "df = pd.read_csv(r\"D:\\Work\\Coding\\Data\\some-news.csv\")\n",
    "#Cleaning up garbage I injected with a previous process\n",
    "df = df.drop(\"Unnamed: 0\", axis=1)\n",
    "df = df.drop(\"Unnamed: 0.1\", axis=1)\n",
    "df['article'] = df['article'].astype(str)"
   ]
  },
  {
   "cell_type": "code",
   "execution_count": 10,
   "metadata": {},
   "outputs": [
    {
     "data": {
      "text/plain": [
       "995"
      ]
     },
     "execution_count": 10,
     "metadata": {},
     "output_type": "execute_result"
    }
   ],
   "source": [
    "len(df)"
   ]
  },
  {
   "cell_type": "code",
   "execution_count": 5,
   "metadata": {},
   "outputs": [],
   "source": [
    "df['article'] = df['article'].str.replace(\"&amp;\", \"&\") #Fix ampersand"
   ]
  },
  {
   "cell_type": "code",
   "execution_count": 6,
   "metadata": {},
   "outputs": [
    {
     "data": {
      "text/plain": [
       "\" The Indianapolis Colts made Andrew Luck the highest-paid player in NFL history this offseason with a five-year, $122-million contract with $89 million guaranteed. However, they're already finding that Luck's contract is inhibiting their ability to address weaknesses on other parts of the roster, particularly on defense. On Friday, Colts GM Ryan Grigson, who is under fire for the Colts 1-3 start, said that it's difficult to build up the team's defense with Luck making so much money. According to Keefer, Grigson did point out that the Colts still have young talent they're hoping to develop on defense. However, blaming Luck's contract — which the Colts gave him — for having a weak defense (30th in defensive DVOA) is not accurate. As others have pointed out, last year's Denver Broncos paid Peyton Manning $15 million in base salary while also boasting an elite defense. Luck also takes up $18.4 million against the salary cap this year, less than $1 million more than Manning did a year ago ($17.5 million). Much of this comes from drafting successfully, which the Colts have not done as well as elite teams like the Broncos or the Patriots, for instance. Now, with the Colts handcuffed to Luck's contract, drafting is going to become especially important, as will the use of whatever money they have in free agency. It's certainly possible to build a good defense with a high-paid quarterback, but if the Colts felt that paying Luck such a high sum of money would be difficult, perhaps they should have reconsidered what the final numbers. \\n\\n\\n\\n\\n\\n\\n\\n\\n\\nThe highest-paid player on all 32 NFL teams\""
      ]
     },
     "execution_count": 6,
     "metadata": {},
     "output_type": "execute_result"
    }
   ],
   "source": [
    "df['article'][1]"
   ]
  },
  {
   "cell_type": "code",
   "execution_count": 3,
   "metadata": {},
   "outputs": [],
   "source": [
    "Apartment  = ['apartment', 'penthouse', 'duplex']\n",
    "House      = ['house', 'villa', 'country estate']\n",
    "Plot       = ['plot', 'land']\n",
    "Location   = ['New Delhi','Mumbai','Bangalore','Amritsar']"
   ]
  },
  {
   "cell_type": "code",
   "execution_count": 4,
   "metadata": {},
   "outputs": [],
   "source": [
    "pat = '|'.join(fr\"\\b{x}\\b\" for x in Location)\n",
    "# df['Location'] = df['Type'].str.extract(f'({pat})', expand=False)"
   ]
  },
  {
   "cell_type": "code",
   "execution_count": 6,
   "metadata": {},
   "outputs": [],
   "source": [
    "pat = \"(\" + pat + \")\""
   ]
  },
  {
   "cell_type": "code",
   "execution_count": null,
   "metadata": {},
   "outputs": [],
   "source": [
    "d = {'Apartment' : Apartment,\n",
    "     'House' : House,\n",
    "     'Plot' : Plot}\n",
    "\n",
    "d1 = {k: oldk for oldk, oldv in d.items() for k in oldv}\n",
    "\n",
    "for k, v in d1.items():\n",
    "    df.loc[df['Type'].str.contains(k, case=False), 'Type'] = v"
   ]
  }
 ],
 "metadata": {
  "kernelspec": {
   "display_name": "NLPtests",
   "language": "python",
   "name": "nlptests"
  },
  "language_info": {
   "codemirror_mode": {
    "name": "ipython",
    "version": 3
   },
   "file_extension": ".py",
   "mimetype": "text/x-python",
   "name": "python",
   "nbconvert_exporter": "python",
   "pygments_lexer": "ipython3",
   "version": "3.8.8"
  }
 },
 "nbformat": 4,
 "nbformat_minor": 4
}
