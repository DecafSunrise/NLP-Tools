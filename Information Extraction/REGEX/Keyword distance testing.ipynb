{
 "cells": [
  {
   "cell_type": "code",
   "execution_count": 1,
   "id": "f449175f",
   "metadata": {},
   "outputs": [],
   "source": [
    "import requests\n",
    "import boilerpy3\n",
    "from boilerpy3 import extractors\n",
    "import re"
   ]
  },
  {
   "cell_type": "code",
   "execution_count": 2,
   "id": "d6b59f83",
   "metadata": {},
   "outputs": [],
   "source": [
    "extractor = extractors.ArticleExtractor()"
   ]
  },
  {
   "cell_type": "code",
   "execution_count": 3,
   "id": "13f636a2",
   "metadata": {},
   "outputs": [],
   "source": [
    "url = r\"https://nypost.com/2021/09/17/tiktoker-says-she-picked-up-brian-laundrie-hitchhiking-in-grand-teton\""
   ]
  },
  {
   "cell_type": "code",
   "execution_count": 4,
   "id": "82321946",
   "metadata": {},
   "outputs": [],
   "source": [
    "doc = extractor.get_doc_from_url(url)"
   ]
  },
  {
   "cell_type": "code",
   "execution_count": 6,
   "id": "13b84fe3",
   "metadata": {
    "scrolled": false
   },
   "outputs": [
    {
     "data": {
      "text/plain": [
       "'Cops arrive at home of Gabby Petito boyfriend Brian Laundrie, appear to enter with evidence bag\\nA TikToker has gone viral over her claims she picked up Brian Laundrie hitchhiking alone in Wyoming around the time his girlfriend, Gabby Petito, was last seen.\\nUser Miranda Baker said she and her boyfriend gave Laundrie a ride at Grand Teton National Park on Aug. 29, four days after Petito called her family to say she was in the park — and four days after her last Instagram photo before the disappearance.\\nIn a series of four videos that have only just now surfaced, Baker claims to have picked up a hitchhiker she identified as Laundrie at about 5:45 p.m. on the way to Jackson Hole, which she referred to as “Jackson.”\\nLater, at about 6:09 p.m. when she mentioned “Jackson Hole,” he asked to get out, she said of her supposed interaction.\\n“Once I said Jackson Hole he became agitated,” she said in one of the vidoes. “He seemed like he needed to get out, he was kind of antsy. And that’s when things got weird.”\\nShe claims they let the hitchhiker out near Jackson Dam and he crossed the street to a crowded lot to continue to hitchhike. The TikTok user said she has spoken with the FBI and other law enforcement officials about the alleged encounter, but the FBI didn’t confirm they had spoken to the woman.\\nThe FBI has not confirmed about meeting TikTok user Miranda Baker.\\nTikTok\\nBaker claims she picked up Brian Laundrie, right, at Grand Teton National Park on Aug. 29.\\nTwitter\\nOther law enforcement directed inquiries to the FBI.\\nThat alleged encounter would have taken place just one day before Petito’s mother received a text from the missing Long Island native’s phone on Aug. 30 — but her mom has doubts that the text actually came from her daughter.\\nLaundrie returned to Florida alone on Sept. 1 in the van registered to Petito.\\nBaker said the hitchhiker she believes to be Laundrie first offered “like $200” for the ride, but got in the back of the Jeep free of charge.\\nTikTok user Miranda Baker shows a map of her driving path to Jackson Lake Dam, where she claims to have dropped off Brian Laundrie.\\nTikTok\\nThe hitchhiker allegedly told her he had been hiking for days along the Snake River, and said he had a fiancée who was working their social media pages back at their van, she claims in the video.\\nIn what she called “key information” that she has allegedly shared with authorities, she said the hitchhiker she identified as Laundrie didn’t appear to have a full backpack, saying he had been sleeping on tarp.\\n“You think if you’re going camping for days on end you’d want food and a tent and he had none of that,” Baker said of the alleged encounter.\\nNY Post Illustration\\nThe disappearance of Petito, 22, has sparked social media sleuths as Laundrie has declined to speak with authorities.\\nShare this article:\\n'"
      ]
     },
     "execution_count": 6,
     "metadata": {},
     "output_type": "execute_result"
    }
   ],
   "source": [
    "doc.content"
   ]
  },
  {
   "cell_type": "code",
   "execution_count": 195,
   "id": "5140e2eb",
   "metadata": {},
   "outputs": [],
   "source": [
    "def getwords(inputText, words, maxDist=5):\n",
    "    pattern = fr\"\\b(?:{words[0]}\\W+(?:\\w+\\W+){0,maxDist}?{words[1]}|{words[1]}\\W+(?:\\w+\\W+){0,maxDist}?{words[0]})\\b\"\n",
    "    \n",
    "#     elif len(words['words']) ==3:\n",
    "    hits = re.search(pattern, inputText, re.I)\n",
    "    if hits:\n",
    "        pretext = inputText[hits.span()[0]-254:hits.span()[0]]\n",
    "        hit = hits[0]\n",
    "        posttext = inputText[hits.span()[1]:hits.span()[1]+254]\n",
    "\n",
    "        return pretext, hit, posttext\n",
    "    else:\n",
    "        print(\"No hits\")\n",
    "        pass"
   ]
  },
  {
   "cell_type": "code",
   "execution_count": 196,
   "id": "86548d35",
   "metadata": {},
   "outputs": [
    {
     "data": {
      "text/plain": [
       "(' alone on Sept. 1 in the van registered to Petito.\\nBaker said the hitchhiker she believes to be Laundrie first offered “like $200” for the ride, but got in the back of the Jeep free of charge.\\nTikTok user Miranda Baker shows a map of her driving path to ',\n",
       " 'Jackson Lake Dam',\n",
       " ', where she claims to have dropped off Brian Laundrie.\\nTikTok\\nThe hitchhiker allegedly told her he had been hiking for days along the Snake River, and said he had a fiancée who was working their social media pages back at their van, she claims in the vid')"
      ]
     },
     "execution_count": 196,
     "metadata": {},
     "output_type": "execute_result"
    }
   ],
   "source": [
    "getwords(doc.content, words=[\"jackson\",\"dam\"])"
   ]
  },
  {
   "cell_type": "code",
   "execution_count": 201,
   "id": "1b664bde",
   "metadata": {},
   "outputs": [
    {
     "data": {
      "text/plain": [
       "('nter with evidence bag\\nA TikToker has gone viral over her claims she picked up Brian Laundrie hitchhiking alone in Wyoming around the time his girlfriend, Gabby Petito, was last seen.\\nUser Miranda Baker said she and her boyfriend gave Laundrie a ride at ',\n",
       " 'Grand Teton National',\n",
       " ' Park on Aug. 29, four days after Petito called her family to say she was in the park — and four days after her last Instagram photo before the disappearance.\\nIn a series of four videos that have only just now surfaced, Baker claims to have picked up a h')"
      ]
     },
     "execution_count": 201,
     "metadata": {},
     "output_type": "execute_result"
    }
   ],
   "source": [
    "getwords(doc.content, words=[\"grand\",\"national\"])"
   ]
  },
  {
   "cell_type": "code",
   "execution_count": null,
   "id": "f37f38e9",
   "metadata": {},
   "outputs": [],
   "source": []
  }
 ],
 "metadata": {
  "kernelspec": {
   "display_name": "NLP",
   "language": "python",
   "name": "nlp"
  },
  "language_info": {
   "codemirror_mode": {
    "name": "ipython",
    "version": 3
   },
   "file_extension": ".py",
   "mimetype": "text/x-python",
   "name": "python",
   "nbconvert_exporter": "python",
   "pygments_lexer": "ipython3",
   "version": "3.8.11"
  }
 },
 "nbformat": 4,
 "nbformat_minor": 5
}
