{
 "cells": [
  {
   "cell_type": "code",
   "execution_count": 1,
   "metadata": {},
   "outputs": [],
   "source": [
    "from datetime import datetime\n",
    "from pprint import pprint\n",
    "from itertools import *\n",
    "\n",
    "import textblob\n",
    "from textblob import TextBlob\n",
    "\n",
    "import pandas as pd\n",
    "pd.set_option('display.max_columns', None)\n",
    "# import swifter\n",
    "\n",
    "import spacy\n",
    "nlp = spacy.load('en_core_web_lg')"
   ]
  },
  {
   "cell_type": "code",
   "execution_count": 2,
   "metadata": {},
   "outputs": [],
   "source": [
    "# EntityTypes = [\"PERSON\", \"NORP\", \"ORG\", \"FAC\", \"GPE\", \"LOC\", \"PRODUCT\", \"EVENT\", \"WORK_OF_ART\"]"
   ]
  },
  {
   "cell_type": "code",
   "execution_count": 3,
   "metadata": {},
   "outputs": [],
   "source": [
    "df = pd.read_csv(r\"D:\\Work\\Coding\\Data\\some-news.csv\")\n",
    "df = df.drop(\"Unnamed: 0\", axis=1)\n",
    "df = df.drop(\"Unnamed: 0.1\", axis=1)\n",
    "df['article'] = df['article'].astype(str)"
   ]
  },
  {
   "cell_type": "code",
   "execution_count": 4,
   "metadata": {},
   "outputs": [],
   "source": [
    "def getEnts(i):\n",
    "    doc = nlp(i)\n",
    "    entities = {key: list(set(map(lambda x: str(x), g))) for key, g in groupby(sorted(doc.ents, key=lambda x: x.label_), lambda x: x.label_)}\n",
    "    \n",
    "    return entities\n",
    "\n",
    "def addEnts(dataframe, columnName):\n",
    "\n",
    "    extracted = []\n",
    "\n",
    "    for i, row in dataframe.iterrows():\n",
    "        ents = getEnts(row[columnName])\n",
    "        extracted.append(ents)\n",
    "\n",
    "    dataframe[\"ExtractedEnts\"] = extracted\n",
    "    \n",
    "    return dataframe\n",
    "\n",
    "def splitEnts(dataframe):\n",
    "    df_temp = pd.json_normalize(dataframe['ExtractedEnts'])\n",
    "    dataframe = pd.concat([dataframe, df_temp], axis=1)\n",
    "    \n",
    "    return dataframe"
   ]
  },
  {
   "cell_type": "code",
   "execution_count": 5,
   "metadata": {},
   "outputs": [
    {
     "name": "stdout",
     "output_type": "stream",
     "text": [
      "0:01:30.779538 seconds\n"
     ]
    }
   ],
   "source": [
    "starttime = datetime.now()\n",
    "print(starttime)\n",
    "\n",
    "df = addEnts(df, 'article')\n",
    "\n",
    "print(f\"{datetime.now() - starttime}\")"
   ]
  },
  {
   "cell_type": "code",
   "execution_count": 6,
   "metadata": {},
   "outputs": [
    {
     "name": "stdout",
     "output_type": "stream",
     "text": [
      "0:00:00.043999 seconds\n"
     ]
    }
   ],
   "source": [
    "starttime = datetime.now()\n",
    "print(starttime)\n",
    "\n",
    "df = splitEnts(df)\n",
    "\n",
    "print(f\"{datetime.now() - starttime}\")"
   ]
  },
  {
   "cell_type": "code",
   "execution_count": 7,
   "metadata": {},
   "outputs": [
    {
     "name": "stdout",
     "output_type": "stream",
     "text": [
      "2021-05-21 00:21:03.058265\n",
      "Added Sentiment Analysis in 0:00:03.087683 seconds\n"
     ]
    }
   ],
   "source": [
    "starttime = datetime.now()\n",
    "print(starttime)\n",
    "\n",
    "df['sentiment'] = df['article'].apply(lambda article: TextBlob(article).sentiment)\n",
    "print(f\"Added Sentiment Analysis in {datetime.now() - starttime} seconds\")"
   ]
  },
  {
   "cell_type": "code",
   "execution_count": 8,
   "metadata": {},
   "outputs": [
    {
     "name": "stdout",
     "output_type": "stream",
     "text": [
      "2021-05-21 00:21:09.410078\n",
      "Split columns in 0:00:00.007000 seconds\n"
     ]
    }
   ],
   "source": [
    "starttime = datetime.now()\n",
    "print(starttime)\n",
    "\n",
    "df['sentiment'] = pd.DataFrame(df['sentiment'].to_list(), columns=['Polarity','Subjectivity'])\n",
    "\n",
    "print(f\"Split columns in {datetime.now() - starttime} seconds\")"
   ]
  },
  {
   "cell_type": "code",
   "execution_count": 9,
   "metadata": {
    "scrolled": false
   },
   "outputs": [
    {
     "data": {
      "text/html": [
       "<div>\n",
       "<style scoped>\n",
       "    .dataframe tbody tr th:only-of-type {\n",
       "        vertical-align: middle;\n",
       "    }\n",
       "\n",
       "    .dataframe tbody tr th {\n",
       "        vertical-align: top;\n",
       "    }\n",
       "\n",
       "    .dataframe thead th {\n",
       "        text-align: right;\n",
       "    }\n",
       "</style>\n",
       "<table border=\"1\" class=\"dataframe\">\n",
       "  <thead>\n",
       "    <tr style=\"text-align: right;\">\n",
       "      <th></th>\n",
       "      <th>Polarity</th>\n",
       "      <th>Subjectivity</th>\n",
       "    </tr>\n",
       "  </thead>\n",
       "  <tbody>\n",
       "    <tr>\n",
       "      <th>0</th>\n",
       "      <td>0.059539</td>\n",
       "      <td>0.507407</td>\n",
       "    </tr>\n",
       "    <tr>\n",
       "      <th>1</th>\n",
       "      <td>0.062381</td>\n",
       "      <td>0.609048</td>\n",
       "    </tr>\n",
       "    <tr>\n",
       "      <th>2</th>\n",
       "      <td>-0.145256</td>\n",
       "      <td>0.547691</td>\n",
       "    </tr>\n",
       "    <tr>\n",
       "      <th>3</th>\n",
       "      <td>0.032483</td>\n",
       "      <td>0.318770</td>\n",
       "    </tr>\n",
       "    <tr>\n",
       "      <th>4</th>\n",
       "      <td>0.134259</td>\n",
       "      <td>0.562037</td>\n",
       "    </tr>\n",
       "    <tr>\n",
       "      <th>...</th>\n",
       "      <td>...</td>\n",
       "      <td>...</td>\n",
       "    </tr>\n",
       "    <tr>\n",
       "      <th>990</th>\n",
       "      <td>0.058631</td>\n",
       "      <td>0.441964</td>\n",
       "    </tr>\n",
       "    <tr>\n",
       "      <th>991</th>\n",
       "      <td>0.154624</td>\n",
       "      <td>0.534403</td>\n",
       "    </tr>\n",
       "    <tr>\n",
       "      <th>992</th>\n",
       "      <td>0.277431</td>\n",
       "      <td>0.494097</td>\n",
       "    </tr>\n",
       "    <tr>\n",
       "      <th>993</th>\n",
       "      <td>-0.083333</td>\n",
       "      <td>0.500000</td>\n",
       "    </tr>\n",
       "    <tr>\n",
       "      <th>994</th>\n",
       "      <td>-0.021886</td>\n",
       "      <td>0.387542</td>\n",
       "    </tr>\n",
       "  </tbody>\n",
       "</table>\n",
       "<p>995 rows × 2 columns</p>\n",
       "</div>"
      ],
      "text/plain": [
       "     Polarity  Subjectivity\n",
       "0    0.059539      0.507407\n",
       "1    0.062381      0.609048\n",
       "2   -0.145256      0.547691\n",
       "3    0.032483      0.318770\n",
       "4    0.134259      0.562037\n",
       "..        ...           ...\n",
       "990  0.058631      0.441964\n",
       "991  0.154624      0.534403\n",
       "992  0.277431      0.494097\n",
       "993 -0.083333      0.500000\n",
       "994 -0.021886      0.387542\n",
       "\n",
       "[995 rows x 2 columns]"
      ]
     },
     "execution_count": 9,
     "metadata": {},
     "output_type": "execute_result"
    }
   ],
   "source": [
    "df"
   ]
  },
  {
   "cell_type": "code",
   "execution_count": null,
   "metadata": {},
   "outputs": [],
   "source": [
    "# df.to_csv(\"Some News (NER Tagged).csv\")"
   ]
  },
  {
   "cell_type": "code",
   "execution_count": null,
   "metadata": {},
   "outputs": [],
   "source": []
  }
 ],
 "metadata": {
  "kernelspec": {
   "display_name": "NLPtests",
   "language": "python",
   "name": "nlptests"
  },
  "language_info": {
   "codemirror_mode": {
    "name": "ipython",
    "version": 3
   },
   "file_extension": ".py",
   "mimetype": "text/x-python",
   "name": "python",
   "nbconvert_exporter": "python",
   "pygments_lexer": "ipython3",
   "version": "3.8.8"
  }
 },
 "nbformat": 4,
 "nbformat_minor": 4
}
