{
 "cells": [
  {
   "cell_type": "code",
   "execution_count": 63,
   "id": "8e6ae276",
   "metadata": {},
   "outputs": [
    {
     "data": {
      "text/html": [
       "<style>.container { width:100% !important; }</style>"
      ],
      "text/plain": [
       "<IPython.core.display.HTML object>"
      ]
     },
     "metadata": {},
     "output_type": "display_data"
    }
   ],
   "source": [
    "from IPython.display import display, HTML\n",
    "display(HTML(\"<style>.container { width:100% !important; }</style>\"))\n",
    "\n",
    "from top2vec import Top2Vec"
   ]
  },
  {
   "cell_type": "markdown",
   "id": "0f12954d",
   "metadata": {},
   "source": [
    "------\n",
    "\n",
    "## Try it on real data"
   ]
  },
  {
   "cell_type": "code",
   "execution_count": 45,
   "id": "1a39a975",
   "metadata": {},
   "outputs": [],
   "source": [
    "import pandas as pd\n",
    "df = pd.read_csv(r\"D:\\Work\\Data\\medium_articles.csv\")"
   ]
  },
  {
   "cell_type": "code",
   "execution_count": 48,
   "id": "1460a564",
   "metadata": {},
   "outputs": [],
   "source": [
    "docs = df['text'].tolist()"
   ]
  },
  {
   "cell_type": "code",
   "execution_count": null,
   "id": "9bcec3eb",
   "metadata": {},
   "outputs": [],
   "source": [
    "len(docs)"
   ]
  },
  {
   "cell_type": "code",
   "execution_count": 50,
   "id": "ee6ad839",
   "metadata": {},
   "outputs": [
    {
     "name": "stderr",
     "output_type": "stream",
     "text": [
      "2022-07-22 16:46:29,889 - top2vec - INFO - Pre-processing documents for training\n",
      "2022-07-22 16:46:40,162 - top2vec - INFO - Creating joint document/word embedding\n",
      "2022-07-22 16:53:45,490 - top2vec - INFO - Creating lower dimension embedding of documents\n",
      "2022-07-22 16:53:50,955 - top2vec - INFO - Finding dense areas of documents\n",
      "2022-07-22 16:53:51,146 - top2vec - INFO - Finding topics\n"
     ]
    }
   ],
   "source": [
    "model = Top2Vec(docs[:5000])"
   ]
  },
  {
   "cell_type": "code",
   "execution_count": 51,
   "id": "a7d59ecf",
   "metadata": {},
   "outputs": [
    {
     "data": {
      "text/plain": [
       "29"
      ]
     },
     "execution_count": 51,
     "metadata": {},
     "output_type": "execute_result"
    }
   ],
   "source": [
    "model.get_num_topics()"
   ]
  },
  {
   "cell_type": "code",
   "execution_count": 53,
   "id": "9504bdfe",
   "metadata": {},
   "outputs": [],
   "source": [
    "topic_words, word_scores, topic_nums = model.get_topics(29)"
   ]
  },
  {
   "cell_type": "code",
   "execution_count": 57,
   "id": "0e92c89b",
   "metadata": {},
   "outputs": [
    {
     "data": {
      "text/plain": [
       "array([['feeling', 'myself', 'life', ..., 've', 'walked', 'happy'],\n",
       "       ['application', 'code', 'server', ..., 'dependencies', 'instance',\n",
       "        'endpoint'],\n",
       "       ['model', 'values', 'plot', ..., 'weights', 'outliers', 'shape'],\n",
       "       ...,\n",
       "       ['headlines', 'headline', 'clickbait', ..., 'audiences', 'ebook',\n",
       "        'vague'],\n",
       "       ['sexual', 'sex', 'male', ..., 'populations', 'violent',\n",
       "        'consequences'],\n",
       "       ['vehicles', 'tesla', 'vehicle', ..., 'manufacturing',\n",
       "        'surroundings', 'markets']], dtype='<U15')"
      ]
     },
     "execution_count": 57,
     "metadata": {},
     "output_type": "execute_result"
    }
   ],
   "source": [
    "topic_words"
   ]
  },
  {
   "cell_type": "code",
   "execution_count": null,
   "id": "cd3063cf",
   "metadata": {},
   "outputs": [],
   "source": [
    "topic_words"
   ]
  },
  {
   "cell_type": "code",
   "execution_count": 58,
   "id": "f78fcb63",
   "metadata": {
    "scrolled": false
   },
   "outputs": [],
   "source": [
    "df2 = pd.DataFrame()"
   ]
  },
  {
   "cell_type": "code",
   "execution_count": 61,
   "id": "efd21bbd",
   "metadata": {},
   "outputs": [],
   "source": [
    "df2['Words'] = topic_words.tolist()"
   ]
  },
  {
   "cell_type": "code",
   "execution_count": 69,
   "id": "5657b01b",
   "metadata": {},
   "outputs": [],
   "source": [
    "pd.options.display.max_colwidth = 400"
   ]
  },
  {
   "cell_type": "code",
   "execution_count": 71,
   "id": "03bd0d05",
   "metadata": {},
   "outputs": [],
   "source": [
    "df2.to_csv(\"medium.com topic names.csv\", index=False)"
   ]
  },
  {
   "cell_type": "code",
   "execution_count": 72,
   "id": "0676811c",
   "metadata": {},
   "outputs": [
    {
     "data": {
      "text/html": [
       "<div>\n",
       "<style scoped>\n",
       "    .dataframe tbody tr th:only-of-type {\n",
       "        vertical-align: middle;\n",
       "    }\n",
       "\n",
       "    .dataframe tbody tr th {\n",
       "        vertical-align: top;\n",
       "    }\n",
       "\n",
       "    .dataframe thead th {\n",
       "        text-align: right;\n",
       "    }\n",
       "</style>\n",
       "<table border=\"1\" class=\"dataframe\">\n",
       "  <thead>\n",
       "    <tr style=\"text-align: right;\">\n",
       "      <th></th>\n",
       "      <th>Words</th>\n",
       "    </tr>\n",
       "  </thead>\n",
       "  <tbody>\n",
       "    <tr>\n",
       "      <th>0</th>\n",
       "      <td>[feeling, myself, life, feel, felt, me, feelings, never, husband, my, feels, friend, someone, eyes, couldn, hurt, she, ourselves, away, told, friends, him, anxiety, knew, her, nothing, mother, joy, afraid, ever, anymore, anxious, wasn, didn, fear, sit, love, mental, yourself, sadness, sitting, moments, fuck, calm, compassion, everyone, emotional, ve, walked, happy]</td>\n",
       "    </tr>\n",
       "    <tr>\n",
       "      <th>1</th>\n",
       "      <td>[application, code, server, const, documentation, file, api, files, configuration, console, configured, typescript, json, deployment, object, js, aws, execute, debugging, string, kubernetes, above, database, ec, javascript, useeffect, deploy, yaml, runtime, execution, url, directory, functions, logs, component, dom, function, react, automatically, log, deployments, static, usestate, request, s...</td>\n",
       "    </tr>\n",
       "    <tr>\n",
       "      <th>2</th>\n",
       "      <td>[model, values, plot, dataset, plots, dimensional, prediction, algorithm, categorical, above, accuracy, np, variables, predictions, figsize, points, train, neural, variable, scatter, axis, plt, training, matrix, columns, variance, numerical, gradient, calculate, models, representation, regression, parameters, coefficients, linear, input, column, probability, each, preprocessing, histograms, di...</td>\n",
       "    </tr>\n",
       "    <tr>\n",
       "      <th>3</th>\n",
       "      <td>[productive, morning, routine, waking, mornings, habits, day, yourself, habit, sleep, bed, productivity, wake, schedule, hours, night, distractions, spend, minutes, feeling, sleeping, doing, exercising, hour, things, work, procrastination, evening, distracted, relax, willpower, exercise, awake, feel, motivation, distraction, breaks, busy, asleep, myself, relaxing, enjoy, focus, goals, stress, ...</td>\n",
       "    </tr>\n",
       "    <tr>\n",
       "      <th>4</th>\n",
       "      <td>[marketing, ads, engagement, campaigns, audience, facebook, content, customers, marketers, sales, customer, campaign, posts, advertising, ad, email, businesses, media, revenue, strategy, brand, instagram, funnel, business, purchase, conversions, brands, loyalty, followers, conversion, audiences, channels, sell, acquisition, seo, visitors, reach, offer, engage, targeted, landing, social, ebook,...</td>\n",
       "    </tr>\n",
       "    <tr>\n",
       "      <th>5</th>\n",
       "      <td>[novel, book, story, novels, fiction, writing, draft, nanowrimo, writer, books, manuscript, write, characters, stories, reader, drafts, wrote, nonfiction, chapter, readers, ever, myself, literary, character, finish, sit, me, love, adventure, my, writers, ve, never, piece, pen, chapters, felt, maybe, narrative, life, fantasy, protagonist, finished, wasn, feels, horror, scene, reading, magical, ...</td>\n",
       "    </tr>\n",
       "    <tr>\n",
       "      <th>6</th>\n",
       "      <td>[team, teams, leadership, leaders, managers, organization, employees, company, business, leader, culture, stakeholders, meetings, innovation, opportunity, meeting, organizations, decisions, technical, organizational, hiring, goals, ownership, skills, members, executives, success, solving, collaborate, hire, feedback, agile, product, everyone, designers, excellence, strategic, empower, talent, ...</td>\n",
       "    </tr>\n",
       "    <tr>\n",
       "      <th>7</th>\n",
       "      <td>[medium, publication, writers, publications, stories, articles, readers, writer, submissions, curated, editors, publish, story, posts, submitting, publishing, followers, drafts, submission, curation, writing, paywall, published, submit, claps, illumination, reader, editor, guidelines, audience, clap, curate, submitted, homepage, article, write, draft, post, grammarly, shortform, views, accepte...</td>\n",
       "    </tr>\n",
       "    <tr>\n",
       "      <th>8</th>\n",
       "      <td>[consciousness, philosopher, universe, conscious, existence, humanity, soul, society, ourselves, beings, religion, philosophy, philosophical, god, beliefs, truths, nature, believe, life, ancient, truly, human, belief, moral, religious, centuries, world, ignorance, spiritual, jesus, humans, faith, reality, minds, illusion, lives, political, evidence, profound, psychological, perhaps, cultural, ...</td>\n",
       "    </tr>\n",
       "    <tr>\n",
       "      <th>9</th>\n",
       "      <td>[virus, coronavirus, infections, covid, infection, infected, disease, flu, infectious, vaccine, diseases, influenza, vaccines, patients, vaccination, pandemic, sars, spread, symptoms, reported, risk, immune, deaths, viruses, respiratory, severe, cov, coronaviruses, mild, outbreak, immunity, cases, epidemic, health, treatments, transmission, medical, evidence, mrna, antibodies, lung, population...</td>\n",
       "    </tr>\n",
       "    <tr>\n",
       "      <th>10</th>\n",
       "      <td>[design, designers, designs, designer, figma, ux, designing, sketch, illustrations, prototyping, prototypes, icons, ui, prototype, usability, adobe, screens, screen, buttons, visual, animations, templates, redesign, website, graphic, assets, icon, responsive, user, fonts, guidelines, websites, logo, aesthetics, colours, elements, product, developers, trello, brand, tool, experience, css, tools...</td>\n",
       "    </tr>\n",
       "    <tr>\n",
       "      <th>11</th>\n",
       "      <td>[ai, intelligence, artificial, humans, robots, intelligent, machines, human, robot, programmed, machine, computers, technologies, technology, robotics, robotic, algorithms, technological, systems, autonomous, chess, automation, capable, computer, smarter, learning, sophisticated, society, decisions, advances, bots, assistants, tasks, recognition, increasingly, humanity, complex, automated, imp...</td>\n",
       "    </tr>\n",
       "    <tr>\n",
       "      <th>12</th>\n",
       "      <td>[investors, founders, startup, investor, capital, entrepreneurs, venture, startups, vc, founder, funding, investment, funds, fund, company, entrepreneur, investing, companies, ventures, invest, entrepreneurial, investments, ceo, raising, equity, talent, invested, opportunity, angel, firms, accelerator, firm, business, raised, funded, successful, mentors, mission, founding, employees, money, co...</td>\n",
       "    </tr>\n",
       "    <tr>\n",
       "      <th>13</th>\n",
       "      <td>[android, kotlin, developers, ios, developer, javascript, development, programming, java, frameworks, languages, native, flutter, codebase, mobile, programmers, apps, code, language, php, coding, udemy, swift, platforms, typescript, app, software, platform, programmer, developing, react, ui, bugs, compiled, application, ruby, web, learn, syntax, popularity, beginners, framework, groovy, course...</td>\n",
       "    </tr>\n",
       "    <tr>\n",
       "      <th>14</th>\n",
       "      <td>[climate, carbon, emissions, warming, renewable, atmosphere, energy, ecosystems, conservation, environmental, dioxide, earth, wildlife, fossil, sustainable, solar, planet, marine, agriculture, fuels, land, fuel, soil, forests, sustainability, economic, plants, restoration, nature, water, electricity, footprint, ocean, gas, areas, global, sea, wind, urban, change, international, pollution, impa...</td>\n",
       "    </tr>\n",
       "    <tr>\n",
       "      <th>15</th>\n",
       "      <td>[trump, political, biden, election, president, donald, government, americans, america, administration, democracy, nation, governments, victory, court, officials, supreme, conservative, war, racist, politicians, society, against, american, himself, united, george, politics, violence, fox, forced, campaign, consequences, debate, federal, states, pandemic, act, justice, national, him, voting, pol...</td>\n",
       "    </tr>\n",
       "    <tr>\n",
       "      <th>16</th>\n",
       "      <td>[eating, eat, diet, foods, vegan, food, meal, calories, healthy, meat, fat, delicious, meals, cheese, vegetables, pounds, sugar, weight, plant, ingredients, recipe, chicken, cooking, nutrients, ate, healthier, chocolate, bread, intake, cook, milk, beans, taste, nutrition, habits, hunger, recipes, salt, tastes, animal, lifestyle, obesity, sweet, lose, myself, enjoy, feel, breakfast, muscle, fish]</td>\n",
       "    </tr>\n",
       "    <tr>\n",
       "      <th>17</th>\n",
       "      <td>[song, lyrics, album, songs, musical, music, band, singing, guitar, played, piano, tracks, rock, taylor, listened, listen, indie, favorite, heard, sounds, sound, hear, moments, artists, instruments, listeners, swift, grew, sing, kid, artist, fans, his, ever, listening, loud, himself, he, sad, somehow, recording, film, singer, love, grandmother, artistic, hit, art, was, feels]</td>\n",
       "    </tr>\n",
       "    <tr>\n",
       "      <th>18</th>\n",
       "      <td>[earth, nasa, gravity, planet, satellite, mars, atmosphere, moon, solar, surface, space, humanity, mission, beings, civilization, humans, physics, universe, exploration, quantum, human, climate, waves, sun, nature, particles, organisms, elon, light, water, massive, laser, researchers, ocean, near, horizon, minds, energy, laboratory, scientists, clouds, centuries, bodies, biological, marine, th...</td>\n",
       "    </tr>\n",
       "    <tr>\n",
       "      <th>19</th>\n",
       "      <td>[blockchain, bitcoin, crypto, currency, transactions, tokens, companies, investors, startups, payments, centralized, market, trading, transaction, technology, government, exchange, secure, investment, financial, digital, markets, fintech, businesses, token, entrepreneurs, singapore, investing, technologies, industry, contracts, governments, tech, funds, industries, sector, startup, partnership...</td>\n",
       "    </tr>\n",
       "    <tr>\n",
       "      <th>20</th>\n",
       "      <td>[courses, coursera, udemy, course, science, fundamentals, learn, learning, skills, stanford, universities, beginner, beginners, statistics, programming, algebra, certification, offered, online, mathematics, andrew, tutorials, recommend, best, concepts, students, introduction, python, coding, advanced, skill, teach, basics, julia, machine, programmers, java, taught, programmer, learners, free, ...</td>\n",
       "    </tr>\n",
       "    <tr>\n",
       "      <th>21</th>\n",
       "      <td>[journalism, journalists, outlets, news, newspapers, communities, digital, democracy, audiences, publishers, newspaper, revenue, media, advertising, governments, ad, reporting, tech, owned, entrepreneurial, businesses, advertisers, decline, companies, initiative, guardian, corporations, york, community, government, local, coverage, journalist, opportunity, citizens, newsletter, niche, facebook...</td>\n",
       "    </tr>\n",
       "    <tr>\n",
       "      <th>22</th>\n",
       "      <td>[freelancer, freelance, freelancers, clients, earn, gig, paid, earning, niche, charge, writer, pay, career, income, fee, money, paying, business, marketplaces, professional, writers, hire, copywriting, writing, profitable, sell, skills, businesses, passive, rates, job, editors, client, offer, skill, marketing, blogging, expenses, fees, work, blog, website, hired, medium, opportunities, editing...</td>\n",
       "    </tr>\n",
       "    <tr>\n",
       "      <th>23</th>\n",
       "      <td>[macbook, ipad, pro, laptop, chip, iphone, mac, apple, pc, battery, gaming, keyboard, games, phone, device, desktop, smartphone, mini, arm, air, screen, phones, chips, devices, intel, game, smartphones, gb, ios, office, bought, android, apps, buy, hardware, distraction, pencil, camera, cheaper, buying, mobile, windows, screens, fan, pocket, stuff, touch, complain, desk, mess]</td>\n",
       "    </tr>\n",
       "    <tr>\n",
       "      <th>24</th>\n",
       "      <td>[gene, dna, genes, molecular, genetic, crispr, biology, proteins, protein, cells, organisms, genome, molecules, biological, mice, researchers, diseases, mrna, cell, acid, scientists, synthetic, immune, aging, bacteria, chemical, sequences, therapy, disease, computational, treatments, compounds, evolution, mechanisms, pathways, tissue, promising, microbes, sars, cov, mutation, lab, viruses, dam...</td>\n",
       "    </tr>\n",
       "    <tr>\n",
       "      <th>25</th>\n",
       "      <td>[plastic, recycling, bags, waste, recycled, packaging, disposable, reusable, materials, clothes, buying, water, environmental, diapers, trash, eco, pollution, sustainable, bottle, wash, emissions, clothing, buy, carbon, marine, washing, footprint, bag, sustainability, alternatives, friendly, bulk, manufacturers, grocery, fossil, plant, shops, organic, damaging, food, plants, wrap, shopping, co...</td>\n",
       "    </tr>\n",
       "    <tr>\n",
       "      <th>26</th>\n",
       "      <td>[headlines, headline, clickbait, reader, titles, readers, curiosity, story, clicks, subtitle, compelling, attract, audience, piece, credibility, copywriting, clever, posts, title, words, promises, newspaper, appealing, appeal, ad, content, your, clear, writing, concise, tips, promise, emotional, sentence, seo, convey, articles, emotion, advertising, medium, ads, tempting, avoid, deliver, illus...</td>\n",
       "    </tr>\n",
       "    <tr>\n",
       "      <th>27</th>\n",
       "      <td>[sexual, sex, male, gender, female, males, sexuality, women, trans, men, hormone, porn, hormones, woman, identity, abuse, addiction, discomfort, disorders, psychological, identities, addicted, treatment, distress, therapy, adults, relationship, gay, biological, feelings, attractive, neurological, psychiatric, disorder, orientation, being, society, girls, relationships, perceived, young, bodies...</td>\n",
       "    </tr>\n",
       "    <tr>\n",
       "      <th>28</th>\n",
       "      <td>[vehicles, tesla, vehicle, electric, cars, autonomous, car, driving, battery, transportation, apple, road, manufacturers, mobility, musk, cheaper, miles, charging, elon, drivers, powered, fuel, sensors, billion, uber, market, workforce, company, companies, ford, industry, drive, patent, delivery, suppliers, shipping, logistics, investment, charge, electricity, safety, passengers, drives, sell,...</td>\n",
       "    </tr>\n",
       "  </tbody>\n",
       "</table>\n",
       "</div>"
      ],
      "text/plain": [
       "                                                                                                                                                                                                                                                                                                                                                                                                              Words\n",
       "0                                   [feeling, myself, life, feel, felt, me, feelings, never, husband, my, feels, friend, someone, eyes, couldn, hurt, she, ourselves, away, told, friends, him, anxiety, knew, her, nothing, mother, joy, afraid, ever, anymore, anxious, wasn, didn, fear, sit, love, mental, yourself, sadness, sitting, moments, fuck, calm, compassion, everyone, emotional, ve, walked, happy]\n",
       "1   [application, code, server, const, documentation, file, api, files, configuration, console, configured, typescript, json, deployment, object, js, aws, execute, debugging, string, kubernetes, above, database, ec, javascript, useeffect, deploy, yaml, runtime, execution, url, directory, functions, logs, component, dom, function, react, automatically, log, deployments, static, usestate, request, s...\n",
       "2   [model, values, plot, dataset, plots, dimensional, prediction, algorithm, categorical, above, accuracy, np, variables, predictions, figsize, points, train, neural, variable, scatter, axis, plt, training, matrix, columns, variance, numerical, gradient, calculate, models, representation, regression, parameters, coefficients, linear, input, column, probability, each, preprocessing, histograms, di...\n",
       "3   [productive, morning, routine, waking, mornings, habits, day, yourself, habit, sleep, bed, productivity, wake, schedule, hours, night, distractions, spend, minutes, feeling, sleeping, doing, exercising, hour, things, work, procrastination, evening, distracted, relax, willpower, exercise, awake, feel, motivation, distraction, breaks, busy, asleep, myself, relaxing, enjoy, focus, goals, stress, ...\n",
       "4   [marketing, ads, engagement, campaigns, audience, facebook, content, customers, marketers, sales, customer, campaign, posts, advertising, ad, email, businesses, media, revenue, strategy, brand, instagram, funnel, business, purchase, conversions, brands, loyalty, followers, conversion, audiences, channels, sell, acquisition, seo, visitors, reach, offer, engage, targeted, landing, social, ebook,...\n",
       "5   [novel, book, story, novels, fiction, writing, draft, nanowrimo, writer, books, manuscript, write, characters, stories, reader, drafts, wrote, nonfiction, chapter, readers, ever, myself, literary, character, finish, sit, me, love, adventure, my, writers, ve, never, piece, pen, chapters, felt, maybe, narrative, life, fantasy, protagonist, finished, wasn, feels, horror, scene, reading, magical, ...\n",
       "6   [team, teams, leadership, leaders, managers, organization, employees, company, business, leader, culture, stakeholders, meetings, innovation, opportunity, meeting, organizations, decisions, technical, organizational, hiring, goals, ownership, skills, members, executives, success, solving, collaborate, hire, feedback, agile, product, everyone, designers, excellence, strategic, empower, talent, ...\n",
       "7   [medium, publication, writers, publications, stories, articles, readers, writer, submissions, curated, editors, publish, story, posts, submitting, publishing, followers, drafts, submission, curation, writing, paywall, published, submit, claps, illumination, reader, editor, guidelines, audience, clap, curate, submitted, homepage, article, write, draft, post, grammarly, shortform, views, accepte...\n",
       "8   [consciousness, philosopher, universe, conscious, existence, humanity, soul, society, ourselves, beings, religion, philosophy, philosophical, god, beliefs, truths, nature, believe, life, ancient, truly, human, belief, moral, religious, centuries, world, ignorance, spiritual, jesus, humans, faith, reality, minds, illusion, lives, political, evidence, profound, psychological, perhaps, cultural, ...\n",
       "9   [virus, coronavirus, infections, covid, infection, infected, disease, flu, infectious, vaccine, diseases, influenza, vaccines, patients, vaccination, pandemic, sars, spread, symptoms, reported, risk, immune, deaths, viruses, respiratory, severe, cov, coronaviruses, mild, outbreak, immunity, cases, epidemic, health, treatments, transmission, medical, evidence, mrna, antibodies, lung, population...\n",
       "10  [design, designers, designs, designer, figma, ux, designing, sketch, illustrations, prototyping, prototypes, icons, ui, prototype, usability, adobe, screens, screen, buttons, visual, animations, templates, redesign, website, graphic, assets, icon, responsive, user, fonts, guidelines, websites, logo, aesthetics, colours, elements, product, developers, trello, brand, tool, experience, css, tools...\n",
       "11  [ai, intelligence, artificial, humans, robots, intelligent, machines, human, robot, programmed, machine, computers, technologies, technology, robotics, robotic, algorithms, technological, systems, autonomous, chess, automation, capable, computer, smarter, learning, sophisticated, society, decisions, advances, bots, assistants, tasks, recognition, increasingly, humanity, complex, automated, imp...\n",
       "12  [investors, founders, startup, investor, capital, entrepreneurs, venture, startups, vc, founder, funding, investment, funds, fund, company, entrepreneur, investing, companies, ventures, invest, entrepreneurial, investments, ceo, raising, equity, talent, invested, opportunity, angel, firms, accelerator, firm, business, raised, funded, successful, mentors, mission, founding, employees, money, co...\n",
       "13  [android, kotlin, developers, ios, developer, javascript, development, programming, java, frameworks, languages, native, flutter, codebase, mobile, programmers, apps, code, language, php, coding, udemy, swift, platforms, typescript, app, software, platform, programmer, developing, react, ui, bugs, compiled, application, ruby, web, learn, syntax, popularity, beginners, framework, groovy, course...\n",
       "14  [climate, carbon, emissions, warming, renewable, atmosphere, energy, ecosystems, conservation, environmental, dioxide, earth, wildlife, fossil, sustainable, solar, planet, marine, agriculture, fuels, land, fuel, soil, forests, sustainability, economic, plants, restoration, nature, water, electricity, footprint, ocean, gas, areas, global, sea, wind, urban, change, international, pollution, impa...\n",
       "15  [trump, political, biden, election, president, donald, government, americans, america, administration, democracy, nation, governments, victory, court, officials, supreme, conservative, war, racist, politicians, society, against, american, himself, united, george, politics, violence, fox, forced, campaign, consequences, debate, federal, states, pandemic, act, justice, national, him, voting, pol...\n",
       "16   [eating, eat, diet, foods, vegan, food, meal, calories, healthy, meat, fat, delicious, meals, cheese, vegetables, pounds, sugar, weight, plant, ingredients, recipe, chicken, cooking, nutrients, ate, healthier, chocolate, bread, intake, cook, milk, beans, taste, nutrition, habits, hunger, recipes, salt, tastes, animal, lifestyle, obesity, sweet, lose, myself, enjoy, feel, breakfast, muscle, fish]\n",
       "17                       [song, lyrics, album, songs, musical, music, band, singing, guitar, played, piano, tracks, rock, taylor, listened, listen, indie, favorite, heard, sounds, sound, hear, moments, artists, instruments, listeners, swift, grew, sing, kid, artist, fans, his, ever, listening, loud, himself, he, sad, somehow, recording, film, singer, love, grandmother, artistic, hit, art, was, feels]\n",
       "18  [earth, nasa, gravity, planet, satellite, mars, atmosphere, moon, solar, surface, space, humanity, mission, beings, civilization, humans, physics, universe, exploration, quantum, human, climate, waves, sun, nature, particles, organisms, elon, light, water, massive, laser, researchers, ocean, near, horizon, minds, energy, laboratory, scientists, clouds, centuries, bodies, biological, marine, th...\n",
       "19  [blockchain, bitcoin, crypto, currency, transactions, tokens, companies, investors, startups, payments, centralized, market, trading, transaction, technology, government, exchange, secure, investment, financial, digital, markets, fintech, businesses, token, entrepreneurs, singapore, investing, technologies, industry, contracts, governments, tech, funds, industries, sector, startup, partnership...\n",
       "20  [courses, coursera, udemy, course, science, fundamentals, learn, learning, skills, stanford, universities, beginner, beginners, statistics, programming, algebra, certification, offered, online, mathematics, andrew, tutorials, recommend, best, concepts, students, introduction, python, coding, advanced, skill, teach, basics, julia, machine, programmers, java, taught, programmer, learners, free, ...\n",
       "21  [journalism, journalists, outlets, news, newspapers, communities, digital, democracy, audiences, publishers, newspaper, revenue, media, advertising, governments, ad, reporting, tech, owned, entrepreneurial, businesses, advertisers, decline, companies, initiative, guardian, corporations, york, community, government, local, coverage, journalist, opportunity, citizens, newsletter, niche, facebook...\n",
       "22  [freelancer, freelance, freelancers, clients, earn, gig, paid, earning, niche, charge, writer, pay, career, income, fee, money, paying, business, marketplaces, professional, writers, hire, copywriting, writing, profitable, sell, skills, businesses, passive, rates, job, editors, client, offer, skill, marketing, blogging, expenses, fees, work, blog, website, hired, medium, opportunities, editing...\n",
       "23                       [macbook, ipad, pro, laptop, chip, iphone, mac, apple, pc, battery, gaming, keyboard, games, phone, device, desktop, smartphone, mini, arm, air, screen, phones, chips, devices, intel, game, smartphones, gb, ios, office, bought, android, apps, buy, hardware, distraction, pencil, camera, cheaper, buying, mobile, windows, screens, fan, pocket, stuff, touch, complain, desk, mess]\n",
       "24  [gene, dna, genes, molecular, genetic, crispr, biology, proteins, protein, cells, organisms, genome, molecules, biological, mice, researchers, diseases, mrna, cell, acid, scientists, synthetic, immune, aging, bacteria, chemical, sequences, therapy, disease, computational, treatments, compounds, evolution, mechanisms, pathways, tissue, promising, microbes, sars, cov, mutation, lab, viruses, dam...\n",
       "25  [plastic, recycling, bags, waste, recycled, packaging, disposable, reusable, materials, clothes, buying, water, environmental, diapers, trash, eco, pollution, sustainable, bottle, wash, emissions, clothing, buy, carbon, marine, washing, footprint, bag, sustainability, alternatives, friendly, bulk, manufacturers, grocery, fossil, plant, shops, organic, damaging, food, plants, wrap, shopping, co...\n",
       "26  [headlines, headline, clickbait, reader, titles, readers, curiosity, story, clicks, subtitle, compelling, attract, audience, piece, credibility, copywriting, clever, posts, title, words, promises, newspaper, appealing, appeal, ad, content, your, clear, writing, concise, tips, promise, emotional, sentence, seo, convey, articles, emotion, advertising, medium, ads, tempting, avoid, deliver, illus...\n",
       "27  [sexual, sex, male, gender, female, males, sexuality, women, trans, men, hormone, porn, hormones, woman, identity, abuse, addiction, discomfort, disorders, psychological, identities, addicted, treatment, distress, therapy, adults, relationship, gay, biological, feelings, attractive, neurological, psychiatric, disorder, orientation, being, society, girls, relationships, perceived, young, bodies...\n",
       "28  [vehicles, tesla, vehicle, electric, cars, autonomous, car, driving, battery, transportation, apple, road, manufacturers, mobility, musk, cheaper, miles, charging, elon, drivers, powered, fuel, sensors, billion, uber, market, workforce, company, companies, ford, industry, drive, patent, delivery, suppliers, shipping, logistics, investment, charge, electricity, safety, passengers, drives, sell,..."
      ]
     },
     "execution_count": 72,
     "metadata": {},
     "output_type": "execute_result"
    }
   ],
   "source": [
    "df2"
   ]
  },
  {
   "cell_type": "code",
   "execution_count": null,
   "id": "3bcf6345",
   "metadata": {},
   "outputs": [],
   "source": []
  }
 ],
 "metadata": {
  "kernelspec": {
   "display_name": "NLP",
   "language": "python",
   "name": "nlp"
  },
  "language_info": {
   "codemirror_mode": {
    "name": "ipython",
    "version": 3
   },
   "file_extension": ".py",
   "mimetype": "text/x-python",
   "name": "python",
   "nbconvert_exporter": "python",
   "pygments_lexer": "ipython3",
   "version": "3.8.11"
  }
 },
 "nbformat": 4,
 "nbformat_minor": 5
}
