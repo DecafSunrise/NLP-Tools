{
 "cells": [
  {
   "cell_type": "code",
   "execution_count": 11,
   "metadata": {},
   "outputs": [],
   "source": [
    "from datetime import datetime\n",
    "from pprint import pprint\n",
    "from itertools import *\n",
    "import random\n",
    "import textblob\n",
    "from textblob import TextBlob\n",
    "\n",
    "import pandas as pd\n",
    "pd.set_option('display.max_columns', None)\n",
    "# import swifter\n",
    "\n",
    "import spacy\n",
    "nlp = spacy.load('en_core_web_lg')"
   ]
  },
  {
   "cell_type": "code",
   "execution_count": 22,
   "metadata": {},
   "outputs": [],
   "source": [
    "pd.set_option('display.max_colwidth', None)"
   ]
  },
  {
   "cell_type": "code",
   "execution_count": 4,
   "metadata": {},
   "outputs": [],
   "source": [
    "df = pd.read_csv(r\"D:\\Work\\Coding\\Data\\some-news.csv\")\n",
    "df = df.drop(\"Unnamed: 0\", axis=1)\n",
    "df = df.drop(\"Unnamed: 0.1\", axis=1)\n",
    "df['article'] = df['article'].astype(str)"
   ]
  },
  {
   "cell_type": "code",
   "execution_count": 6,
   "metadata": {},
   "outputs": [],
   "source": [
    "testtext = df['article'][9]"
   ]
  },
  {
   "cell_type": "code",
   "execution_count": 7,
   "metadata": {},
   "outputs": [],
   "source": [
    "blob = TextBlob(testtext)"
   ]
  },
  {
   "cell_type": "code",
   "execution_count": 17,
   "metadata": {},
   "outputs": [
    {
     "data": {
      "text/plain": [
       "WordList(['china', 'unfavorable media reports', 'fake news', '’ s', 'trump', 'china', 'unfavorable media reports', 'fake news', '’ s', 'trump', 'short political career', 'donald trump', 'unfavorable media reports', '“ fake news. ”', 'beijing', 'foreign media reports', 'prominent human rights lawyer', 'government custody', 'vice', 'chinese state media ’ s adoption', 'u.s.', 'referring', 'xinhua', 'news agency report', 'zhang baohui', 'political scientist', 'hong kong', '’ s', 'lingnan', 'xinhua', '’ s usage', 'trump.', 'china', 'trump', '’ s', 'favorite buzzword', 'unfavorable reports', 'russia', 'iran', 'critical coverage', 'term “', 'zhang', 'short political career', 'donald trump', 'unfavorable media reports', '“ fake news. ”', 'beijing', 'foreign media reports', 'prominent human rights lawyer', 'government custody', 'vice', 'chinese state media ’ s adoption', 'u.s.', 'referring', 'xinhua', 'news agency report', 'zhang baohui', 'political scientist', 'hong kong', '’ s', 'lingnan', 'xinhua', '’ s usage', 'trump.', 'china', 'trump', '’ s', 'favorite buzzword', 'unfavorable reports', 'russia', 'iran', 'critical coverage', 'term “', 'zhang', 'xinhua', 'ruling communist party', 'international media reports', 'chinese attorney', 'xie yang', 'lies. ” “', 'fake news', 'fake', 'news –', 'false online reports', 'legitimate news stories –', 'year ’ s', 'u.s.', 'presidential election', 'political actors', 'critical coverage', 'uncomfortable realities', 'trump', 'high-profile adopter', 'recent claim', '“ fake news ”', 'chinese centers', 'xie', '45-year-old attorney', 'sensitive cases', 'chinese province', 'hunan', 'july', 'human rights lawyers', 'late', 'year reports', 'xie', '’ s lawyers', 'custody –', 'political crimes', 'xie', '’ s claims', 'york', 'trump', '“ fake news ” –', 'guardian', 'xinhua', 'independent team ”', 'torture reports', 'xie', 'fellow inmates', 'torture allegations', 'jiang tianyong', 'prominent human rights lawyer', 'xie', '’ s relatives', 'november', 'xie', '’ s wife', 'torture claims', 'western institutions', 'media organizations', 'public opinion', 'pressure police', 'chinese government', 'xinhua', 'human rights groups', 'political crimes', 'china', 'vice', 'chinese state media', 'western news outlets', 'china', 'term “ fake news ”', 'recent development', 'trump', '’ s', 'discredit major', 'western media outlets', 'patrick poon', 'hong kong-based', 'amnesty', 'according', 'network', 'defenders', 'xie', 'state power', 'court order. ”', 'xie', '’ s lawyer', 'chen jiangang', 'reuters', 'client ’ s', 'xie'])"
      ]
     },
     "execution_count": 17,
     "metadata": {},
     "output_type": "execute_result"
    }
   ],
   "source": [
    "blob.noun_phrases"
   ]
  },
  {
   "cell_type": "code",
   "execution_count": 18,
   "metadata": {},
   "outputs": [],
   "source": [
    "def noun_phrases(inputText):\n",
    "    blob = TextBlob(inputText)\n",
    "    return blob.noun_phrases"
   ]
  },
  {
   "cell_type": "code",
   "execution_count": 19,
   "metadata": {},
   "outputs": [],
   "source": [
    "df['Noun_Phrases'] = df['article'].apply(lambda article: TextBlob(article).noun_phrases)"
   ]
  },
  {
   "cell_type": "code",
   "execution_count": 23,
   "metadata": {},
   "outputs": [
    {
     "data": {
      "text/plain": [
       "0    [polyarchy, independent blog, political reform program, america, washington, new ideas, new voices, imagine, starts feeling weird, your, doctor runs, heart attack, human body, complex system, pretty healthy, 're feeling, safe side, healthier diet, sensible person, sure, heart attack, low chance, low chance, recommendations —, healthier diet —, amanda taub, york, new findings, roberto stefan foa, yascha mounk, — findings, foa, mounk, unnecessary panic, political scientist, erik voeten, mounk, foa, small shifts, york, graph suggests, similarly, wonkblog, jeff guo, foa, mounk, forthcoming journal, democracy, young people, strong leader, voeten, foa, mounk, nondemocratic governance, reasonable points, important societal shifts, sure sign, heart attack, heart attack, similarly, sure sign, democratic collapse, democratic collapse, data analysis, actual real-world election results, liberal democracy, foa, mounk, 's findings, civic education, generation learns, liberal democracy, authoritarian rule, good idea regardless, similarly, considerable resources, strong public case, liberal democracy, public institutions, intermediary institutions, heart attack, future heart attack, social life, strict bed rest, chia seed salads, high risk, heart attack, heavy cost, recent crises, key decision-makers, ignore warning signs, significant costs, financial industry, considerable investments, product lines, cost investment banks, early warning signs, similarly, carbon-intensive industries, fossil fuel producers, ...]\n",
       "1                                                                                                                                                                                                                                                                                                                                                                                                                                                                                                                                                                                                                                                                                                                                                                                                                                                                                                                                                                                                                                                                            [indianapolis colts, andrew luck, nfl, $ 122-million contract, luck, 's contract, address weaknesses, colts gm ryan grigson, colts, team 's defense, luck, according, keefer, grigson, colts, young talent, luck, 's contract —, colts, weak defense, dvoa, year 's, denver, peyton manning, base salary, elite defense, luck, salary cap, manning, colts, elite teams, patriots, colts, luck, 's contract, free agency, good defense, high-paid quarterback, colts, luck, high sum, final numbers, nfl]\n",
       "2                                                                                                                                                                                                                                                                                                                                                                                                                                                                                                                                                                                                                                                                                                                                                                                                                                                                                                                                                                                                                                                                                                                                                                                                                                                                                                                                                                                           [davos, switzerland, reuters, u.s., donald trump, counsel robert mueller, june, “ fake news ”, york, trump, white house counsel, fake, fake news, trump, davos, reporting, steve holland]\n",
       "3                                                                                                                                                                                                                                                                                                                                                                                                                                                                                                                                                                                                                                                          [paris, reuters, french president, nicolas sarkozy, new memoir, old center-right party, emmanuel macron, entitled, passions, autobiography documents, sarkozy, ’ s rise, prime minister, francois fillon, sarkozy, nickname “ president, bling-bling, brash style, elysee, carla bruni, passions, france, ’ s center-right fights, emmanuel macron, ’ s election, political landscape, sarkozy, ’ s, old party, les republicains, macron, ’ s centrist party, sarkozy, partisan debate, sew confusion, misplaced. ”, nonetheless, new appearance, french right, sarkozy, ’ s, political reincarnation, sarkozy, re-election bid, party ’ s ticket, les republicains, laurent wauquiez, party ’ s, may, ’ s, european election, sarkozy, frontline politics, multiple investigations, re-election bid, parallel investigation, sarkozy, reporting, simon carraud, writing, richard lough, editing, luke baker, hugh lawson]\n",
       "4                                                                                                                                                                                                                                                                                                                                                                                                                                                                                                                                                                                                                                                                                                                                                                                                                                                                                                                                                                                                                                                                                                                                                                                                                                                                                                                                                                                                           [hilton, lax, monty brinson, paris, switzerland, brinson, kim richards, monty, long battle, cancer ..., paris, picture collage, monty, incredible man, huge heart, r.i.p]\n",
       "Name: Noun_Phrases, dtype: object"
      ]
     },
     "execution_count": 23,
     "metadata": {},
     "output_type": "execute_result"
    }
   ],
   "source": [
    "df[\"Noun_Phrases\"].head()"
   ]
  },
  {
   "cell_type": "code",
   "execution_count": null,
   "metadata": {},
   "outputs": [],
   "source": []
  }
 ],
 "metadata": {
  "kernelspec": {
   "display_name": "NLPtests",
   "language": "python",
   "name": "nlptests"
  },
  "language_info": {
   "codemirror_mode": {
    "name": "ipython",
    "version": 3
   },
   "file_extension": ".py",
   "mimetype": "text/x-python",
   "name": "python",
   "nbconvert_exporter": "python",
   "pygments_lexer": "ipython3",
   "version": "3.8.8"
  }
 },
 "nbformat": 4,
 "nbformat_minor": 4
}
