{
 "cells": [
  {
   "cell_type": "code",
   "execution_count": 14,
   "metadata": {},
   "outputs": [
    {
     "data": {
      "text/html": [
       "<style>.container { width:100% !important; }</style>"
      ],
      "text/plain": [
       "<IPython.core.display.HTML object>"
      ]
     },
     "metadata": {},
     "output_type": "display_data"
    }
   ],
   "source": [
    "from IPython.core.display import display, HTML\n",
    "display(HTML(\"<style>.container { width:100% !important; }</style>\"))"
   ]
  },
  {
   "cell_type": "code",
   "execution_count": 4,
   "metadata": {},
   "outputs": [],
   "source": [
    "import pandas as pd"
   ]
  },
  {
   "cell_type": "code",
   "execution_count": 45,
   "metadata": {},
   "outputs": [],
   "source": [
    "pd.options.display.max_rows = None"
   ]
  },
  {
   "cell_type": "code",
   "execution_count": 5,
   "metadata": {},
   "outputs": [],
   "source": [
    "df = pd.read_csv(r\"D:\\Work\\Coding\\Data\\some-news.csv\")\n",
    "#Cleaning up garbage I injected with a previous process\n",
    "df = df.drop(\"Unnamed: 0\", axis=1)\n",
    "df = df.drop(\"Unnamed: 0.1\", axis=1)\n",
    "df['article'] = df['article'].astype(str)"
   ]
  },
  {
   "cell_type": "code",
   "execution_count": 46,
   "metadata": {},
   "outputs": [
    {
     "data": {
      "text/html": [
       "<div>\n",
       "<style scoped>\n",
       "    .dataframe tbody tr th:only-of-type {\n",
       "        vertical-align: middle;\n",
       "    }\n",
       "\n",
       "    .dataframe tbody tr th {\n",
       "        vertical-align: top;\n",
       "    }\n",
       "\n",
       "    .dataframe thead th {\n",
       "        text-align: right;\n",
       "    }\n",
       "</style>\n",
       "<table border=\"1\" class=\"dataframe\">\n",
       "  <thead>\n",
       "    <tr style=\"text-align: right;\">\n",
       "      <th></th>\n",
       "      <th>title</th>\n",
       "    </tr>\n",
       "  </thead>\n",
       "  <tbody>\n",
       "    <tr>\n",
       "      <th>0</th>\n",
       "      <td>We should take concerns about the health of li...</td>\n",
       "    </tr>\n",
       "    <tr>\n",
       "      <th>1</th>\n",
       "      <td>Colts GM Ryan Grigson says Andrew Luck's contr...</td>\n",
       "    </tr>\n",
       "    <tr>\n",
       "      <th>2</th>\n",
       "      <td>Trump denies report he ordered Mueller fired</td>\n",
       "    </tr>\n",
       "    <tr>\n",
       "      <th>3</th>\n",
       "      <td>France's Sarkozy reveals his 'Passions' but in...</td>\n",
       "    </tr>\n",
       "    <tr>\n",
       "      <th>4</th>\n",
       "      <td>Paris Hilton: Woman In Black For Uncle Monty's...</td>\n",
       "    </tr>\n",
       "  </tbody>\n",
       "</table>\n",
       "</div>"
      ],
      "text/plain": [
       "                                               title\n",
       "0  We should take concerns about the health of li...\n",
       "1  Colts GM Ryan Grigson says Andrew Luck's contr...\n",
       "2       Trump denies report he ordered Mueller fired\n",
       "3  France's Sarkozy reveals his 'Passions' but in...\n",
       "4  Paris Hilton: Woman In Black For Uncle Monty's..."
      ]
     },
     "execution_count": 46,
     "metadata": {},
     "output_type": "execute_result"
    }
   ],
   "source": [
    "df[[\"title\"]].head()"
   ]
  },
  {
   "cell_type": "code",
   "execution_count": 17,
   "metadata": {},
   "outputs": [
    {
     "data": {
      "text/plain": [
       "995"
      ]
     },
     "execution_count": 17,
     "metadata": {},
     "output_type": "execute_result"
    }
   ],
   "source": [
    "len(df)"
   ]
  },
  {
   "cell_type": "code",
   "execution_count": 20,
   "metadata": {},
   "outputs": [],
   "source": [
    "df['article'] = df['article'].str.replace(\"&amp;\", \"&\") #Fix ampersand\n",
    "\n",
    "##Fix garbage "
   ]
  },
  {
   "cell_type": "code",
   "execution_count": 21,
   "metadata": {
    "scrolled": false
   },
   "outputs": [
    {
     "data": {
      "text/plain": [
       "\" The Indianapolis Colts made Andrew Luck the highest-paid player in NFL history this offseason with a five-year, $122-million contract with $89 million guaranteed. However, they're already finding that Luck's contract is inhibiting their ability to address weaknesses on other parts of the roster, particularly on defense. On Friday, Colts GM Ryan Grigson, who is under fire for the Colts 1-3 start, said that it's difficult to build up the team's defense with Luck making so much money. According to Keefer, Grigson did point out that the Colts still have young talent they're hoping to develop on defense. However, blaming Luck's contract — which the Colts gave him — for having a weak defense (30th in defensive DVOA) is not accurate. As others have pointed out, last year's Denver Broncos paid Peyton Manning $15 million in base salary while also boasting an elite defense. Luck also takes up $18.4 million against the salary cap this year, less than $1 million more than Manning did a year ago ($17.5 million). Much of this comes from drafting successfully, which the Colts have not done as well as elite teams like the Broncos or the Patriots, for instance. Now, with the Colts handcuffed to Luck's contract, drafting is going to become especially important, as will the use of whatever money they have in free agency. It's certainly possible to build a good defense with a high-paid quarterback, but if the Colts felt that paying Luck such a high sum of money would be difficult, perhaps they should have reconsidered what the final numbers. \\n\\n\\n\\n\\n\\n\\n\\n\\n\\nThe highest-paid player on all 32 NFL teams\""
      ]
     },
     "execution_count": 21,
     "metadata": {},
     "output_type": "execute_result"
    }
   ],
   "source": [
    "df['article'][1]"
   ]
  },
  {
   "cell_type": "code",
   "execution_count": 22,
   "metadata": {},
   "outputs": [],
   "source": [
    "import nltk\n",
    "from nltk.corpus import stopwords\n",
    "import re\n",
    "import unicodedata"
   ]
  },
  {
   "cell_type": "code",
   "execution_count": 23,
   "metadata": {},
   "outputs": [],
   "source": [
    "def basic_clean(text):\n",
    "    \"\"\"\n",
    "    A simple function to clean up the data. All the words that\n",
    "    are not designated as a stop word is then lemmatized after\n",
    "    encoding and basic regex parsing are performed.\n",
    "    \"\"\"\n",
    "    wnl = nltk.stem.WordNetLemmatizer()\n",
    "    stopwords = nltk.corpus.stopwords.words('english')\n",
    "    text = (unicodedata.normalize('NFKD', text)\n",
    "    .encode('ascii', 'ignore')\n",
    "    .decode('utf-8', 'ignore')\n",
    "    .lower())\n",
    "    text = re.sub(r'[\\n]*', '', text)\n",
    "    words = re.sub(r'[^\\w\\s]', '', text).split()\n",
    "    return [wnl.lemmatize(word) for word in words if word not in stopwords]"
   ]
  },
  {
   "cell_type": "code",
   "execution_count": 24,
   "metadata": {},
   "outputs": [],
   "source": [
    "words = basic_clean(''.join(str(df['article'].tolist())))"
   ]
  },
  {
   "cell_type": "code",
   "execution_count": 25,
   "metadata": {},
   "outputs": [
    {
     "data": {
      "text/plain": [
       "358287"
      ]
     },
     "execution_count": 25,
     "metadata": {},
     "output_type": "execute_result"
    }
   ],
   "source": [
    "len(words)"
   ]
  },
  {
   "cell_type": "code",
   "execution_count": 26,
   "metadata": {},
   "outputs": [
    {
     "data": {
      "text/plain": [
       "(said,)         2519\n",
       "(one,)          1673\n",
       "(people,)       1575\n",
       "(like,)         1517\n",
       "(year,)         1450\n",
       "(u,)            1389\n",
       "(trump,)        1388\n",
       "(time,)         1310\n",
       "(would,)        1309\n",
       "(new,)          1241\n",
       "(also,)         1122\n",
       "(say,)           963\n",
       "(state,)         929\n",
       "(could,)         836\n",
       "(first,)         805\n",
       "(even,)          805\n",
       "(make,)          793\n",
       "(get,)           777\n",
       "(two,)           766\n",
       "(way,)           756\n",
       "(president,)     718\n",
       "(company,)       707\n",
       "(told,)          661\n",
       "(work,)          659\n",
       "(last,)          651\n",
       "dtype: int64"
      ]
     },
     "execution_count": 26,
     "metadata": {},
     "output_type": "execute_result"
    }
   ],
   "source": [
    "(pd.Series(nltk.ngrams(words, 1)).value_counts())[:25]"
   ]
  },
  {
   "cell_type": "code",
   "execution_count": 27,
   "metadata": {},
   "outputs": [
    {
     "data": {
      "text/plain": [
       "(new, york)                 300\n",
       "(united, state)             258\n",
       "(donald, trump)             237\n",
       "(last, year)                201\n",
       "(previous, next)            168\n",
       "(menu, sometimes)           168\n",
       "(expandable, section)       168\n",
       "(iconnit, indicates)        168\n",
       "(sometimes, previous)       168\n",
       "(navigation, optionsnn)     168\n",
       "(section, menu)             168\n",
       "(next, navigation)          168\n",
       "(indicates, expandable)     168\n",
       "(white, house)              164\n",
       "(last, week)                124\n",
       "(social, medium)            112\n",
       "(president, donald)         110\n",
       "(year, ago)                 104\n",
       "(health, care)               95\n",
       "(hillary, clinton)           90\n",
       "(first, time)                89\n",
       "(north, korea)               88\n",
       "(said, statement)            87\n",
       "(nnnnchevron, iconnit)       84\n",
       "(optionsnn, nnnnchevron)     84\n",
       "dtype: int64"
      ]
     },
     "execution_count": 27,
     "metadata": {},
     "output_type": "execute_result"
    }
   ],
   "source": [
    "(pd.Series(nltk.ngrams(words, 2)).value_counts())[:25]"
   ]
  },
  {
   "cell_type": "code",
   "execution_count": 28,
   "metadata": {},
   "outputs": [
    {
     "data": {
      "text/plain": [
       "(menu, sometimes, previous)              168\n",
       "(section, menu, sometimes)               168\n",
       "(next, navigation, optionsnn)            168\n",
       "(iconnit, indicates, expandable)         168\n",
       "(previous, next, navigation)             168\n",
       "(expandable, section, menu)              168\n",
       "(indicates, expandable, section)         168\n",
       "(sometimes, previous, next)              168\n",
       "(president, donald, trump)               107\n",
       "(nnnnchevron, iconnit, indicates)         84\n",
       "(navigation, optionsnn, nnnnchevron)      84\n",
       "(optionsnn, nnnnchevron, iconnit)         84\n",
       "(article, originally, appeared)           66\n",
       "(new, york, time)                         60\n",
       "(advertise, hyperallergic, nectar)        54\n",
       "(hyperallergic, nectar, ad)               54\n",
       "(originally, appeared, recodenet)         53\n",
       "(new, york, city)                         42\n",
       "(u, president, donald)                    35\n",
       "(affordable, care, act)                   32\n",
       "(told, vice, news)                        29\n",
       "(nnnnnnnnchevron, iconnit, indicates)     18\n",
       "(president, barack, obama)                18\n",
       "(respond, request, comment)               17\n",
       "(washington, reuters, u)                  17\n",
       "dtype: int64"
      ]
     },
     "execution_count": 28,
     "metadata": {},
     "output_type": "execute_result"
    }
   ],
   "source": [
    "(pd.Series(nltk.ngrams(words, 3)).value_counts())[:25]"
   ]
  },
  {
   "cell_type": "code",
   "execution_count": 29,
   "metadata": {},
   "outputs": [
    {
     "data": {
      "text/plain": [
       "(iconnit, indicates, expandable, section)                168\n",
       "(previous, next, navigation, optionsnn)                  168\n",
       "(sometimes, previous, next, navigation)                  168\n",
       "(indicates, expandable, section, menu)                   168\n",
       "(menu, sometimes, previous, next)                        168\n",
       "(expandable, section, menu, sometimes)                   168\n",
       "(section, menu, sometimes, previous)                     168\n",
       "(next, navigation, optionsnn, nnnnchevron)                84\n",
       "(optionsnn, nnnnchevron, iconnit, indicates)              84\n",
       "(navigation, optionsnn, nnnnchevron, iconnit)             84\n",
       "(nnnnchevron, iconnit, indicates, expandable)             84\n",
       "(advertise, hyperallergic, nectar, ad)                    54\n",
       "(article, originally, appeared, recodenet)                53\n",
       "(u, president, donald, trump)                             35\n",
       "(nnnnnnnnchevron, iconnit, indicates, expandable)         18\n",
       "(nnnnnnnnnnnnchevron, iconnit, indicates, expandable)     13\n",
       "(sign, newsletter, get, best)                             12\n",
       "(reuters, u, president, donald)                           11\n",
       "(attorney, general, jeff, session)                        11\n",
       "(prime, minister, theresa, may)                           10\n",
       "(immediately, respond, request, comment)                  10\n",
       "(president, donald, trump, said)                          10\n",
       "(house, speaker, paul, ryan)                               9\n",
       "(russian, president, vladimir, putin)                      9\n",
       "(el, museo, del, barrio)                                   8\n",
       "dtype: int64"
      ]
     },
     "execution_count": 29,
     "metadata": {},
     "output_type": "execute_result"
    }
   ],
   "source": [
    "(pd.Series(nltk.ngrams(words, 4)).value_counts())[:25]"
   ]
  },
  {
   "cell_type": "code",
   "execution_count": 30,
   "metadata": {},
   "outputs": [
    {
     "data": {
      "text/plain": [
       "(menu, sometimes, previous, next, navigation)                     168\n",
       "(expandable, section, menu, sometimes, previous)                  168\n",
       "(section, menu, sometimes, previous, next)                        168\n",
       "(sometimes, previous, next, navigation, optionsnn)                168\n",
       "(iconnit, indicates, expandable, section, menu)                   168\n",
       "(indicates, expandable, section, menu, sometimes)                 168\n",
       "(previous, next, navigation, optionsnn, nnnnchevron)               84\n",
       "(next, navigation, optionsnn, nnnnchevron, iconnit)                84\n",
       "(nnnnchevron, iconnit, indicates, expandable, section)             84\n",
       "(navigation, optionsnn, nnnnchevron, iconnit, indicates)           84\n",
       "(optionsnn, nnnnchevron, iconnit, indicates, expandable)           84\n",
       "(nnnnnnnnchevron, iconnit, indicates, expandable, section)         18\n",
       "(nnnnnnnnnnnnchevron, iconnit, indicates, expandable, section)     13\n",
       "(reuters, u, president, donald, trump)                             11\n",
       "(nnnnnnnnnnnchevron, iconnit, indicates, expandable, section)       8\n",
       "(former, vice, president, joe, biden)                               7\n",
       "(best, vice, delivered, inbox, daily)                               7\n",
       "(newsletter, get, best, vice, delivered)                            7\n",
       "(house, minority, leader, nancy, pelosi)                            7\n",
       "(get, best, vice, delivered, inbox)                                 7\n",
       "(sign, newsletter, get, best, vice)                                 7\n",
       "(story, good, vox, sign, newsletter)                                6\n",
       "(best, vice, news, inbox, sign)                                     6\n",
       "(u, president, donald, trump, said)                                 6\n",
       "(want, best, vice, news, inbox)                                     6\n",
       "dtype: int64"
      ]
     },
     "execution_count": 30,
     "metadata": {},
     "output_type": "execute_result"
    }
   ],
   "source": [
    "(pd.Series(nltk.ngrams(words, 5)).value_counts())[:25]"
   ]
  },
  {
   "cell_type": "code",
   "execution_count": 31,
   "metadata": {},
   "outputs": [
    {
     "data": {
      "text/plain": [
       "(indicates, expandable, section, menu, sometimes, previous)             168\n",
       "(expandable, section, menu, sometimes, previous, next)                  168\n",
       "(iconnit, indicates, expandable, section, menu, sometimes)              168\n",
       "(section, menu, sometimes, previous, next, navigation)                  168\n",
       "(menu, sometimes, previous, next, navigation, optionsnn)                168\n",
       "(next, navigation, optionsnn, nnnnchevron, iconnit, indicates)           84\n",
       "(sometimes, previous, next, navigation, optionsnn, nnnnchevron)          84\n",
       "(nnnnchevron, iconnit, indicates, expandable, section, menu)             84\n",
       "(navigation, optionsnn, nnnnchevron, iconnit, indicates, expandable)     84\n",
       "(optionsnn, nnnnchevron, iconnit, indicates, expandable, section)        84\n",
       "(previous, next, navigation, optionsnn, nnnnchevron, iconnit)            84\n",
       "(nnnnnnnnchevron, iconnit, indicates, expandable, section, menu)         18\n",
       "(nnnnnnnnnnnnchevron, iconnit, indicates, expandable, section, menu)     13\n",
       "(nnnnnnnnnnnchevron, iconnit, indicates, expandable, section, menu)       8\n",
       "(newsletter, get, best, vice, delivered, inbox)                           7\n",
       "(sign, newsletter, get, best, vice, delivered)                            7\n",
       "(get, best, vice, delivered, inbox, daily)                                7\n",
       "(want, best, vice, news, inbox, sign)                                     6\n",
       "(want, story, good, vox, sign, newsletter)                                6\n",
       "(publish, notice, comment, proposed, rule, suspending)                    5\n",
       "(policy, set, forth, section, 1, order)                                   5\n",
       "(newsletter, get, best, tonic, delivered, inbox)                          5\n",
       "(favorite, motherboard, story, every, day, signing)                       5\n",
       "(six, favorite, motherboard, story, every, day)                           5\n",
       "(sign, newsletter, get, best, tonic, delivered)                           5\n",
       "dtype: int64"
      ]
     },
     "execution_count": 31,
     "metadata": {},
     "output_type": "execute_result"
    }
   ],
   "source": [
    "(pd.Series(nltk.ngrams(words, 6)).value_counts())[:25]"
   ]
  },
  {
   "cell_type": "markdown",
   "metadata": {},
   "source": [
    "-------"
   ]
  },
  {
   "cell_type": "code",
   "execution_count": null,
   "metadata": {},
   "outputs": [],
   "source": []
  }
 ],
 "metadata": {
  "kernelspec": {
   "display_name": "NLPtests",
   "language": "python",
   "name": "nlptests"
  },
  "language_info": {
   "codemirror_mode": {
    "name": "ipython",
    "version": 3
   },
   "file_extension": ".py",
   "mimetype": "text/x-python",
   "name": "python",
   "nbconvert_exporter": "python",
   "pygments_lexer": "ipython3",
   "version": "3.8.8"
  }
 },
 "nbformat": 4,
 "nbformat_minor": 4
}
