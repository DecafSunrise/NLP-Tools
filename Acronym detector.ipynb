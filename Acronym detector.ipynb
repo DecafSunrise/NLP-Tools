{
 "cells": [
  {
   "cell_type": "code",
   "execution_count": 1,
   "id": "04fe90f9",
   "metadata": {},
   "outputs": [
    {
     "name": "stderr",
     "output_type": "stream",
     "text": [
      "C:\\Users\\Danny\\.conda\\envs\\NLP\\lib\\site-packages\\numpy\\_distributor_init.py:30: UserWarning: loaded more than 1 DLL from .libs:\n",
      "C:\\Users\\Danny\\.conda\\envs\\NLP\\lib\\site-packages\\numpy\\.libs\\libopenblas.GK7GX5KEQ4F6UYO3P26ULGBQYHGQO7J4.gfortran-win_amd64.dll\n",
      "C:\\Users\\Danny\\.conda\\envs\\NLP\\lib\\site-packages\\numpy\\.libs\\libopenblas.WCDJNK7YVMPZQ2ME2ZZHJJRJ3JIKNDB7.gfortran-win_amd64.dll\n",
      "  warnings.warn(\"loaded more than 1 DLL from .libs:\"\n"
     ]
    }
   ],
   "source": [
    "import pandas as pd\n",
    "import re"
   ]
  },
  {
   "cell_type": "code",
   "execution_count": 23,
   "id": "0cf05165",
   "metadata": {},
   "outputs": [],
   "source": [
    "from tqdm import tqdm\n",
    "\n",
    "tqdm.pandas()"
   ]
  },
  {
   "cell_type": "code",
   "execution_count": 67,
   "id": "360d9289",
   "metadata": {},
   "outputs": [],
   "source": [
    "def getAcronyms(text):\n",
    "    outdict = dict()\n",
    "    \n",
    "    poss_hits = re.findall(r'\\([A-Z\\-\\\\]+\\)', text)\n",
    "    for zz in poss_hits:\n",
    "        print(zz)\n",
    "        try:\n",
    "            match = re.search(zz, text)\n",
    "            match_text = match.group(0)\n",
    "            clean_match_text = match_text.replace(\"-\",\"\").replace(\"\\\\\",\"\")\n",
    "            hitlen = len(clean_match_text)\n",
    "            hitspan = match.span()\n",
    "            text_before_hit = text[:hitspan[1]]\n",
    "            print(text_before_hit)\n",
    "            desc_text = text_before_hit.rsplit(\" \", hitlen+1)[0:-1]\n",
    "            print(desc_text)\n",
    "            initials = \"\".join([x[0] for x in desc_text]).lower()\n",
    "            if initials == clean_match_text.lower():\n",
    "                print(f\"{match_text}: {' '.join(desc_text)}\")\n",
    "                outdict[match_text] = ' '.join(desc_text)\n",
    "        except:\n",
    "            pass\n",
    "                \n",
    "    return outdict"
   ]
  },
  {
   "cell_type": "code",
   "execution_count": 76,
   "id": "8ea63a24",
   "metadata": {},
   "outputs": [],
   "source": [
    "testtext = \"\"\"Open Source Software (OSS) is cool because it's baller as f*ck (BAF)\"\"\""
   ]
  },
  {
   "cell_type": "code",
   "execution_count": 77,
   "id": "10c28026",
   "metadata": {},
   "outputs": [
    {
     "name": "stdout",
     "output_type": "stream",
     "text": [
      "(OSS)\n",
      "Open Source Software (OSS\n",
      "['Open', 'Source', 'Software']\n",
      "OSS: Open Source Software\n",
      "(BAF)\n",
      "Open Source Software (OSS) is cool because it's baller as f*ck (BAF\n",
      "[\"Open Source Software (OSS) is cool because it's\", 'baller', 'as', 'f*ck']\n"
     ]
    },
    {
     "data": {
      "text/plain": [
       "{'OSS': 'Open Source Software'}"
      ]
     },
     "execution_count": 77,
     "metadata": {},
     "output_type": "execute_result"
    }
   ],
   "source": [
    "getAcronyms(testtext)"
   ]
  },
  {
   "cell_type": "code",
   "execution_count": 40,
   "id": "c1f99420",
   "metadata": {},
   "outputs": [],
   "source": [
    "df = pd.read_csv(r\"D:\\Work\\Data\\medium_articles.csv\")"
   ]
  },
  {
   "cell_type": "code",
   "execution_count": null,
   "id": "6e21e902",
   "metadata": {},
   "outputs": [],
   "source": [
    "df['acronyms'] = df['text'].progress_apply(getAcronyms)"
   ]
  },
  {
   "cell_type": "code",
   "execution_count": 75,
   "id": "b1a0ad2f",
   "metadata": {
    "scrolled": false
   },
   "outputs": [
    {
     "ename": "TypeError",
     "evalue": "unhashable type: 'dict'",
     "output_type": "error",
     "traceback": [
      "\u001b[1;31m---------------------------------------------------------------------------\u001b[0m",
      "\u001b[1;31mTypeError\u001b[0m                                 Traceback (most recent call last)",
      "File \u001b[1;32mpandas\\_libs\\hashtable_class_helper.pxi:5231\u001b[0m, in \u001b[0;36mpandas._libs.hashtable.PyObjectHashTable.map_locations\u001b[1;34m()\u001b[0m\n",
      "\u001b[1;31mTypeError\u001b[0m: unhashable type: 'dict'"
     ]
    },
    {
     "name": "stderr",
     "output_type": "stream",
     "text": [
      "Exception ignored in: 'pandas._libs.index.IndexEngine._call_map_locations'\n",
      "Traceback (most recent call last):\n",
      "  File \"pandas\\_libs\\hashtable_class_helper.pxi\", line 5231, in pandas._libs.hashtable.PyObjectHashTable.map_locations\n",
      "TypeError: unhashable type: 'dict'\n"
     ]
    },
    {
     "data": {
      "text/plain": [
       "{'ML': 'Machine Learning'}                               7\n",
       "{'AI': 'Artificial intelligence'}                        6\n",
       "{'AI': 'Artificial Intelligence'}                        5\n",
       "{'NLP': 'Natural Language Processing'}                   5\n",
       "{'NLP': 'Natural language processing'}                   5\n",
       "{'RPA': 'Robotic Process Automation'}                    4\n",
       "{'EDA': 'Exploratory data analysis'}                     4\n",
       "{'AR': 'Augmented reality'}                              4\n",
       "{'SEO': 'Search engine optimization'}                    3\n",
       "{'AWS': 'Amazon Web Service'}                            3\n",
       "{'DI': 'Dependency Injection'}                           3\n",
       "{'EDA': 'Exploratory Data Analysis'}                     3\n",
       "{'-': ''}                                                2\n",
       "{'ML': 'Machine learning'}                               2\n",
       "{'GKE': 'Google Kubernetes Engine'}                      2\n",
       "{'CRM': 'Customer relationship management'}              2\n",
       "{'RSA': 'Refugee Support Aegean'}                        2\n",
       "{'VR': 'Virtual Reality'}                                2\n",
       "{'CNN': 'Convolutional Neural Networks'}                 2\n",
       "{'BI': 'Business Intelligence'}                          2\n",
       "{'HR': 'Human Resource'}                                 2\n",
       "{'IMC': 'Indus Motor Company'}                           1\n",
       "{'YOLO': 'You only look once'}                           1\n",
       "{'PTSD': 'Post traumatic stress disorder'}               1\n",
       "{'BIM': 'Building Information Modeling'}                 1\n",
       "{'ACH': 'Automated Clearing House'}                      1\n",
       "{'FVM': 'Flutter Version Management'}                    1\n",
       "{'JWT': 'JSON Web Token'}                                1\n",
       "{'EA': 'Effective Altruism'}                             1\n",
       "{'VDF': 'Verifiable delay functions'}                    1\n",
       "{'HV': 'Historical volatility'}                          1\n",
       "{'UAM': 'Urban Air Mobility'}                            1\n",
       "{'RDBMS': 'Relational Data Base Management Systems'}     1\n",
       "{'LOUD': 'Live Outside Urban Data'}                      1\n",
       "{'IMC': 'Instrument Meteorological Conditions'}          1\n",
       "{'GSC': 'Guildford Shakespeare Company'}                 1\n",
       "{'MLE': 'Maximum Likelihood Estimation'}                 1\n",
       "{'PPP': 'Payroll Protection Program'}                    1\n",
       "{'WHO': 'World health organization'}                     1\n",
       "{'MPT': 'Modern Portfolio Theory'}                       1\n",
       "{'ANI': 'Artificial Narrow Intelligence'}                1\n",
       "{'CBT': 'Cognitive behavioural therapy'}                 1\n",
       "{'FEI': 'Falconer Electronics Inc.'}                     1\n",
       "{'SCD': 'Slowly Changing Dimensions'}                    1\n",
       "{'MAP': 'Minimal Advertised Price'}                      1\n",
       "{'NTF': 'New Token Farm'}                                1\n",
       "{'ITC': 'Islamic Tourism Centre'}                        1\n",
       "{'GIS': 'Geographic Information Systems'}                1\n",
       "{'YMMV': 'Your mileage may vary'}                        1\n",
       "{'YGG': 'Yield Guild Games'}                             1\n",
       "{'ICA': 'Independent Component Analysis'}                1\n",
       "{'BAT': 'Basic Attention Token'}                         1\n",
       "{'CRM': 'Customer Relationship Management'}              1\n",
       "{'BON': 'BOOK OFFICE NOW'}                               1\n",
       "{'NDC': 'New Distribution Capability'}                   1\n",
       "{'RBM': 'RCS Business Messaging'}                        1\n",
       "{'BSC': 'Binance Smart Chain'}                           1\n",
       "{'DI': 'Diabetes Insipidus'}                             1\n",
       "{'MVP': 'Most Valuable Player'}                          1\n",
       "{'SEO': 'Search Engine Optimization'}                    1\n",
       "{'ABS': 'Acrylonitrile Butadiene Styrene'}               1\n",
       "{'IP': 'Intellectual Property'}                          1\n",
       "{'CWIT': 'Charlottesville Women in Tech'}                1\n",
       "{'PWA': 'Progressive Web App'}                           1\n",
       "{'NP': 'No Proscenium'}                                  1\n",
       "{'FOMO': 'Fear of missing out'}                          1\n",
       "{'EQ': 'Emotional Quotient'}                             1\n",
       "{'NTT': 'New trade theory'}                              1\n",
       "{'THJ': 'Transformative Health Justice'}                 1\n",
       "{'EMS': 'Emergency Medical Services'}                    1\n",
       "{'IDM': 'Input Data Messages'}                           1\n",
       "{'SM': 'Secure Messaging'}                               1\n",
       "{'AWS': 'Amazon Web Services'}                           1\n",
       "{'BAM': 'Brand Asset Management'}                        1\n",
       "{'MIR': 'Market Industry Reports'}                       1\n",
       "{'HSM': 'Hardware Security Module'}                      1\n",
       "{'DLT': 'Distributed Ledger Technology-'}                1\n",
       "{'PR': 'Public relations'}                               1\n",
       "{'QA': 'Quality assurance'}                              1\n",
       "{'GLM': 'Generalized Linear Model'}                      1\n",
       "{'UPP': 'Upward pricing pressure'}                       1\n",
       "{'PCA': 'Principal Component Analysis'}                  1\n",
       "{'EV': 'Electric Vehicles'}                              1\n",
       "{'VR': 'Virtual reality'}                                1\n",
       "{'HPA': 'Hydraulic Project Approval'}                    1\n",
       "{'CS': 'Coastal squeeze'}                                1\n",
       "{'TSP': 'Travelling Salesman Problem'}                   1\n",
       "{'BCHS': 'Brea Canyon High School'}                      1\n",
       "{'CAA': 'Civil Aviation Authority'}                      1\n",
       "{'PPML': 'Privacy preserving machine learning'}          1\n",
       "{'ECT': 'Electro Convulsive Therapy'}                    1\n",
       "{'SEO': 'Search Engine Optimizations'}                   1\n",
       "{'SVM': 'Support vector machines'}                       1\n",
       "{'NLG': 'Natural Language Generation'}                   1\n",
       "{'BD': 'Behavioural Design'}                             1\n",
       "{'LN': 'Lightning Network'}                              1\n",
       "{'GDPR': 'General Data Protection Regulation'}           1\n",
       "{'GCP': 'Google Cloud Platform'}                         1\n",
       "{'BLE': 'Bluetooth Low Energy'}                          1\n",
       "{'CI': 'Continuous integration'}                         1\n",
       "{'MBWA': 'Management by Walking Around'}                 1\n",
       "{'HGG': 'Hearthstone Global Games'}                      1\n",
       "{'ICO': 'Initial Coin Offerings'}                        1\n",
       "{'BDE': 'Banco de España'}                               1\n",
       "{'MC': 'Monte Carlo'}                                    1\n",
       "{'AEM': 'Adobe Experience Manager'}                      1\n",
       "{'DRM': 'Digital Rights Management'}                     1\n",
       "{'DP': 'Dynamic programming'}                            1\n",
       "{'SVM': 'Support Vector Machine'}                        1\n",
       "{'BFS': 'Breadth first search'}                          1\n",
       "{'CD': 'Continuous Delivery'}                            1\n",
       "{'GOL': 'Game of Leadership'}                            1\n",
       "{'WCAG': 'Web Content Accessibility Guidelines'}         1\n",
       "{'DIP': 'Dependency inversion Principle'}                1\n",
       "{'RFP': 'Request for Proposal'}                          1\n",
       "{'SQL': 'Structured Query Language'}                     1\n",
       "{'ERP': 'Enterprise resource planning'}                  1\n",
       "{'LIT': 'Language Interpretability Tool'}                1\n",
       "{'ADAS': 'Advanced Driver Assistance Systems'}           1\n",
       "{'SIP': 'Systematic Investment Plan'}                    1\n",
       "{'LRU': 'Least Recently Used'}                           1\n",
       "{'GB': 'Great Britain'}                                  1\n",
       "{'PWM': 'Personal wealth management'}                    1\n",
       "{'HC': 'Human capital'}                                  1\n",
       "{'GVR': 'Generalized Virtual Reality'}                   1\n",
       "{'DL': 'Deep learning'}                                  1\n",
       "{'ITR': 'Income tax return'}                             1\n",
       "{'IIFE': 'Immediately Invoked Function Expression'}      1\n",
       "{'MLK': 'Martin Luther King'}                            1\n",
       "{'DAM': 'Digital asset management'}                      1\n",
       "{'QA': 'Quality Assurance'}                              1\n",
       "{'ELM': 'Engineering lifecycle management'}              1\n",
       "{'CCI': 'Call Center Intelligence'}                      1\n",
       "{'STL': 'Standard Template Library'}                     1\n",
       "{'MMPC': 'Mitsubishi Motors Philippines Corporation'}    1\n",
       "{'SUD': 'Substance use disorder'}                        1\n",
       "{'AR': 'Augmented Reality'}                              1\n",
       "{'DL': 'Design League'}                                  1\n",
       "{'SMS': 'Sports Marketing Surveys'}                      1\n",
       "{'SCM': 'Supply Chain Management'}                       1\n",
       "{'UI': 'User Interface'}                                 1\n",
       "{'TLS': 'Transport Layer Security'}                      1\n",
       "{'CBT': 'Cognitive Behavioural Therapy'}                 1\n",
       "{'HTCE': 'High Tech Campus Eindhoven'}                   1\n",
       "{'SCV': 'Supply Chain Visibility'}                       1\n",
       "{'BOB': 'Bank Of Baroda'}                                1\n",
       "{'BIA': 'BlockFi Interest Account'}                      1\n",
       "{'AP': 'Accounts payable'}                               1\n",
       "Name: acronyms, dtype: int64"
      ]
     },
     "execution_count": 75,
     "metadata": {},
     "output_type": "execute_result"
    }
   ],
   "source": [
    "df[df['acronyms']!={}]['acronyms'].value_counts()"
   ]
  },
  {
   "cell_type": "code",
   "execution_count": 70,
   "id": "0bec867f",
   "metadata": {},
   "outputs": [
    {
     "data": {
      "text/plain": [
       "192368"
      ]
     },
     "execution_count": 70,
     "metadata": {},
     "output_type": "execute_result"
    }
   ],
   "source": [
    "len(df)"
   ]
  },
  {
   "cell_type": "code",
   "execution_count": 74,
   "id": "25f88cd6",
   "metadata": {},
   "outputs": [],
   "source": [
    "pd.set_option(\"display.max_rows\", None)"
   ]
  },
  {
   "cell_type": "code",
   "execution_count": null,
   "id": "1392db7a",
   "metadata": {},
   "outputs": [],
   "source": []
  }
 ],
 "metadata": {
  "kernelspec": {
   "display_name": "NLP",
   "language": "python",
   "name": "nlp"
  },
  "language_info": {
   "codemirror_mode": {
    "name": "ipython",
    "version": 3
   },
   "file_extension": ".py",
   "mimetype": "text/x-python",
   "name": "python",
   "nbconvert_exporter": "python",
   "pygments_lexer": "ipython3",
   "version": "3.8.11"
  }
 },
 "nbformat": 4,
 "nbformat_minor": 5
}
