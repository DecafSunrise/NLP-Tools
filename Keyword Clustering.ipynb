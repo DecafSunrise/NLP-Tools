{
 "cells": [
  {
   "cell_type": "code",
   "execution_count": 1,
   "id": "87d03176",
   "metadata": {},
   "outputs": [],
   "source": [
    "import pandas as pd\n",
    "import yake\n",
    "\n",
    "from tqdm import tqdm\n",
    "tqdm.pandas()\n",
    "\n",
    "# import swifter\n",
    "\n",
    "from unidecode import unidecode"
   ]
  },
  {
   "cell_type": "code",
   "execution_count": 25,
   "id": "149ea2e1",
   "metadata": {},
   "outputs": [],
   "source": [
    "from sentence_transformers import SentenceTransformer, util"
   ]
  },
  {
   "cell_type": "code",
   "execution_count": 3,
   "id": "6e3d4605",
   "metadata": {},
   "outputs": [],
   "source": [
    "df = pd.read_csv(r'D:\\Work\\Data\\medium_articles.csv')"
   ]
  },
  {
   "cell_type": "code",
   "execution_count": 4,
   "id": "aa1c5d4c",
   "metadata": {},
   "outputs": [],
   "source": [
    "kw_extractor = yake.KeywordExtractor()"
   ]
  },
  {
   "cell_type": "code",
   "execution_count": 7,
   "id": "18cef601",
   "metadata": {},
   "outputs": [],
   "source": [
    "df = df.head(5000)"
   ]
  },
  {
   "cell_type": "code",
   "execution_count": 8,
   "id": "614ee60c",
   "metadata": {},
   "outputs": [
    {
     "name": "stderr",
     "output_type": "stream",
     "text": [
      "100%|██████████████████████████████████████████████████████████████████████████████| 5000/5000 [07:26<00:00, 11.20it/s]\n"
     ]
    }
   ],
   "source": [
    "df['keywords'] = df['text'].progress_apply(kw_extractor.extract_keywords)"
   ]
  },
  {
   "cell_type": "code",
   "execution_count": 19,
   "id": "1c1504e6",
   "metadata": {},
   "outputs": [
    {
     "name": "stderr",
     "output_type": "stream",
     "text": [
      "100%|██████████████████████████████████████████████████████████████████████████| 5000/5000 [00:00<00:00, 199980.17it/s]\n"
     ]
    }
   ],
   "source": [
    "df['clean_kw'] = df['keywords'].progress_apply(lambda x: [y[0] for y in x])"
   ]
  },
  {
   "cell_type": "code",
   "execution_count": 23,
   "id": "4b68b46d",
   "metadata": {},
   "outputs": [],
   "source": [
    "df_kw = df[['clean_kw']].explode('clean_kw')"
   ]
  },
  {
   "cell_type": "code",
   "execution_count": 24,
   "id": "77933458",
   "metadata": {},
   "outputs": [
    {
     "data": {
      "text/html": [
       "<div>\n",
       "<style scoped>\n",
       "    .dataframe tbody tr th:only-of-type {\n",
       "        vertical-align: middle;\n",
       "    }\n",
       "\n",
       "    .dataframe tbody tr th {\n",
       "        vertical-align: top;\n",
       "    }\n",
       "\n",
       "    .dataframe thead th {\n",
       "        text-align: right;\n",
       "    }\n",
       "</style>\n",
       "<table border=\"1\" class=\"dataframe\">\n",
       "  <thead>\n",
       "    <tr style=\"text-align: right;\">\n",
       "      <th></th>\n",
       "      <th>clean_kw</th>\n",
       "    </tr>\n",
       "  </thead>\n",
       "  <tbody>\n",
       "    <tr>\n",
       "      <th>0</th>\n",
       "      <td>Josh Riemer</td>\n",
       "    </tr>\n",
       "    <tr>\n",
       "      <th>0</th>\n",
       "      <td>Riemer on Unsplash</td>\n",
       "    </tr>\n",
       "    <tr>\n",
       "      <th>0</th>\n",
       "      <td>Unsplash Merry Christmas</td>\n",
       "    </tr>\n",
       "    <tr>\n",
       "      <th>0</th>\n",
       "      <td>Photo by Josh</td>\n",
       "    </tr>\n",
       "    <tr>\n",
       "      <th>0</th>\n",
       "      <td>Unsplash Merry</td>\n",
       "    </tr>\n",
       "    <tr>\n",
       "      <th>...</th>\n",
       "      <td>...</td>\n",
       "    </tr>\n",
       "    <tr>\n",
       "      <th>4999</th>\n",
       "      <td>Microsoft ’s business</td>\n",
       "    </tr>\n",
       "    <tr>\n",
       "      <th>4999</th>\n",
       "      <td>class Visual implements</td>\n",
       "    </tr>\n",
       "    <tr>\n",
       "      <th>4999</th>\n",
       "      <td>Power BI Service</td>\n",
       "    </tr>\n",
       "    <tr>\n",
       "      <th>4999</th>\n",
       "      <td>tool</td>\n",
       "    </tr>\n",
       "    <tr>\n",
       "      <th>4999</th>\n",
       "      <td>Visual implements</td>\n",
       "    </tr>\n",
       "  </tbody>\n",
       "</table>\n",
       "<p>99572 rows × 1 columns</p>\n",
       "</div>"
      ],
      "text/plain": [
       "                      clean_kw\n",
       "0                  Josh Riemer\n",
       "0           Riemer on Unsplash\n",
       "0     Unsplash Merry Christmas\n",
       "0                Photo by Josh\n",
       "0               Unsplash Merry\n",
       "...                        ...\n",
       "4999     Microsoft ’s business\n",
       "4999   class Visual implements\n",
       "4999          Power BI Service\n",
       "4999                      tool\n",
       "4999         Visual implements\n",
       "\n",
       "[99572 rows x 1 columns]"
      ]
     },
     "execution_count": 24,
     "metadata": {},
     "output_type": "execute_result"
    }
   ],
   "source": [
    "df_kw"
   ]
  },
  {
   "cell_type": "code",
   "execution_count": 48,
   "id": "d63851c6",
   "metadata": {},
   "outputs": [],
   "source": [
    "#transformer = 'all-mpnet-base-v2'  # provides the best quality\n",
    "transformer = 'all-MiniLM-L6-v2'  # 5 times faster and still offers good quality"
   ]
  },
  {
   "cell_type": "code",
   "execution_count": 34,
   "id": "4a5f051a",
   "metadata": {},
   "outputs": [],
   "source": [
    "df_kw = df_kw.drop_duplicates()"
   ]
  },
  {
   "cell_type": "code",
   "execution_count": 90,
   "id": "0578afd0",
   "metadata": {},
   "outputs": [],
   "source": [
    "def cleantext(text):\n",
    "    text = unidecode(text)\n",
    "    text = text.lower()\n",
    "    text = text.strip()\n",
    "    text = text.replace(\"'s\", \"\")\n",
    "    text = text.replace(\"’s\", \"\")\n",
    "    text = text.replace(\"n't\", \"\")\n",
    "    text = text.replace(\"'re\", \"\")\n",
    "    \n",
    "    return text"
   ]
  },
  {
   "cell_type": "code",
   "execution_count": null,
   "id": "b7f8beb4",
   "metadata": {},
   "outputs": [],
   "source": []
  },
  {
   "cell_type": "code",
   "execution_count": 91,
   "id": "3f58bf42",
   "metadata": {},
   "outputs": [
    {
     "name": "stderr",
     "output_type": "stream",
     "text": [
      "100%|████████████████████████████████████████████████████████████████████████| 51958/51958 [00:00<00:00, 604164.71it/s]\n"
     ]
    }
   ],
   "source": [
    "df_kw['clean_kw'] = df_kw['clean_kw'].progress_apply(cleantext)"
   ]
  },
  {
   "cell_type": "code",
   "execution_count": 92,
   "id": "f9a0a2d6",
   "metadata": {},
   "outputs": [],
   "source": [
    "df_kw = df_kw.drop_duplicates()"
   ]
  },
  {
   "cell_type": "code",
   "execution_count": 93,
   "id": "15d06b29",
   "metadata": {},
   "outputs": [
    {
     "data": {
      "text/plain": [
       "51777"
      ]
     },
     "execution_count": 93,
     "metadata": {},
     "output_type": "execute_result"
    }
   ],
   "source": [
    "len(df_kw)"
   ]
  },
  {
   "cell_type": "code",
   "execution_count": 159,
   "id": "10ee3a47",
   "metadata": {},
   "outputs": [],
   "source": [
    "# store the data\n",
    "cluster_name_list = []\n",
    "corpus_sentences_list = []\n",
    "df_all = []"
   ]
  },
  {
   "cell_type": "code",
   "execution_count": 160,
   "id": "c48d0166",
   "metadata": {},
   "outputs": [],
   "source": [
    "corpus_set = set(df_kw['clean_kw'].head(10000))\n",
    "# corpus_set = set(df_kw['clean_kw'])\n",
    "corpus_set_all = corpus_set\n",
    "cluster = True"
   ]
  },
  {
   "cell_type": "code",
   "execution_count": 161,
   "id": "fdff6430",
   "metadata": {
    "scrolled": true
   },
   "outputs": [
    {
     "data": {
      "text/plain": [
       "10000"
      ]
     },
     "execution_count": 161,
     "metadata": {},
     "output_type": "execute_result"
    }
   ],
   "source": [
    "len(corpus_set)"
   ]
  },
  {
   "cell_type": "code",
   "execution_count": 162,
   "id": "640ab7cc",
   "metadata": {},
   "outputs": [],
   "source": [
    "cluster_accuracy = 78  # 0-100 (100 = very tight clusters, but higher percentage of no_cluster groups)\n",
    "min_cluster_size = 5  # set the minimum size of cluster groups. (Lower number = tighter groups)"
   ]
  },
  {
   "cell_type": "code",
   "execution_count": null,
   "id": "e1041a5a",
   "metadata": {},
   "outputs": [],
   "source": []
  },
  {
   "cell_type": "code",
   "execution_count": null,
   "id": "35bebf10",
   "metadata": {
    "scrolled": false
   },
   "outputs": [],
   "source": [
    "# keep looping through until no more clusters are created\n",
    "\n",
    "cluster_accuracy = cluster_accuracy / 100\n",
    "model = SentenceTransformer(transformer)#, device='cuda')\n",
    "\n",
    "while cluster:\n",
    "\n",
    "    corpus_sentences = list(corpus_set)\n",
    "    check_len = len(corpus_sentences)\n",
    "\n",
    "    corpus_embeddings = model.encode(corpus_sentences, batch_size=256, show_progress_bar=True, convert_to_tensor=True)\n",
    "    clusters = util.community_detection(corpus_embeddings, min_community_size=min_cluster_size, threshold=cluster_accuracy)#, init_max_size=len(corpus_embeddings))\n",
    "\n",
    "    for keyword, cluster in enumerate(clusters):\n",
    "        print(\"\\nCluster {}, #{} Elements \".format(keyword + 1, len(cluster)))\n",
    "\n",
    "        for sentence_id in cluster[0:]:\n",
    "            print(\"\\t\", corpus_sentences[sentence_id])\n",
    "            corpus_sentences_list.append(corpus_sentences[sentence_id])\n",
    "            cluster_name_list.append(\"Cluster {}, #{} Elements \".format(keyword + 1, len(cluster)))\n",
    "\n",
    "    df_new = pd.DataFrame(None)\n",
    "    df_new['Cluster Name'] = cluster_name_list\n",
    "    df_new[\"Keyword\"] = corpus_sentences_list\n",
    "\n",
    "    df_all.append(df_new)\n",
    "    have = set(df_new[\"Keyword\"])\n",
    "\n",
    "    corpus_set = corpus_set_all - have\n",
    "    remaining = len(corpus_set)\n",
    "    print(\"Total Unclustered Keywords: \", remaining)\n",
    "    if check_len == remaining:\n",
    "        break"
   ]
  },
  {
   "cell_type": "code",
   "execution_count": 224,
   "id": "c093352d",
   "metadata": {},
   "outputs": [],
   "source": [
    "df_new[['Cluster','Num_elements']] = df_new['Cluster Name'].str.split(\",\", expand=True)"
   ]
  },
  {
   "cell_type": "code",
   "execution_count": 123,
   "id": "4ae9a483",
   "metadata": {},
   "outputs": [],
   "source": [
    "df_new = df_new[['Cluster', 'Keyword', 'Num_elements']]"
   ]
  },
  {
   "cell_type": "code",
   "execution_count": 126,
   "id": "6e13a181",
   "metadata": {},
   "outputs": [],
   "source": [
    "df_new['len'] = df_new['Keyword'].str.len()"
   ]
  },
  {
   "cell_type": "code",
   "execution_count": 144,
   "id": "718580d6",
   "metadata": {},
   "outputs": [
    {
     "data": {
      "text/html": [
       "<div>\n",
       "<style scoped>\n",
       "    .dataframe tbody tr th:only-of-type {\n",
       "        vertical-align: middle;\n",
       "    }\n",
       "\n",
       "    .dataframe tbody tr th {\n",
       "        vertical-align: top;\n",
       "    }\n",
       "\n",
       "    .dataframe thead th {\n",
       "        text-align: right;\n",
       "    }\n",
       "</style>\n",
       "<table border=\"1\" class=\"dataframe\">\n",
       "  <thead>\n",
       "    <tr style=\"text-align: right;\">\n",
       "      <th></th>\n",
       "      <th>Cluster</th>\n",
       "      <th>Keyword</th>\n",
       "      <th>Num_elements</th>\n",
       "      <th>len</th>\n",
       "    </tr>\n",
       "  </thead>\n",
       "  <tbody>\n",
       "    <tr>\n",
       "      <th>1980</th>\n",
       "      <td>Cluster 54</td>\n",
       "      <td>facebook</td>\n",
       "      <td>#10 Elements</td>\n",
       "      <td>8</td>\n",
       "    </tr>\n",
       "    <tr>\n",
       "      <th>511</th>\n",
       "      <td>Cluster 54</td>\n",
       "      <td>psychology</td>\n",
       "      <td>#7 Elements</td>\n",
       "      <td>10</td>\n",
       "    </tr>\n",
       "    <tr>\n",
       "      <th>1988</th>\n",
       "      <td>Cluster 54</td>\n",
       "      <td>social media</td>\n",
       "      <td>#10 Elements</td>\n",
       "      <td>12</td>\n",
       "    </tr>\n",
       "    <tr>\n",
       "      <th>1979</th>\n",
       "      <td>Cluster 54</td>\n",
       "      <td>facebook post</td>\n",
       "      <td>#10 Elements</td>\n",
       "      <td>13</td>\n",
       "    </tr>\n",
       "    <tr>\n",
       "      <th>1983</th>\n",
       "      <td>Cluster 54</td>\n",
       "      <td>facebook auto</td>\n",
       "      <td>#10 Elements</td>\n",
       "      <td>13</td>\n",
       "    </tr>\n",
       "    <tr>\n",
       "      <th>1985</th>\n",
       "      <td>Cluster 54</td>\n",
       "      <td>facebook page</td>\n",
       "      <td>#10 Elements</td>\n",
       "      <td>13</td>\n",
       "    </tr>\n",
       "    <tr>\n",
       "      <th>1981</th>\n",
       "      <td>Cluster 54</td>\n",
       "      <td>facebook group</td>\n",
       "      <td>#10 Elements</td>\n",
       "      <td>14</td>\n",
       "    </tr>\n",
       "    <tr>\n",
       "      <th>1986</th>\n",
       "      <td>Cluster 54</td>\n",
       "      <td>check facebook</td>\n",
       "      <td>#10 Elements</td>\n",
       "      <td>14</td>\n",
       "    </tr>\n",
       "    <tr>\n",
       "      <th>514</th>\n",
       "      <td>Cluster 54</td>\n",
       "      <td>psychology today</td>\n",
       "      <td>#7 Elements</td>\n",
       "      <td>16</td>\n",
       "    </tr>\n",
       "    <tr>\n",
       "      <th>1987</th>\n",
       "      <td>Cluster 54</td>\n",
       "      <td>facebook account</td>\n",
       "      <td>#10 Elements</td>\n",
       "      <td>16</td>\n",
       "    </tr>\n",
       "    <tr>\n",
       "      <th>509</th>\n",
       "      <td>Cluster 54</td>\n",
       "      <td>behavioral science</td>\n",
       "      <td>#7 Elements</td>\n",
       "      <td>18</td>\n",
       "    </tr>\n",
       "    <tr>\n",
       "      <th>512</th>\n",
       "      <td>Cluster 54</td>\n",
       "      <td>american psychology</td>\n",
       "      <td>#7 Elements</td>\n",
       "      <td>19</td>\n",
       "    </tr>\n",
       "    <tr>\n",
       "      <th>1982</th>\n",
       "      <td>Cluster 54</td>\n",
       "      <td>google and facebook</td>\n",
       "      <td>#10 Elements</td>\n",
       "      <td>19</td>\n",
       "    </tr>\n",
       "    <tr>\n",
       "      <th>1984</th>\n",
       "      <td>Cluster 54</td>\n",
       "      <td>facebook explicitly</td>\n",
       "      <td>#10 Elements</td>\n",
       "      <td>19</td>\n",
       "    </tr>\n",
       "    <tr>\n",
       "      <th>515</th>\n",
       "      <td>Cluster 54</td>\n",
       "      <td>psychology intersect</td>\n",
       "      <td>#7 Elements</td>\n",
       "      <td>20</td>\n",
       "    </tr>\n",
       "    <tr>\n",
       "      <th>513</th>\n",
       "      <td>Cluster 54</td>\n",
       "      <td>psychology association</td>\n",
       "      <td>#7 Elements</td>\n",
       "      <td>22</td>\n",
       "    </tr>\n",
       "    <tr>\n",
       "      <th>510</th>\n",
       "      <td>Cluster 54</td>\n",
       "      <td>science and psychology</td>\n",
       "      <td>#7 Elements</td>\n",
       "      <td>22</td>\n",
       "    </tr>\n",
       "  </tbody>\n",
       "</table>\n",
       "</div>"
      ],
      "text/plain": [
       "         Cluster                 Keyword    Num_elements  len\n",
       "1980  Cluster 54                facebook   #10 Elements     8\n",
       "511   Cluster 54              psychology    #7 Elements    10\n",
       "1988  Cluster 54            social media   #10 Elements    12\n",
       "1979  Cluster 54           facebook post   #10 Elements    13\n",
       "1983  Cluster 54           facebook auto   #10 Elements    13\n",
       "1985  Cluster 54           facebook page   #10 Elements    13\n",
       "1981  Cluster 54          facebook group   #10 Elements    14\n",
       "1986  Cluster 54          check facebook   #10 Elements    14\n",
       "514   Cluster 54        psychology today    #7 Elements    16\n",
       "1987  Cluster 54        facebook account   #10 Elements    16\n",
       "509   Cluster 54      behavioral science    #7 Elements    18\n",
       "512   Cluster 54     american psychology    #7 Elements    19\n",
       "1982  Cluster 54     google and facebook   #10 Elements    19\n",
       "1984  Cluster 54     facebook explicitly   #10 Elements    19\n",
       "515   Cluster 54    psychology intersect    #7 Elements    20\n",
       "513   Cluster 54  psychology association    #7 Elements    22\n",
       "510   Cluster 54  science and psychology    #7 Elements    22"
      ]
     },
     "execution_count": 144,
     "metadata": {},
     "output_type": "execute_result"
    }
   ],
   "source": [
    "df_new[df_new['Cluster']=='Cluster 54'].sort_values(by='len')"
   ]
  },
  {
   "cell_type": "code",
   "execution_count": null,
   "id": "9f5e5882",
   "metadata": {},
   "outputs": [],
   "source": []
  },
  {
   "cell_type": "code",
   "execution_count": 131,
   "id": "969c140e",
   "metadata": {},
   "outputs": [
    {
     "data": {
      "text/html": [
       "<div>\n",
       "<style scoped>\n",
       "    .dataframe tbody tr th:only-of-type {\n",
       "        vertical-align: middle;\n",
       "    }\n",
       "\n",
       "    .dataframe tbody tr th {\n",
       "        vertical-align: top;\n",
       "    }\n",
       "\n",
       "    .dataframe thead th {\n",
       "        text-align: right;\n",
       "    }\n",
       "</style>\n",
       "<table border=\"1\" class=\"dataframe\">\n",
       "  <thead>\n",
       "    <tr style=\"text-align: right;\">\n",
       "      <th></th>\n",
       "      <th>Cluster</th>\n",
       "      <th>Keyword</th>\n",
       "      <th>Num_elements</th>\n",
       "      <th>len</th>\n",
       "    </tr>\n",
       "  </thead>\n",
       "  <tbody>\n",
       "    <tr>\n",
       "      <th>2345</th>\n",
       "      <td>Cluster 94</td>\n",
       "      <td>health concerns</td>\n",
       "      <td>#8 Elements</td>\n",
       "      <td>15</td>\n",
       "    </tr>\n",
       "    <tr>\n",
       "      <th>2347</th>\n",
       "      <td>Cluster 94</td>\n",
       "      <td>physical health</td>\n",
       "      <td>#8 Elements</td>\n",
       "      <td>15</td>\n",
       "    </tr>\n",
       "    <tr>\n",
       "      <th>761</th>\n",
       "      <td>Cluster 94</td>\n",
       "      <td>habit loop model</td>\n",
       "      <td>#6 Elements</td>\n",
       "      <td>16</td>\n",
       "    </tr>\n",
       "    <tr>\n",
       "      <th>762</th>\n",
       "      <td>Cluster 94</td>\n",
       "      <td>habit loop award</td>\n",
       "      <td>#6 Elements</td>\n",
       "      <td>16</td>\n",
       "    </tr>\n",
       "    <tr>\n",
       "      <th>763</th>\n",
       "      <td>Cluster 94</td>\n",
       "      <td>habit loop provides</td>\n",
       "      <td>#6 Elements</td>\n",
       "      <td>19</td>\n",
       "    </tr>\n",
       "    <tr>\n",
       "      <th>...</th>\n",
       "      <td>...</td>\n",
       "      <td>...</td>\n",
       "      <td>...</td>\n",
       "      <td>...</td>\n",
       "    </tr>\n",
       "    <tr>\n",
       "      <th>2381</th>\n",
       "      <td>Cluster 99</td>\n",
       "      <td>partner program story</td>\n",
       "      <td>#8 Elements</td>\n",
       "      <td>21</td>\n",
       "    </tr>\n",
       "    <tr>\n",
       "      <th>2385</th>\n",
       "      <td>Cluster 99</td>\n",
       "      <td>medium partner program</td>\n",
       "      <td>#8 Elements</td>\n",
       "      <td>22</td>\n",
       "    </tr>\n",
       "    <tr>\n",
       "      <th>2386</th>\n",
       "      <td>Cluster 99</td>\n",
       "      <td>partner program change</td>\n",
       "      <td>#8 Elements</td>\n",
       "      <td>22</td>\n",
       "    </tr>\n",
       "    <tr>\n",
       "      <th>2383</th>\n",
       "      <td>Cluster 99</td>\n",
       "      <td>partner program payments</td>\n",
       "      <td>#8 Elements</td>\n",
       "      <td>24</td>\n",
       "    </tr>\n",
       "    <tr>\n",
       "      <th>2387</th>\n",
       "      <td>Cluster 99</td>\n",
       "      <td>medium partnership program</td>\n",
       "      <td>#8 Elements</td>\n",
       "      <td>26</td>\n",
       "    </tr>\n",
       "  </tbody>\n",
       "</table>\n",
       "<p>75 rows × 4 columns</p>\n",
       "</div>"
      ],
      "text/plain": [
       "         Cluster                     Keyword   Num_elements  len\n",
       "2345  Cluster 94             health concerns   #8 Elements    15\n",
       "2347  Cluster 94             physical health   #8 Elements    15\n",
       "761   Cluster 94            habit loop model   #6 Elements    16\n",
       "762   Cluster 94            habit loop award   #6 Elements    16\n",
       "763   Cluster 94         habit loop provides   #6 Elements    19\n",
       "...          ...                         ...            ...  ...\n",
       "2381  Cluster 99       partner program story   #8 Elements    21\n",
       "2385  Cluster 99      medium partner program   #8 Elements    22\n",
       "2386  Cluster 99      partner program change   #8 Elements    22\n",
       "2383  Cluster 99    partner program payments   #8 Elements    24\n",
       "2387  Cluster 99  medium partnership program   #8 Elements    26\n",
       "\n",
       "[75 rows x 4 columns]"
      ]
     },
     "execution_count": 131,
     "metadata": {},
     "output_type": "execute_result"
    }
   ],
   "source": [
    "df_new.sort_values(by=['Cluster','len'], ascending=[True, True]).tail(75)"
   ]
  },
  {
   "cell_type": "code",
   "execution_count": 132,
   "id": "c9cadc58",
   "metadata": {},
   "outputs": [
    {
     "data": {
      "text/html": [
       "<div>\n",
       "<style scoped>\n",
       "    .dataframe tbody tr th:only-of-type {\n",
       "        vertical-align: middle;\n",
       "    }\n",
       "\n",
       "    .dataframe tbody tr th {\n",
       "        vertical-align: top;\n",
       "    }\n",
       "\n",
       "    .dataframe thead th {\n",
       "        text-align: right;\n",
       "    }\n",
       "</style>\n",
       "<table border=\"1\" class=\"dataframe\">\n",
       "  <thead>\n",
       "    <tr style=\"text-align: right;\">\n",
       "      <th></th>\n",
       "      <th>Cluster</th>\n",
       "      <th>Keyword</th>\n",
       "      <th>Num_elements</th>\n",
       "      <th>len</th>\n",
       "    </tr>\n",
       "  </thead>\n",
       "  <tbody>\n",
       "    <tr>\n",
       "      <th>10</th>\n",
       "      <td>Cluster 1</td>\n",
       "      <td>write</td>\n",
       "      <td>#29 Elements</td>\n",
       "      <td>5</td>\n",
       "    </tr>\n",
       "    <tr>\n",
       "      <th>1436</th>\n",
       "      <td>Cluster 10</td>\n",
       "      <td>book</td>\n",
       "      <td>#15 Elements</td>\n",
       "      <td>4</td>\n",
       "    </tr>\n",
       "    <tr>\n",
       "      <th>2396</th>\n",
       "      <td>Cluster 100</td>\n",
       "      <td>asia</td>\n",
       "      <td>#8 Elements</td>\n",
       "      <td>4</td>\n",
       "    </tr>\n",
       "    <tr>\n",
       "      <th>803</th>\n",
       "      <td>Cluster 101</td>\n",
       "      <td>dream</td>\n",
       "      <td>#6 Elements</td>\n",
       "      <td>5</td>\n",
       "    </tr>\n",
       "    <tr>\n",
       "      <th>2409</th>\n",
       "      <td>Cluster 102</td>\n",
       "      <td>code</td>\n",
       "      <td>#8 Elements</td>\n",
       "      <td>4</td>\n",
       "    </tr>\n",
       "    <tr>\n",
       "      <th>...</th>\n",
       "      <td>...</td>\n",
       "      <td>...</td>\n",
       "      <td>...</td>\n",
       "      <td>...</td>\n",
       "    </tr>\n",
       "    <tr>\n",
       "      <th>768</th>\n",
       "      <td>Cluster 95</td>\n",
       "      <td>walk</td>\n",
       "      <td>#6 Elements</td>\n",
       "      <td>4</td>\n",
       "    </tr>\n",
       "    <tr>\n",
       "      <th>772</th>\n",
       "      <td>Cluster 96</td>\n",
       "      <td>joel</td>\n",
       "      <td>#6 Elements</td>\n",
       "      <td>4</td>\n",
       "    </tr>\n",
       "    <tr>\n",
       "      <th>2369</th>\n",
       "      <td>Cluster 97</td>\n",
       "      <td>adhd</td>\n",
       "      <td>#8 Elements</td>\n",
       "      <td>4</td>\n",
       "    </tr>\n",
       "    <tr>\n",
       "      <th>787</th>\n",
       "      <td>Cluster 98</td>\n",
       "      <td>cell</td>\n",
       "      <td>#6 Elements</td>\n",
       "      <td>4</td>\n",
       "    </tr>\n",
       "    <tr>\n",
       "      <th>794</th>\n",
       "      <td>Cluster 99</td>\n",
       "      <td>von</td>\n",
       "      <td>#6 Elements</td>\n",
       "      <td>3</td>\n",
       "    </tr>\n",
       "  </tbody>\n",
       "</table>\n",
       "<p>403 rows × 4 columns</p>\n",
       "</div>"
      ],
      "text/plain": [
       "          Cluster Keyword    Num_elements  len\n",
       "10      Cluster 1   write   #29 Elements     5\n",
       "1436   Cluster 10    book   #15 Elements     4\n",
       "2396  Cluster 100    asia    #8 Elements     4\n",
       "803   Cluster 101   dream    #6 Elements     5\n",
       "2409  Cluster 102    code    #8 Elements     4\n",
       "...           ...     ...             ...  ...\n",
       "768    Cluster 95    walk    #6 Elements     4\n",
       "772    Cluster 96    joel    #6 Elements     4\n",
       "2369   Cluster 97    adhd    #8 Elements     4\n",
       "787    Cluster 98    cell    #6 Elements     4\n",
       "794    Cluster 99     von    #6 Elements     3\n",
       "\n",
       "[403 rows x 4 columns]"
      ]
     },
     "execution_count": 132,
     "metadata": {},
     "output_type": "execute_result"
    }
   ],
   "source": [
    "df_new.sort_values(by=['Cluster','len'], ascending=[True, True]).drop_duplicates(\"Cluster\")"
   ]
  },
  {
   "cell_type": "raw",
   "id": "35de96e1",
   "metadata": {},
   "source": [
    "# make a new dataframe from the list of dataframe and merge back into the orginal df\n",
    "df_new = pd.concat(df_all)\n",
    "df = df.merge(df_new.drop_duplicates('Keyword'), how='left', on=\"Keyword\")"
   ]
  },
  {
   "cell_type": "raw",
   "id": "641311dc",
   "metadata": {},
   "source": [
    "# rename the clusters to the shortest keyword in the cluster\n",
    "df['Length'] = df['Keyword'].astype(str).map(len)\n",
    "df = df.sort_values(by=\"Length\", ascending=True)\n",
    "\n",
    "df['Cluster Name'] = df.groupby('Cluster Name')['Keyword'].transform('first')\n",
    "df.sort_values(['Cluster Name', \"Keyword\"], ascending=[True, True], inplace=True)\n",
    "\n",
    "df['Cluster Name'] = df['Cluster Name'].fillna(\"zzz_no_cluster\")\n",
    "\n",
    "del df['Length']"
   ]
  },
  {
   "cell_type": "raw",
   "id": "6b0dacad",
   "metadata": {},
   "source": [
    "# move the cluster and keyword columns to the front\n",
    "col = df.pop(\"Keyword\")\n",
    "df.insert(0, col.name, col)\n",
    "\n",
    "col = df.pop('Cluster Name')\n",
    "df.insert(0, col.name, col)\n",
    "\n",
    "df.sort_values([\"Cluster Name\", \"Keyword\"], ascending=[True, True], inplace=True)"
   ]
  },
  {
   "cell_type": "raw",
   "id": "fa502c02",
   "metadata": {},
   "source": [
    "uncluster_percent = (remaining / count_rows) * 100\n",
    "clustered_percent = 100 - uncluster_percent\n",
    "print(clustered_percent,\"% of rows clustered successfully!\")"
   ]
  },
  {
   "cell_type": "code",
   "execution_count": 164,
   "id": "a92841d8",
   "metadata": {},
   "outputs": [],
   "source": [
    "def levenshteinDistance(s1, s2):\n",
    "    if len(s1) > len(s2):\n",
    "        s1, s2 = s2, s1\n",
    "\n",
    "    distances = range(len(s1) + 1)\n",
    "    for i2, c2 in enumerate(s2):\n",
    "        distances_ = [i2+1]\n",
    "        for i1, c1 in enumerate(s1):\n",
    "            if c1 == c2:\n",
    "                distances_.append(distances[i1])\n",
    "            else:\n",
    "                distances_.append(1 + min((distances[i1], distances[i1 + 1], distances_[-1])))\n",
    "        distances = distances_\n",
    "    return distances[-1]"
   ]
  },
  {
   "cell_type": "code",
   "execution_count": 261,
   "id": "4c24ac10",
   "metadata": {},
   "outputs": [],
   "source": [
    "def name_cluster(cluster_kw_list):\n",
    "    outlist = []\n",
    "    for x in cluster_kw_list:\n",
    "        for y in cluster_kw_list:\n",
    "#             print(levenshteinDistance(x, y), x, y)\n",
    "            outlist.append([levenshteinDistance(x, y), x, y])\n",
    "\n",
    "    df_edit = pd.DataFrame(outlist).rename(columns={0: 'Edit', 1:'Kw1', 2:'Kw2'})\n",
    "    print(df_edit)\n",
    "    try:\n",
    "        df_edit = df_edit[df_edit['Edit']>0]\n",
    "\n",
    "        sel_index = df_edit[df_edit['Edit'] == df_edit['Edit'].min()].Kw1.str.len().sort_values().index[0]\n",
    "\n",
    "        cluster_name = df_edit.iloc[sel_index].Kw1\n",
    "    except:\n",
    "        print(\"Whoops\")\n",
    "        cluster_name = df_edit['Kw1'][0]\n",
    "    return cluster_name"
   ]
  },
  {
   "cell_type": "code",
   "execution_count": 185,
   "id": "9b7a0320",
   "metadata": {},
   "outputs": [
    {
     "data": {
      "text/plain": [
       "'kanye west fan'"
      ]
     },
     "execution_count": 185,
     "metadata": {},
     "output_type": "execute_result"
    }
   ],
   "source": [
    "df_edit.loc[df_edit[df_edit['Edit'] == df_edit[df_edit['Edit']>0]['Edit'].min()]['Kw1'].str.len().min()].Kw2"
   ]
  },
  {
   "cell_type": "code",
   "execution_count": 227,
   "id": "20a59a70",
   "metadata": {},
   "outputs": [
    {
     "data": {
      "text/plain": [
       "'Cluster 1'"
      ]
     },
     "execution_count": 227,
     "metadata": {},
     "output_type": "execute_result"
    }
   ],
   "source": [
    "df_new['Cluster'][0]"
   ]
  },
  {
   "cell_type": "code",
   "execution_count": 252,
   "id": "77a49754",
   "metadata": {},
   "outputs": [],
   "source": [
    "def namecluster(num):\n",
    "    abc = df_new[df_new['Cluster'] == f'Cluster {num}']['Keyword'].tolist()\n",
    "    print(abc)\n",
    "    return name_cluster(abc)"
   ]
  },
  {
   "cell_type": "code",
   "execution_count": 262,
   "id": "8ecaf86d",
   "metadata": {},
   "outputs": [
    {
     "name": "stdout",
     "output_type": "stream",
     "text": [
      "['writing skills', 'writes', 'living writing', 'writing by hand', 'story writing', ' writing', 'write', 'writing', 'writer', 'learned writing', 'writers', 'love writing', 'type of writing', 'writing thing work', 'human writing', 'skill for writing', 'writing thing']\n",
      "     Edit             Kw1                 Kw2\n",
      "0       0  writing skills      writing skills\n",
      "1       9  writing skills              writes\n",
      "2       9  writing skills      living writing\n",
      "3       7  writing skills     writing by hand\n",
      "4      12  writing skills       story writing\n",
      "..    ...             ...                 ...\n",
      "284    11   writing thing     type of writing\n",
      "285     5   writing thing  writing thing work\n",
      "286    10   writing thing       human writing\n",
      "287    12   writing thing   skill for writing\n",
      "288     0   writing thing       writing thing\n",
      "\n",
      "[289 rows x 3 columns]\n"
     ]
    },
    {
     "data": {
      "text/plain": [
       "'write'"
      ]
     },
     "execution_count": 262,
     "metadata": {},
     "output_type": "execute_result"
    }
   ],
   "source": [
    "namecluster(1)"
   ]
  },
  {
   "cell_type": "code",
   "execution_count": null,
   "id": "f8d759f7",
   "metadata": {},
   "outputs": [],
   "source": []
  },
  {
   "cell_type": "code",
   "execution_count": null,
   "id": "058c785e",
   "metadata": {},
   "outputs": [],
   "source": []
  },
  {
   "cell_type": "code",
   "execution_count": null,
   "id": "31f9bc0b",
   "metadata": {},
   "outputs": [],
   "source": []
  },
  {
   "cell_type": "code",
   "execution_count": 245,
   "id": "a637dfdf",
   "metadata": {},
   "outputs": [
    {
     "data": {
      "text/html": [
       "<div>\n",
       "<style scoped>\n",
       "    .dataframe tbody tr th:only-of-type {\n",
       "        vertical-align: middle;\n",
       "    }\n",
       "\n",
       "    .dataframe tbody tr th {\n",
       "        vertical-align: top;\n",
       "    }\n",
       "\n",
       "    .dataframe thead th {\n",
       "        text-align: right;\n",
       "    }\n",
       "</style>\n",
       "<table border=\"1\" class=\"dataframe\">\n",
       "  <thead>\n",
       "    <tr style=\"text-align: right;\">\n",
       "      <th></th>\n",
       "      <th>Cluster Name</th>\n",
       "      <th>Keyword</th>\n",
       "      <th>Cluster</th>\n",
       "      <th>Num_elements</th>\n",
       "    </tr>\n",
       "  </thead>\n",
       "  <tbody>\n",
       "    <tr>\n",
       "      <th>0</th>\n",
       "      <td>Cluster 1, #17 Elements</td>\n",
       "      <td>writing skills</td>\n",
       "      <td>Cluster 1</td>\n",
       "      <td>#17 Elements</td>\n",
       "    </tr>\n",
       "    <tr>\n",
       "      <th>1</th>\n",
       "      <td>Cluster 1, #17 Elements</td>\n",
       "      <td>writes</td>\n",
       "      <td>Cluster 1</td>\n",
       "      <td>#17 Elements</td>\n",
       "    </tr>\n",
       "    <tr>\n",
       "      <th>2</th>\n",
       "      <td>Cluster 1, #17 Elements</td>\n",
       "      <td>living writing</td>\n",
       "      <td>Cluster 1</td>\n",
       "      <td>#17 Elements</td>\n",
       "    </tr>\n",
       "    <tr>\n",
       "      <th>3</th>\n",
       "      <td>Cluster 1, #17 Elements</td>\n",
       "      <td>writing by hand</td>\n",
       "      <td>Cluster 1</td>\n",
       "      <td>#17 Elements</td>\n",
       "    </tr>\n",
       "    <tr>\n",
       "      <th>4</th>\n",
       "      <td>Cluster 1, #17 Elements</td>\n",
       "      <td>story writing</td>\n",
       "      <td>Cluster 1</td>\n",
       "      <td>#17 Elements</td>\n",
       "    </tr>\n",
       "    <tr>\n",
       "      <th>...</th>\n",
       "      <td>...</td>\n",
       "      <td>...</td>\n",
       "      <td>...</td>\n",
       "      <td>...</td>\n",
       "    </tr>\n",
       "    <tr>\n",
       "      <th>965</th>\n",
       "      <td>Cluster 157, #5 Elements</td>\n",
       "      <td>marketing strategies</td>\n",
       "      <td>Cluster 157</td>\n",
       "      <td>#5 Elements</td>\n",
       "    </tr>\n",
       "    <tr>\n",
       "      <th>966</th>\n",
       "      <td>Cluster 157, #5 Elements</td>\n",
       "      <td>content marketing</td>\n",
       "      <td>Cluster 157</td>\n",
       "      <td>#5 Elements</td>\n",
       "    </tr>\n",
       "    <tr>\n",
       "      <th>967</th>\n",
       "      <td>Cluster 157, #5 Elements</td>\n",
       "      <td>taking marketing</td>\n",
       "      <td>Cluster 157</td>\n",
       "      <td>#5 Elements</td>\n",
       "    </tr>\n",
       "    <tr>\n",
       "      <th>968</th>\n",
       "      <td>Cluster 157, #5 Elements</td>\n",
       "      <td>media marketing</td>\n",
       "      <td>Cluster 157</td>\n",
       "      <td>#5 Elements</td>\n",
       "    </tr>\n",
       "    <tr>\n",
       "      <th>969</th>\n",
       "      <td>Cluster 157, #5 Elements</td>\n",
       "      <td>marketing</td>\n",
       "      <td>Cluster 157</td>\n",
       "      <td>#5 Elements</td>\n",
       "    </tr>\n",
       "  </tbody>\n",
       "</table>\n",
       "<p>970 rows × 4 columns</p>\n",
       "</div>"
      ],
      "text/plain": [
       "                  Cluster Name               Keyword      Cluster  \\\n",
       "0     Cluster 1, #17 Elements         writing skills    Cluster 1   \n",
       "1     Cluster 1, #17 Elements                 writes    Cluster 1   \n",
       "2     Cluster 1, #17 Elements         living writing    Cluster 1   \n",
       "3     Cluster 1, #17 Elements        writing by hand    Cluster 1   \n",
       "4     Cluster 1, #17 Elements          story writing    Cluster 1   \n",
       "..                         ...                   ...          ...   \n",
       "965  Cluster 157, #5 Elements   marketing strategies  Cluster 157   \n",
       "966  Cluster 157, #5 Elements      content marketing  Cluster 157   \n",
       "967  Cluster 157, #5 Elements       taking marketing  Cluster 157   \n",
       "968  Cluster 157, #5 Elements        media marketing  Cluster 157   \n",
       "969  Cluster 157, #5 Elements              marketing  Cluster 157   \n",
       "\n",
       "       Num_elements  \n",
       "0     #17 Elements   \n",
       "1     #17 Elements   \n",
       "2     #17 Elements   \n",
       "3     #17 Elements   \n",
       "4     #17 Elements   \n",
       "..              ...  \n",
       "965    #5 Elements   \n",
       "966    #5 Elements   \n",
       "967    #5 Elements   \n",
       "968    #5 Elements   \n",
       "969    #5 Elements   \n",
       "\n",
       "[970 rows x 4 columns]"
      ]
     },
     "execution_count": 245,
     "metadata": {},
     "output_type": "execute_result"
    }
   ],
   "source": [
    "df_new"
   ]
  },
  {
   "cell_type": "code",
   "execution_count": null,
   "id": "09f697b9",
   "metadata": {},
   "outputs": [],
   "source": []
  }
 ],
 "metadata": {
  "kernelspec": {
   "display_name": "nlp_swifter",
   "language": "python",
   "name": "nlp_swifter"
  },
  "language_info": {
   "codemirror_mode": {
    "name": "ipython",
    "version": 3
   },
   "file_extension": ".py",
   "mimetype": "text/x-python",
   "name": "python",
   "nbconvert_exporter": "python",
   "pygments_lexer": "ipython3",
   "version": "3.10.6"
  }
 },
 "nbformat": 4,
 "nbformat_minor": 5
}
